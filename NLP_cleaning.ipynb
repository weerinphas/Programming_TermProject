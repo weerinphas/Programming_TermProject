{
  "nbformat": 4,
  "nbformat_minor": 5,
  "metadata": {
    "kernelspec": {
      "display_name": "Python 3",
      "language": "python",
      "name": "python3"
    },
    "language_info": {
      "codemirror_mode": {
        "name": "ipython",
        "version": 3
      },
      "file_extension": ".py",
      "mimetype": "text/x-python",
      "name": "python",
      "nbconvert_exporter": "python",
      "pygments_lexer": "ipython3",
      "version": "3.8.8"
    },
    "colab": {
      "name": "NLP_cleaning.ipynb",
      "provenance": []
    }
  },
  "cells": [
    {
      "cell_type": "code",
      "metadata": {
        "id": "9a4f562a"
      },
      "source": [
        "import pandas as pd\n",
        "import numpy as np\n",
        "import seaborn as sns\n",
        "import matplotlib.pyplot as plt\n",
        "from sklearn.feature_extraction.text import CountVectorizer\n",
        "import nltk \n",
        "import string\n",
        "import re\n",
        "%matplotlib inline"
      ],
      "id": "9a4f562a",
      "execution_count": null,
      "outputs": []
    },
    {
      "cell_type": "code",
      "metadata": {
        "id": "28667fcb"
      },
      "source": [
        "xlsx = pd.ExcelFile('depressed.xlsx')"
      ],
      "id": "28667fcb",
      "execution_count": null,
      "outputs": []
    },
    {
      "cell_type": "code",
      "metadata": {
        "colab": {
          "base_uri": "https://localhost:8080/",
          "height": 825
        },
        "id": "da9898f0",
        "outputId": "71d5037d-33b2-4116-953e-c888b90ac89c"
      },
      "source": [
        "data = pd.read_excel(xlsx, 'RapidMiner Data',header=0)\n",
        "data"
      ],
      "id": "da9898f0",
      "execution_count": null,
      "outputs": [
        {
          "output_type": "execute_result",
          "data": {
            "text/html": [
              "<div>\n",
              "<style scoped>\n",
              "    .dataframe tbody tr th:only-of-type {\n",
              "        vertical-align: middle;\n",
              "    }\n",
              "\n",
              "    .dataframe tbody tr th {\n",
              "        vertical-align: top;\n",
              "    }\n",
              "\n",
              "    .dataframe thead th {\n",
              "        text-align: right;\n",
              "    }\n",
              "</style>\n",
              "<table border=\"1\" class=\"dataframe\">\n",
              "  <thead>\n",
              "    <tr style=\"text-align: right;\">\n",
              "      <th></th>\n",
              "      <th>Created-At</th>\n",
              "      <th>From-User</th>\n",
              "      <th>From-User-Id</th>\n",
              "      <th>To-User</th>\n",
              "      <th>To-User-Id</th>\n",
              "      <th>Language</th>\n",
              "      <th>Source</th>\n",
              "      <th>Text</th>\n",
              "      <th>Geo-Location-Latitude</th>\n",
              "      <th>Geo-Location-Longitude</th>\n",
              "      <th>Retweet-Count</th>\n",
              "      <th>Id</th>\n",
              "    </tr>\n",
              "  </thead>\n",
              "  <tbody>\n",
              "    <tr>\n",
              "      <th>0</th>\n",
              "      <td>2021-10-03 23:00:33</td>\n",
              "      <td>Michelle Obama</td>\n",
              "      <td>409486555</td>\n",
              "      <td>NaN</td>\n",
              "      <td>-1</td>\n",
              "      <td>en</td>\n",
              "      <td>&lt;a href=\"https://mobile.twitter.com\" rel=\"nofo...</td>\n",
              "      <td>How it started vs. how it’s going\\n\\nHappy ann...</td>\n",
              "      <td>NaN</td>\n",
              "      <td>NaN</td>\n",
              "      <td>23025</td>\n",
              "      <td>1444693864275709958</td>\n",
              "    </tr>\n",
              "    <tr>\n",
              "      <th>1</th>\n",
              "      <td>2021-10-04 07:24:12</td>\n",
              "      <td>BrooklynDad_Defiant!</td>\n",
              "      <td>1640929196</td>\n",
              "      <td>NaN</td>\n",
              "      <td>-1</td>\n",
              "      <td>en</td>\n",
              "      <td>&lt;a href=\"http://twitter.com/download/android\" ...</td>\n",
              "      <td>Who else would LOVE to see the media relentles...</td>\n",
              "      <td>NaN</td>\n",
              "      <td>NaN</td>\n",
              "      <td>8552</td>\n",
              "      <td>1444820612988522496</td>\n",
              "    </tr>\n",
              "    <tr>\n",
              "      <th>2</th>\n",
              "      <td>2021-10-05 08:43:45</td>\n",
              "      <td>SMTOWN</td>\n",
              "      <td>884378714</td>\n",
              "      <td>NaN</td>\n",
              "      <td>-1</td>\n",
              "      <td>en</td>\n",
              "      <td>&lt;a href=\"https://mobile.twitter.com\" rel=\"nofo...</td>\n",
              "      <td>TAEIL of NCT &amp; rapper Lil Boi to feature in Ra...</td>\n",
              "      <td>NaN</td>\n",
              "      <td>NaN</td>\n",
              "      <td>15586</td>\n",
              "      <td>1445203019553861633</td>\n",
              "    </tr>\n",
              "    <tr>\n",
              "      <th>3</th>\n",
              "      <td>2021-10-05 10:39:36</td>\n",
              "      <td>???? ????????xy ⁷</td>\n",
              "      <td>1045314656863023112</td>\n",
              "      <td>NaN</td>\n",
              "      <td>-1</td>\n",
              "      <td>en</td>\n",
              "      <td>&lt;a href=\"http://twitter.com/download/iphone\" r...</td>\n",
              "      <td>RT @chartdata: All of @BTS_twt's Hot 100 #1’s:...</td>\n",
              "      <td>NaN</td>\n",
              "      <td>NaN</td>\n",
              "      <td>10785</td>\n",
              "      <td>1445232173934469125</td>\n",
              "    </tr>\n",
              "    <tr>\n",
              "      <th>4</th>\n",
              "      <td>2021-10-05 10:39:35</td>\n",
              "      <td>Amanda Evans</td>\n",
              "      <td>1248046770682290178</td>\n",
              "      <td>NaN</td>\n",
              "      <td>-1</td>\n",
              "      <td>en</td>\n",
              "      <td>&lt;a href=\"http://twitter.com/download/android\" ...</td>\n",
              "      <td>RT @AdamsCumbie: I love this! ?????? https://t...</td>\n",
              "      <td>NaN</td>\n",
              "      <td>NaN</td>\n",
              "      <td>100</td>\n",
              "      <td>1445232173095731204</td>\n",
              "    </tr>\n",
              "    <tr>\n",
              "      <th>...</th>\n",
              "      <td>...</td>\n",
              "      <td>...</td>\n",
              "      <td>...</td>\n",
              "      <td>...</td>\n",
              "      <td>...</td>\n",
              "      <td>...</td>\n",
              "      <td>...</td>\n",
              "      <td>...</td>\n",
              "      <td>...</td>\n",
              "      <td>...</td>\n",
              "      <td>...</td>\n",
              "      <td>...</td>\n",
              "    </tr>\n",
              "    <tr>\n",
              "      <th>1986</th>\n",
              "      <td>2021-10-03 23:00:00</td>\n",
              "      <td>Decadent Publishing</td>\n",
              "      <td>142780741</td>\n",
              "      <td>NaN</td>\n",
              "      <td>-1</td>\n",
              "      <td>en</td>\n",
              "      <td>&lt;a href=\"https://mobile.twitter.com\" rel=\"nofo...</td>\n",
              "      <td>Will Tiffany and Charles be able to save their...</td>\n",
              "      <td>NaN</td>\n",
              "      <td>NaN</td>\n",
              "      <td>1</td>\n",
              "      <td>1444693726681575425</td>\n",
              "    </tr>\n",
              "    <tr>\n",
              "      <th>1987</th>\n",
              "      <td>2021-10-03 23:00:00</td>\n",
              "      <td>Terese McGroarty</td>\n",
              "      <td>22322884</td>\n",
              "      <td>NaN</td>\n",
              "      <td>-1</td>\n",
              "      <td>en</td>\n",
              "      <td>&lt;a href=\"http://twitter.com/download/iphone\" r...</td>\n",
              "      <td>RT @JoelOsteen: I love the fact that Jesus bro...</td>\n",
              "      <td>NaN</td>\n",
              "      <td>NaN</td>\n",
              "      <td>1873</td>\n",
              "      <td>1444693726677372941</td>\n",
              "    </tr>\n",
              "    <tr>\n",
              "      <th>1988</th>\n",
              "      <td>2021-10-03 23:00:00</td>\n",
              "      <td>ACT:⁵Acehilnr_?? |??STREAM??</td>\n",
              "      <td>1379126745815654403</td>\n",
              "      <td>NaN</td>\n",
              "      <td>-1</td>\n",
              "      <td>en</td>\n",
              "      <td>&lt;a href=\"http://twitter.com/download/android\" ...</td>\n",
              "      <td>RT @joe_txtmoa: Bighit is no longer holding ba...</td>\n",
              "      <td>NaN</td>\n",
              "      <td>NaN</td>\n",
              "      <td>558</td>\n",
              "      <td>1444693726673072134</td>\n",
              "    </tr>\n",
              "    <tr>\n",
              "      <th>1989</th>\n",
              "      <td>2021-10-03 23:00:00</td>\n",
              "      <td>?? ?? ??</td>\n",
              "      <td>1017947223164882944</td>\n",
              "      <td>NaN</td>\n",
              "      <td>-1</td>\n",
              "      <td>en</td>\n",
              "      <td>&lt;a href=\"http://twitter.com/download/iphone\" r...</td>\n",
              "      <td>love love love ?? https://t.co/bdULnKntMC</td>\n",
              "      <td>NaN</td>\n",
              "      <td>NaN</td>\n",
              "      <td>0</td>\n",
              "      <td>1444693726643822597</td>\n",
              "    </tr>\n",
              "    <tr>\n",
              "      <th>1990</th>\n",
              "      <td>2021-10-03 23:00:00</td>\n",
              "      <td>uGhtuGhcUgH ??♥️</td>\n",
              "      <td>1028993637818884096</td>\n",
              "      <td>NaN</td>\n",
              "      <td>-1</td>\n",
              "      <td>en</td>\n",
              "      <td>&lt;a href=\"https://mobile.twitter.com\" rel=\"nofo...</td>\n",
              "      <td>Happy birthday to the most beautiful man I hav...</td>\n",
              "      <td>NaN</td>\n",
              "      <td>NaN</td>\n",
              "      <td>0</td>\n",
              "      <td>1444693726614466568</td>\n",
              "    </tr>\n",
              "  </tbody>\n",
              "</table>\n",
              "<p>1991 rows × 12 columns</p>\n",
              "</div>"
            ],
            "text/plain": [
              "              Created-At  ...                   Id\n",
              "0    2021-10-03 23:00:33  ...  1444693864275709958\n",
              "1    2021-10-04 07:24:12  ...  1444820612988522496\n",
              "2    2021-10-05 08:43:45  ...  1445203019553861633\n",
              "3    2021-10-05 10:39:36  ...  1445232173934469125\n",
              "4    2021-10-05 10:39:35  ...  1445232173095731204\n",
              "...                  ...  ...                  ...\n",
              "1986 2021-10-03 23:00:00  ...  1444693726681575425\n",
              "1987 2021-10-03 23:00:00  ...  1444693726677372941\n",
              "1988 2021-10-03 23:00:00  ...  1444693726673072134\n",
              "1989 2021-10-03 23:00:00  ...  1444693726643822597\n",
              "1990 2021-10-03 23:00:00  ...  1444693726614466568\n",
              "\n",
              "[1991 rows x 12 columns]"
            ]
          },
          "metadata": {},
          "execution_count": 226
        }
      ]
    },
    {
      "cell_type": "markdown",
      "metadata": {
        "id": "c69fdf39"
      },
      "source": [
        "## Exploratory Data Anaysis: EDA"
      ],
      "id": "c69fdf39"
    },
    {
      "cell_type": "code",
      "metadata": {
        "id": "84b965c3"
      },
      "source": [
        "# Drop unrelated columns\n",
        "data = data.drop(['Created-At','Id','From-User', 'From-User-Id', 'Language', 'To-User', 'To-User-Id', 'Source', 'Geo-Location-Latitude', 'Geo-Location-Longitude','Retweet-Count'], axis=1)"
      ],
      "id": "84b965c3",
      "execution_count": null,
      "outputs": []
    },
    {
      "cell_type": "code",
      "metadata": {
        "colab": {
          "base_uri": "https://localhost:8080/",
          "height": 206
        },
        "id": "a249dcc6",
        "outputId": "f0e4db74-ae33-49ba-a08e-ffd2fd4fca52"
      },
      "source": [
        "data.head()"
      ],
      "id": "a249dcc6",
      "execution_count": null,
      "outputs": [
        {
          "output_type": "execute_result",
          "data": {
            "text/html": [
              "<div>\n",
              "<style scoped>\n",
              "    .dataframe tbody tr th:only-of-type {\n",
              "        vertical-align: middle;\n",
              "    }\n",
              "\n",
              "    .dataframe tbody tr th {\n",
              "        vertical-align: top;\n",
              "    }\n",
              "\n",
              "    .dataframe thead th {\n",
              "        text-align: right;\n",
              "    }\n",
              "</style>\n",
              "<table border=\"1\" class=\"dataframe\">\n",
              "  <thead>\n",
              "    <tr style=\"text-align: right;\">\n",
              "      <th></th>\n",
              "      <th>Text</th>\n",
              "    </tr>\n",
              "  </thead>\n",
              "  <tbody>\n",
              "    <tr>\n",
              "      <th>0</th>\n",
              "      <td>How it started vs. how it’s going\\n\\nHappy ann...</td>\n",
              "    </tr>\n",
              "    <tr>\n",
              "      <th>1</th>\n",
              "      <td>Who else would LOVE to see the media relentles...</td>\n",
              "    </tr>\n",
              "    <tr>\n",
              "      <th>2</th>\n",
              "      <td>TAEIL of NCT &amp; rapper Lil Boi to feature in Ra...</td>\n",
              "    </tr>\n",
              "    <tr>\n",
              "      <th>3</th>\n",
              "      <td>RT @chartdata: All of @BTS_twt's Hot 100 #1’s:...</td>\n",
              "    </tr>\n",
              "    <tr>\n",
              "      <th>4</th>\n",
              "      <td>RT @AdamsCumbie: I love this! ?????? https://t...</td>\n",
              "    </tr>\n",
              "  </tbody>\n",
              "</table>\n",
              "</div>"
            ],
            "text/plain": [
              "                                                Text\n",
              "0  How it started vs. how it’s going\\n\\nHappy ann...\n",
              "1  Who else would LOVE to see the media relentles...\n",
              "2  TAEIL of NCT & rapper Lil Boi to feature in Ra...\n",
              "3  RT @chartdata: All of @BTS_twt's Hot 100 #1’s:...\n",
              "4  RT @AdamsCumbie: I love this! ?????? https://t..."
            ]
          },
          "metadata": {},
          "execution_count": 168
        }
      ]
    },
    {
      "cell_type": "code",
      "metadata": {
        "colab": {
          "base_uri": "https://localhost:8080/"
        },
        "id": "8a3284e4",
        "outputId": "d2a91cf2-9c76-4433-bad7-26511d401a66"
      },
      "source": [
        "print('Data size: ', data.shape)\n",
        "print('Columns: ', data.columns)"
      ],
      "id": "8a3284e4",
      "execution_count": null,
      "outputs": [
        {
          "output_type": "stream",
          "name": "stdout",
          "text": [
            "Data size:  (1991, 1)\n",
            "Columns:  Index(['Text'], dtype='object')\n"
          ]
        }
      ]
    },
    {
      "cell_type": "code",
      "metadata": {
        "colab": {
          "base_uri": "https://localhost:8080/"
        },
        "id": "677f7caf",
        "outputId": "030c866f-b8de-4489-c7e8-5cc73280ff2d"
      },
      "source": [
        "data.info()"
      ],
      "id": "677f7caf",
      "execution_count": null,
      "outputs": [
        {
          "output_type": "stream",
          "name": "stdout",
          "text": [
            "<class 'pandas.core.frame.DataFrame'>\n",
            "Int64Index: 1991 entries, 1444693864275709958 to 1444693726614466568\n",
            "Data columns (total 2 columns):\n",
            " #   Column      Non-Null Count  Dtype         \n",
            "---  ------      --------------  -----         \n",
            " 0   Created-At  1991 non-null   datetime64[ns]\n",
            " 1   Text        1991 non-null   object        \n",
            "dtypes: datetime64[ns](1), object(1)\n",
            "memory usage: 46.7+ KB\n"
          ]
        }
      ]
    },
    {
      "cell_type": "markdown",
      "metadata": {
        "id": "03225b63"
      },
      "source": [
        "## Data Preprocessing"
      ],
      "id": "03225b63"
    },
    {
      "cell_type": "code",
      "metadata": {
        "colab": {
          "base_uri": "https://localhost:8080/"
        },
        "id": "36e4f7d2",
        "outputId": "6370f24a-4989-447b-b99f-fc275d061d72"
      },
      "source": [
        "# Find and drop duplicated data\n",
        "data.Text.duplicated()"
      ],
      "id": "36e4f7d2",
      "execution_count": null,
      "outputs": [
        {
          "output_type": "execute_result",
          "data": {
            "text/plain": [
              "0       False\n",
              "1       False\n",
              "2       False\n",
              "3       False\n",
              "4       False\n",
              "        ...  \n",
              "1986    False\n",
              "1987    False\n",
              "1988     True\n",
              "1989    False\n",
              "1990    False\n",
              "Name: Text, Length: 1991, dtype: bool"
            ]
          },
          "metadata": {},
          "execution_count": 229
        }
      ]
    },
    {
      "cell_type": "code",
      "metadata": {
        "colab": {
          "base_uri": "https://localhost:8080/"
        },
        "id": "4e927c08",
        "outputId": "a684d45c-5120-4c23-ff52-3fed3488e0d5"
      },
      "source": [
        "data.Text.duplicated().sum()"
      ],
      "id": "4e927c08",
      "execution_count": null,
      "outputs": [
        {
          "output_type": "execute_result",
          "data": {
            "text/plain": [
              "425"
            ]
          },
          "metadata": {},
          "execution_count": 94
        }
      ]
    },
    {
      "cell_type": "code",
      "metadata": {
        "colab": {
          "base_uri": "https://localhost:8080/"
        },
        "id": "7e7f98c5",
        "outputId": "0069b33f-be80-49e0-b830-a2db1d32463c"
      },
      "source": [
        "(~data.Text.duplicated()).sum()"
      ],
      "id": "7e7f98c5",
      "execution_count": null,
      "outputs": [
        {
          "output_type": "execute_result",
          "data": {
            "text/plain": [
              "1566"
            ]
          },
          "metadata": {},
          "execution_count": 95
        }
      ]
    },
    {
      "cell_type": "code",
      "metadata": {
        "id": "392260e9"
      },
      "source": [
        "data.drop_duplicates(inplace=True, subset='Text', keep='last')"
      ],
      "id": "392260e9",
      "execution_count": null,
      "outputs": []
    },
    {
      "cell_type": "code",
      "metadata": {
        "colab": {
          "base_uri": "https://localhost:8080/",
          "height": 424
        },
        "id": "3d763063",
        "outputId": "b2e4a91a-614c-41bb-f6b2-4951cbdf82fd"
      },
      "source": [
        "data"
      ],
      "id": "3d763063",
      "execution_count": null,
      "outputs": [
        {
          "output_type": "execute_result",
          "data": {
            "text/html": [
              "<div>\n",
              "<style scoped>\n",
              "    .dataframe tbody tr th:only-of-type {\n",
              "        vertical-align: middle;\n",
              "    }\n",
              "\n",
              "    .dataframe tbody tr th {\n",
              "        vertical-align: top;\n",
              "    }\n",
              "\n",
              "    .dataframe thead th {\n",
              "        text-align: right;\n",
              "    }\n",
              "</style>\n",
              "<table border=\"1\" class=\"dataframe\">\n",
              "  <thead>\n",
              "    <tr style=\"text-align: right;\">\n",
              "      <th></th>\n",
              "      <th>Text</th>\n",
              "    </tr>\n",
              "  </thead>\n",
              "  <tbody>\n",
              "    <tr>\n",
              "      <th>0</th>\n",
              "      <td>How it started vs. how it’s going\\n\\nHappy ann...</td>\n",
              "    </tr>\n",
              "    <tr>\n",
              "      <th>1</th>\n",
              "      <td>Who else would LOVE to see the media relentles...</td>\n",
              "    </tr>\n",
              "    <tr>\n",
              "      <th>2</th>\n",
              "      <td>TAEIL of NCT &amp; rapper Lil Boi to feature in Ra...</td>\n",
              "    </tr>\n",
              "    <tr>\n",
              "      <th>3</th>\n",
              "      <td>RT @chartdata: All of @BTS_twt's Hot 100 #1’s:...</td>\n",
              "    </tr>\n",
              "    <tr>\n",
              "      <th>4</th>\n",
              "      <td>RT @AdamsCumbie: I love this! ?????? https://t...</td>\n",
              "    </tr>\n",
              "    <tr>\n",
              "      <th>...</th>\n",
              "      <td>...</td>\n",
              "    </tr>\n",
              "    <tr>\n",
              "      <th>1986</th>\n",
              "      <td>Will Tiffany and Charles be able to save their...</td>\n",
              "    </tr>\n",
              "    <tr>\n",
              "      <th>1987</th>\n",
              "      <td>RT @JoelOsteen: I love the fact that Jesus bro...</td>\n",
              "    </tr>\n",
              "    <tr>\n",
              "      <th>1988</th>\n",
              "      <td>RT @joe_txtmoa: Bighit is no longer holding ba...</td>\n",
              "    </tr>\n",
              "    <tr>\n",
              "      <th>1989</th>\n",
              "      <td>love love love ?? https://t.co/bdULnKntMC</td>\n",
              "    </tr>\n",
              "    <tr>\n",
              "      <th>1990</th>\n",
              "      <td>Happy birthday to the most beautiful man I hav...</td>\n",
              "    </tr>\n",
              "  </tbody>\n",
              "</table>\n",
              "<p>1566 rows × 1 columns</p>\n",
              "</div>"
            ],
            "text/plain": [
              "                                                   Text\n",
              "0     How it started vs. how it’s going\\n\\nHappy ann...\n",
              "1     Who else would LOVE to see the media relentles...\n",
              "2     TAEIL of NCT & rapper Lil Boi to feature in Ra...\n",
              "3     RT @chartdata: All of @BTS_twt's Hot 100 #1’s:...\n",
              "4     RT @AdamsCumbie: I love this! ?????? https://t...\n",
              "...                                                 ...\n",
              "1986  Will Tiffany and Charles be able to save their...\n",
              "1987  RT @JoelOsteen: I love the fact that Jesus bro...\n",
              "1988  RT @joe_txtmoa: Bighit is no longer holding ba...\n",
              "1989          love love love ?? https://t.co/bdULnKntMC\n",
              "1990  Happy birthday to the most beautiful man I hav...\n",
              "\n",
              "[1566 rows x 1 columns]"
            ]
          },
          "metadata": {},
          "execution_count": 231
        }
      ]
    },
    {
      "cell_type": "code",
      "metadata": {
        "id": "86y9s4NjnQ4s"
      },
      "source": [
        "data.reset_index(drop=True,inplace=True)"
      ],
      "id": "86y9s4NjnQ4s",
      "execution_count": null,
      "outputs": []
    },
    {
      "cell_type": "code",
      "metadata": {
        "id": "iwyzbZ-YWsab"
      },
      "source": [
        "list1 = []\n",
        "\n",
        "for i in data.loc[:,'Text']:\n",
        "  t1 = \" \".join(filter(lambda x:x[0]!= '@', i.split()))\n",
        "  t2 = \" \".join(filter(lambda x:x[0]!= '#', t1.split()))\n",
        "  t3 = re.sub(r\"http\\S+\", \"\", t2)\n",
        "  text = t3.replace('RT','')\n",
        "  list1.append(text)\n",
        "  "
      ],
      "id": "iwyzbZ-YWsab",
      "execution_count": null,
      "outputs": []
    },
    {
      "cell_type": "code",
      "metadata": {
        "colab": {
          "base_uri": "https://localhost:8080/"
        },
        "id": "1944arkkbTTD",
        "outputId": "54b1a411-4157-48e8-a6c2-2899917b33d2"
      },
      "source": [
        "print(type(text))"
      ],
      "id": "1944arkkbTTD",
      "execution_count": null,
      "outputs": [
        {
          "output_type": "stream",
          "name": "stdout",
          "text": [
            "<class 'str'>\n"
          ]
        }
      ]
    },
    {
      "cell_type": "code",
      "metadata": {
        "id": "nB-mYiu8bHN9"
      },
      "source": [
        "df = pd.DataFrame(list1)"
      ],
      "id": "nB-mYiu8bHN9",
      "execution_count": null,
      "outputs": []
    },
    {
      "cell_type": "code",
      "metadata": {
        "colab": {
          "base_uri": "https://localhost:8080/",
          "height": 424
        },
        "id": "2PHPtEp3lq8G",
        "outputId": "e22f07df-4507-4662-82be-84935813637a"
      },
      "source": [
        "df"
      ],
      "id": "2PHPtEp3lq8G",
      "execution_count": null,
      "outputs": [
        {
          "output_type": "execute_result",
          "data": {
            "text/html": [
              "<div>\n",
              "<style scoped>\n",
              "    .dataframe tbody tr th:only-of-type {\n",
              "        vertical-align: middle;\n",
              "    }\n",
              "\n",
              "    .dataframe tbody tr th {\n",
              "        vertical-align: top;\n",
              "    }\n",
              "\n",
              "    .dataframe thead th {\n",
              "        text-align: right;\n",
              "    }\n",
              "</style>\n",
              "<table border=\"1\" class=\"dataframe\">\n",
              "  <thead>\n",
              "    <tr style=\"text-align: right;\">\n",
              "      <th></th>\n",
              "      <th>0</th>\n",
              "    </tr>\n",
              "  </thead>\n",
              "  <tbody>\n",
              "    <tr>\n",
              "      <th>0</th>\n",
              "      <td>How it started vs. how it’s going Happy annive...</td>\n",
              "    </tr>\n",
              "    <tr>\n",
              "      <th>1</th>\n",
              "      <td>Who else would LOVE to see the media relentles...</td>\n",
              "    </tr>\n",
              "    <tr>\n",
              "      <th>2</th>\n",
              "      <td>TAEIL of NCT &amp; rapper Lil Boi to feature in Ra...</td>\n",
              "    </tr>\n",
              "    <tr>\n",
              "      <th>3</th>\n",
              "      <td>All of Hot 100 Dynamite Savage Love (Laxed - ...</td>\n",
              "    </tr>\n",
              "    <tr>\n",
              "      <th>4</th>\n",
              "      <td>I love this! ??????</td>\n",
              "    </tr>\n",
              "    <tr>\n",
              "      <th>...</th>\n",
              "      <td>...</td>\n",
              "    </tr>\n",
              "    <tr>\n",
              "      <th>1561</th>\n",
              "      <td>Will Tiffany and Charles be able to save their...</td>\n",
              "    </tr>\n",
              "    <tr>\n",
              "      <th>1562</th>\n",
              "      <td>I love the fact that Jesus broke the rules to...</td>\n",
              "    </tr>\n",
              "    <tr>\n",
              "      <th>1563</th>\n",
              "      <td>Bighit is no longer holding back!!! Theyre fl...</td>\n",
              "    </tr>\n",
              "    <tr>\n",
              "      <th>1564</th>\n",
              "      <td>love love love ??</td>\n",
              "    </tr>\n",
              "    <tr>\n",
              "      <th>1565</th>\n",
              "      <td>Happy birthday to the most beautiful man I hav...</td>\n",
              "    </tr>\n",
              "  </tbody>\n",
              "</table>\n",
              "<p>1566 rows × 1 columns</p>\n",
              "</div>"
            ],
            "text/plain": [
              "                                                      0\n",
              "0     How it started vs. how it’s going Happy annive...\n",
              "1     Who else would LOVE to see the media relentles...\n",
              "2     TAEIL of NCT & rapper Lil Boi to feature in Ra...\n",
              "3      All of Hot 100 Dynamite Savage Love (Laxed - ...\n",
              "4                                  I love this! ?????? \n",
              "...                                                 ...\n",
              "1561  Will Tiffany and Charles be able to save their...\n",
              "1562   I love the fact that Jesus broke the rules to...\n",
              "1563   Bighit is no longer holding back!!! Theyre fl...\n",
              "1564                                 love love love ?? \n",
              "1565  Happy birthday to the most beautiful man I hav...\n",
              "\n",
              "[1566 rows x 1 columns]"
            ]
          },
          "metadata": {},
          "execution_count": 237
        }
      ]
    },
    {
      "cell_type": "code",
      "metadata": {
        "id": "Ilerr7xvvEf4"
      },
      "source": [
        ""
      ],
      "id": "Ilerr7xvvEf4",
      "execution_count": null,
      "outputs": []
    },
    {
      "cell_type": "code",
      "metadata": {
        "colab": {
          "base_uri": "https://localhost:8080/",
          "height": 424
        },
        "id": "VHzSWredmmO_",
        "outputId": "c5d75118-cb5c-4e94-e0b9-973ba0cd3bf4"
      },
      "source": [
        "data"
      ],
      "id": "VHzSWredmmO_",
      "execution_count": null,
      "outputs": [
        {
          "output_type": "execute_result",
          "data": {
            "text/html": [
              "<div>\n",
              "<style scoped>\n",
              "    .dataframe tbody tr th:only-of-type {\n",
              "        vertical-align: middle;\n",
              "    }\n",
              "\n",
              "    .dataframe tbody tr th {\n",
              "        vertical-align: top;\n",
              "    }\n",
              "\n",
              "    .dataframe thead th {\n",
              "        text-align: right;\n",
              "    }\n",
              "</style>\n",
              "<table border=\"1\" class=\"dataframe\">\n",
              "  <thead>\n",
              "    <tr style=\"text-align: right;\">\n",
              "      <th></th>\n",
              "      <th>Text</th>\n",
              "    </tr>\n",
              "  </thead>\n",
              "  <tbody>\n",
              "    <tr>\n",
              "      <th>0</th>\n",
              "      <td>How it started vs. how it’s going\\n\\nHappy ann...</td>\n",
              "    </tr>\n",
              "    <tr>\n",
              "      <th>1</th>\n",
              "      <td>Who else would LOVE to see the media relentles...</td>\n",
              "    </tr>\n",
              "    <tr>\n",
              "      <th>2</th>\n",
              "      <td>TAEIL of NCT &amp; rapper Lil Boi to feature in Ra...</td>\n",
              "    </tr>\n",
              "    <tr>\n",
              "      <th>3</th>\n",
              "      <td>RT @chartdata: All of @BTS_twt's Hot 100 #1’s:...</td>\n",
              "    </tr>\n",
              "    <tr>\n",
              "      <th>4</th>\n",
              "      <td>RT @AdamsCumbie: I love this! ?????? https://t...</td>\n",
              "    </tr>\n",
              "    <tr>\n",
              "      <th>...</th>\n",
              "      <td>...</td>\n",
              "    </tr>\n",
              "    <tr>\n",
              "      <th>1561</th>\n",
              "      <td>Will Tiffany and Charles be able to save their...</td>\n",
              "    </tr>\n",
              "    <tr>\n",
              "      <th>1562</th>\n",
              "      <td>RT @JoelOsteen: I love the fact that Jesus bro...</td>\n",
              "    </tr>\n",
              "    <tr>\n",
              "      <th>1563</th>\n",
              "      <td>RT @joe_txtmoa: Bighit is no longer holding ba...</td>\n",
              "    </tr>\n",
              "    <tr>\n",
              "      <th>1564</th>\n",
              "      <td>love love love ?? https://t.co/bdULnKntMC</td>\n",
              "    </tr>\n",
              "    <tr>\n",
              "      <th>1565</th>\n",
              "      <td>Happy birthday to the most beautiful man I hav...</td>\n",
              "    </tr>\n",
              "  </tbody>\n",
              "</table>\n",
              "<p>1566 rows × 1 columns</p>\n",
              "</div>"
            ],
            "text/plain": [
              "                                                   Text\n",
              "0     How it started vs. how it’s going\\n\\nHappy ann...\n",
              "1     Who else would LOVE to see the media relentles...\n",
              "2     TAEIL of NCT & rapper Lil Boi to feature in Ra...\n",
              "3     RT @chartdata: All of @BTS_twt's Hot 100 #1’s:...\n",
              "4     RT @AdamsCumbie: I love this! ?????? https://t...\n",
              "...                                                 ...\n",
              "1561  Will Tiffany and Charles be able to save their...\n",
              "1562  RT @JoelOsteen: I love the fact that Jesus bro...\n",
              "1563  RT @joe_txtmoa: Bighit is no longer holding ba...\n",
              "1564          love love love ?? https://t.co/bdULnKntMC\n",
              "1565  Happy birthday to the most beautiful man I hav...\n",
              "\n",
              "[1566 rows x 1 columns]"
            ]
          },
          "metadata": {},
          "execution_count": 238
        }
      ]
    },
    {
      "cell_type": "code",
      "metadata": {
        "id": "l-VA_y1alPje"
      },
      "source": [
        "dataframe = pd.concat([data, df], ignore_index= True, axis= 1)\n"
      ],
      "id": "l-VA_y1alPje",
      "execution_count": null,
      "outputs": []
    },
    {
      "cell_type": "code",
      "metadata": {
        "colab": {
          "base_uri": "https://localhost:8080/"
        },
        "id": "NdgzsVy_obde",
        "outputId": "85d4ab60-6ebd-46af-8fc5-5c1548b464a2"
      },
      "source": [
        "dataframe[1]"
      ],
      "id": "NdgzsVy_obde",
      "execution_count": null,
      "outputs": [
        {
          "output_type": "execute_result",
          "data": {
            "text/plain": [
              "0       How it started vs. how it’s going Happy annive...\n",
              "1       Who else would LOVE to see the media relentles...\n",
              "2       TAEIL of NCT & rapper Lil Boi to feature in Ra...\n",
              "3        All of Hot 100 Dynamite Savage Love (Laxed - ...\n",
              "4                                    I love this! ?????? \n",
              "                              ...                        \n",
              "1561    Will Tiffany and Charles be able to save their...\n",
              "1562     I love the fact that Jesus broke the rules to...\n",
              "1563     Bighit is no longer holding back!!! Theyre fl...\n",
              "1564                                   love love love ?? \n",
              "1565    Happy birthday to the most beautiful man I hav...\n",
              "Name: 1, Length: 1566, dtype: object"
            ]
          },
          "metadata": {},
          "execution_count": 240
        }
      ]
    },
    {
      "cell_type": "code",
      "metadata": {
        "id": "vRylW_zgoD_N"
      },
      "source": [
        "dataframe.rename(columns={0: 'text', 1: 'text_clean'}, inplace= True)"
      ],
      "id": "vRylW_zgoD_N",
      "execution_count": null,
      "outputs": []
    },
    {
      "cell_type": "code",
      "metadata": {
        "colab": {
          "base_uri": "https://localhost:8080/"
        },
        "id": "cD52GAJOooP5",
        "outputId": "f70a1e3a-94e6-41ad-8771-e08db760e3e3"
      },
      "source": [
        "dataframe['text_clean']"
      ],
      "id": "cD52GAJOooP5",
      "execution_count": null,
      "outputs": [
        {
          "output_type": "execute_result",
          "data": {
            "text/plain": [
              "0       How it started vs. how it’s going Happy annive...\n",
              "1       Who else would LOVE to see the media relentles...\n",
              "2       TAEIL of NCT & rapper Lil Boi to feature in Ra...\n",
              "3        All of Hot 100 Dynamite Savage Love (Laxed - ...\n",
              "4                                    I love this! ?????? \n",
              "                              ...                        \n",
              "1561    Will Tiffany and Charles be able to save their...\n",
              "1562     I love the fact that Jesus broke the rules to...\n",
              "1563     Bighit is no longer holding back!!! Theyre fl...\n",
              "1564                                   love love love ?? \n",
              "1565    Happy birthday to the most beautiful man I hav...\n",
              "Name: text_clean, Length: 1566, dtype: object"
            ]
          },
          "metadata": {},
          "execution_count": 242
        }
      ]
    },
    {
      "cell_type": "code",
      "metadata": {
        "colab": {
          "base_uri": "https://localhost:8080/"
        },
        "id": "plo3GTgalaKB",
        "outputId": "3774265c-b582-4f80-e91c-8e4a84003c76"
      },
      "source": [
        "dataframe['text_clean'].str.extractall(r'(\\#\\w+)')[0].value_counts()"
      ],
      "id": "plo3GTgalaKB",
      "execution_count": null,
      "outputs": [
        {
          "output_type": "execute_result",
          "data": {
            "text/plain": [
              "#HappyOctoberBirthday    1\n",
              "#lovemeharder            1\n",
              "#JOSHUA                  1\n",
              "#Chihuly                 1\n",
              "#Likee                   1\n",
              "#ForceFactor             1\n",
              "#EmmaRose                1\n",
              "#GirlsPlanet999          1\n",
              "#glutenfree              1\n",
              "Name: 0, dtype: int64"
            ]
          },
          "metadata": {},
          "execution_count": 243
        }
      ]
    },
    {
      "cell_type": "markdown",
      "metadata": {
        "id": "e2fa9c67"
      },
      "source": [
        "#### Remove punctuations"
      ],
      "id": "e2fa9c67"
    },
    {
      "cell_type": "code",
      "metadata": {
        "colab": {
          "base_uri": "https://localhost:8080/",
          "height": 35
        },
        "id": "795a5df4",
        "outputId": "0059be49-933a-490c-f959-aec18688e85f"
      },
      "source": [
        "string.punctuation"
      ],
      "id": "795a5df4",
      "execution_count": null,
      "outputs": [
        {
          "output_type": "execute_result",
          "data": {
            "application/vnd.google.colaboratory.intrinsic+json": {
              "type": "string"
            },
            "text/plain": [
              "'!\"#$%&\\'()*+,-./:;<=>?@[\\\\]^_`{|}~'"
            ]
          },
          "metadata": {},
          "execution_count": 244
        }
      ]
    },
    {
      "cell_type": "code",
      "metadata": {
        "id": "3146f48f"
      },
      "source": [
        "def drop_punctuation(text):\n",
        "    text = ''.join([char for char in text if char not in string.punctuation])\n",
        "    text = re.sub('[0-9]+', '', text)\n",
        "    \n",
        "    return text"
      ],
      "id": "3146f48f",
      "execution_count": null,
      "outputs": []
    },
    {
      "cell_type": "code",
      "metadata": {
        "colab": {
          "base_uri": "https://localhost:8080/",
          "height": 206
        },
        "id": "9ad8644a",
        "outputId": "0735cf37-37f8-4754-ae40-18fc00d7feb5"
      },
      "source": [
        "dataframe['Text_punct'] = dataframe['text_clean'].apply(lambda i: drop_punctuation(i))\n",
        "dataframe.head()"
      ],
      "id": "9ad8644a",
      "execution_count": null,
      "outputs": [
        {
          "output_type": "execute_result",
          "data": {
            "text/html": [
              "<div>\n",
              "<style scoped>\n",
              "    .dataframe tbody tr th:only-of-type {\n",
              "        vertical-align: middle;\n",
              "    }\n",
              "\n",
              "    .dataframe tbody tr th {\n",
              "        vertical-align: top;\n",
              "    }\n",
              "\n",
              "    .dataframe thead th {\n",
              "        text-align: right;\n",
              "    }\n",
              "</style>\n",
              "<table border=\"1\" class=\"dataframe\">\n",
              "  <thead>\n",
              "    <tr style=\"text-align: right;\">\n",
              "      <th></th>\n",
              "      <th>text</th>\n",
              "      <th>text_clean</th>\n",
              "      <th>Text_punct</th>\n",
              "    </tr>\n",
              "  </thead>\n",
              "  <tbody>\n",
              "    <tr>\n",
              "      <th>0</th>\n",
              "      <td>How it started vs. how it’s going\\n\\nHappy ann...</td>\n",
              "      <td>How it started vs. how it’s going Happy annive...</td>\n",
              "      <td>How it started vs how it’s going Happy anniver...</td>\n",
              "    </tr>\n",
              "    <tr>\n",
              "      <th>1</th>\n",
              "      <td>Who else would LOVE to see the media relentles...</td>\n",
              "      <td>Who else would LOVE to see the media relentles...</td>\n",
              "      <td>Who else would LOVE to see the media relentles...</td>\n",
              "    </tr>\n",
              "    <tr>\n",
              "      <th>2</th>\n",
              "      <td>TAEIL of NCT &amp; rapper Lil Boi to feature in Ra...</td>\n",
              "      <td>TAEIL of NCT &amp; rapper Lil Boi to feature in Ra...</td>\n",
              "      <td>TAEIL of NCT  rapper Lil Boi to feature in Rai...</td>\n",
              "    </tr>\n",
              "    <tr>\n",
              "      <th>3</th>\n",
              "      <td>RT @chartdata: All of @BTS_twt's Hot 100 #1’s:...</td>\n",
              "      <td>All of Hot 100 Dynamite Savage Love (Laxed - ...</td>\n",
              "      <td>All of Hot  Dynamite Savage Love Laxed  Siren...</td>\n",
              "    </tr>\n",
              "    <tr>\n",
              "      <th>4</th>\n",
              "      <td>RT @AdamsCumbie: I love this! ?????? https://t...</td>\n",
              "      <td>I love this! ??????</td>\n",
              "      <td>I love this</td>\n",
              "    </tr>\n",
              "  </tbody>\n",
              "</table>\n",
              "</div>"
            ],
            "text/plain": [
              "                                                text  ...                                         Text_punct\n",
              "0  How it started vs. how it’s going\\n\\nHappy ann...  ...  How it started vs how it’s going Happy anniver...\n",
              "1  Who else would LOVE to see the media relentles...  ...  Who else would LOVE to see the media relentles...\n",
              "2  TAEIL of NCT & rapper Lil Boi to feature in Ra...  ...  TAEIL of NCT  rapper Lil Boi to feature in Rai...\n",
              "3  RT @chartdata: All of @BTS_twt's Hot 100 #1’s:...  ...   All of Hot  Dynamite Savage Love Laxed  Siren...\n",
              "4  RT @AdamsCumbie: I love this! ?????? https://t...  ...                                      I love this  \n",
              "\n",
              "[5 rows x 3 columns]"
            ]
          },
          "metadata": {},
          "execution_count": 246
        }
      ]
    },
    {
      "cell_type": "markdown",
      "metadata": {
        "id": "6bb41e51"
      },
      "source": [
        "#### Tokenization - Converting a sentence into list of words"
      ],
      "id": "6bb41e51"
    },
    {
      "cell_type": "code",
      "metadata": {
        "id": "e9c6eb20"
      },
      "source": [
        "def token(text):\n",
        "    text = re.split('\\W+', text)\n",
        "    return text"
      ],
      "id": "e9c6eb20",
      "execution_count": null,
      "outputs": []
    },
    {
      "cell_type": "code",
      "metadata": {
        "colab": {
          "base_uri": "https://localhost:8080/",
          "height": 293
        },
        "id": "f4f30ace",
        "outputId": "ef2a9ab5-366a-4db4-ba6d-f3cc824dfe81"
      },
      "source": [
        "dataframe['Text_token'] = dataframe['Text_punct'].apply(lambda i: token(i.lower()))\n",
        "dataframe.head()"
      ],
      "id": "f4f30ace",
      "execution_count": null,
      "outputs": [
        {
          "output_type": "execute_result",
          "data": {
            "text/html": [
              "<div>\n",
              "<style scoped>\n",
              "    .dataframe tbody tr th:only-of-type {\n",
              "        vertical-align: middle;\n",
              "    }\n",
              "\n",
              "    .dataframe tbody tr th {\n",
              "        vertical-align: top;\n",
              "    }\n",
              "\n",
              "    .dataframe thead th {\n",
              "        text-align: right;\n",
              "    }\n",
              "</style>\n",
              "<table border=\"1\" class=\"dataframe\">\n",
              "  <thead>\n",
              "    <tr style=\"text-align: right;\">\n",
              "      <th></th>\n",
              "      <th>text</th>\n",
              "      <th>text_clean</th>\n",
              "      <th>Text_punct</th>\n",
              "      <th>Text_token</th>\n",
              "    </tr>\n",
              "  </thead>\n",
              "  <tbody>\n",
              "    <tr>\n",
              "      <th>0</th>\n",
              "      <td>How it started vs. how it’s going\\n\\nHappy ann...</td>\n",
              "      <td>How it started vs. how it’s going Happy annive...</td>\n",
              "      <td>How it started vs how it’s going Happy anniver...</td>\n",
              "      <td>[how, it, started, vs, how, it, s, going, happ...</td>\n",
              "    </tr>\n",
              "    <tr>\n",
              "      <th>1</th>\n",
              "      <td>Who else would LOVE to see the media relentles...</td>\n",
              "      <td>Who else would LOVE to see the media relentles...</td>\n",
              "      <td>Who else would LOVE to see the media relentles...</td>\n",
              "      <td>[who, else, would, love, to, see, the, media, ...</td>\n",
              "    </tr>\n",
              "    <tr>\n",
              "      <th>2</th>\n",
              "      <td>TAEIL of NCT &amp; rapper Lil Boi to feature in Ra...</td>\n",
              "      <td>TAEIL of NCT &amp; rapper Lil Boi to feature in Ra...</td>\n",
              "      <td>TAEIL of NCT  rapper Lil Boi to feature in Rai...</td>\n",
              "      <td>[taeil, of, nct, rapper, lil, boi, to, feature...</td>\n",
              "    </tr>\n",
              "    <tr>\n",
              "      <th>3</th>\n",
              "      <td>RT @chartdata: All of @BTS_twt's Hot 100 #1’s:...</td>\n",
              "      <td>All of Hot 100 Dynamite Savage Love (Laxed - ...</td>\n",
              "      <td>All of Hot  Dynamite Savage Love Laxed  Siren...</td>\n",
              "      <td>[, all, of, hot, dynamite, savage, love, laxed...</td>\n",
              "    </tr>\n",
              "    <tr>\n",
              "      <th>4</th>\n",
              "      <td>RT @AdamsCumbie: I love this! ?????? https://t...</td>\n",
              "      <td>I love this! ??????</td>\n",
              "      <td>I love this</td>\n",
              "      <td>[, i, love, this, ]</td>\n",
              "    </tr>\n",
              "  </tbody>\n",
              "</table>\n",
              "</div>"
            ],
            "text/plain": [
              "                                                text  ...                                         Text_token\n",
              "0  How it started vs. how it’s going\\n\\nHappy ann...  ...  [how, it, started, vs, how, it, s, going, happ...\n",
              "1  Who else would LOVE to see the media relentles...  ...  [who, else, would, love, to, see, the, media, ...\n",
              "2  TAEIL of NCT & rapper Lil Boi to feature in Ra...  ...  [taeil, of, nct, rapper, lil, boi, to, feature...\n",
              "3  RT @chartdata: All of @BTS_twt's Hot 100 #1’s:...  ...  [, all, of, hot, dynamite, savage, love, laxed...\n",
              "4  RT @AdamsCumbie: I love this! ?????? https://t...  ...                                [, i, love, this, ]\n",
              "\n",
              "[5 rows x 4 columns]"
            ]
          },
          "metadata": {},
          "execution_count": 248
        }
      ]
    },
    {
      "cell_type": "markdown",
      "metadata": {
        "id": "a8047842"
      },
      "source": [
        "#### Remove stopwords"
      ],
      "id": "a8047842"
    },
    {
      "cell_type": "code",
      "metadata": {
        "colab": {
          "base_uri": "https://localhost:8080/"
        },
        "id": "200eb4ea",
        "outputId": "aea94949-4774-4bbd-84ff-14a49172b81e"
      },
      "source": [
        "import nltk\n",
        "nltk.download('stopwords')\n",
        "nltk.download('wordnet')"
      ],
      "id": "200eb4ea",
      "execution_count": null,
      "outputs": [
        {
          "output_type": "stream",
          "name": "stdout",
          "text": [
            "[nltk_data] Downloading package stopwords to /root/nltk_data...\n",
            "[nltk_data]   Package stopwords is already up-to-date!\n",
            "[nltk_data] Downloading package wordnet to /root/nltk_data...\n",
            "[nltk_data]   Package wordnet is already up-to-date!\n"
          ]
        },
        {
          "output_type": "execute_result",
          "data": {
            "text/plain": [
              "True"
            ]
          },
          "metadata": {},
          "execution_count": 249
        }
      ]
    },
    {
      "cell_type": "code",
      "metadata": {
        "colab": {
          "base_uri": "https://localhost:8080/"
        },
        "id": "d079f3ae",
        "outputId": "4ac82736-6948-4725-aa46-60450bd5e155"
      },
      "source": [
        "stopword = nltk.corpus.stopwords.words('english')\n",
        "stopword"
      ],
      "id": "d079f3ae",
      "execution_count": null,
      "outputs": [
        {
          "output_type": "execute_result",
          "data": {
            "text/plain": [
              "['i',\n",
              " 'me',\n",
              " 'my',\n",
              " 'myself',\n",
              " 'we',\n",
              " 'our',\n",
              " 'ours',\n",
              " 'ourselves',\n",
              " 'you',\n",
              " \"you're\",\n",
              " \"you've\",\n",
              " \"you'll\",\n",
              " \"you'd\",\n",
              " 'your',\n",
              " 'yours',\n",
              " 'yourself',\n",
              " 'yourselves',\n",
              " 'he',\n",
              " 'him',\n",
              " 'his',\n",
              " 'himself',\n",
              " 'she',\n",
              " \"she's\",\n",
              " 'her',\n",
              " 'hers',\n",
              " 'herself',\n",
              " 'it',\n",
              " \"it's\",\n",
              " 'its',\n",
              " 'itself',\n",
              " 'they',\n",
              " 'them',\n",
              " 'their',\n",
              " 'theirs',\n",
              " 'themselves',\n",
              " 'what',\n",
              " 'which',\n",
              " 'who',\n",
              " 'whom',\n",
              " 'this',\n",
              " 'that',\n",
              " \"that'll\",\n",
              " 'these',\n",
              " 'those',\n",
              " 'am',\n",
              " 'is',\n",
              " 'are',\n",
              " 'was',\n",
              " 'were',\n",
              " 'be',\n",
              " 'been',\n",
              " 'being',\n",
              " 'have',\n",
              " 'has',\n",
              " 'had',\n",
              " 'having',\n",
              " 'do',\n",
              " 'does',\n",
              " 'did',\n",
              " 'doing',\n",
              " 'a',\n",
              " 'an',\n",
              " 'the',\n",
              " 'and',\n",
              " 'but',\n",
              " 'if',\n",
              " 'or',\n",
              " 'because',\n",
              " 'as',\n",
              " 'until',\n",
              " 'while',\n",
              " 'of',\n",
              " 'at',\n",
              " 'by',\n",
              " 'for',\n",
              " 'with',\n",
              " 'about',\n",
              " 'against',\n",
              " 'between',\n",
              " 'into',\n",
              " 'through',\n",
              " 'during',\n",
              " 'before',\n",
              " 'after',\n",
              " 'above',\n",
              " 'below',\n",
              " 'to',\n",
              " 'from',\n",
              " 'up',\n",
              " 'down',\n",
              " 'in',\n",
              " 'out',\n",
              " 'on',\n",
              " 'off',\n",
              " 'over',\n",
              " 'under',\n",
              " 'again',\n",
              " 'further',\n",
              " 'then',\n",
              " 'once',\n",
              " 'here',\n",
              " 'there',\n",
              " 'when',\n",
              " 'where',\n",
              " 'why',\n",
              " 'how',\n",
              " 'all',\n",
              " 'any',\n",
              " 'both',\n",
              " 'each',\n",
              " 'few',\n",
              " 'more',\n",
              " 'most',\n",
              " 'other',\n",
              " 'some',\n",
              " 'such',\n",
              " 'no',\n",
              " 'nor',\n",
              " 'not',\n",
              " 'only',\n",
              " 'own',\n",
              " 'same',\n",
              " 'so',\n",
              " 'than',\n",
              " 'too',\n",
              " 'very',\n",
              " 's',\n",
              " 't',\n",
              " 'can',\n",
              " 'will',\n",
              " 'just',\n",
              " 'don',\n",
              " \"don't\",\n",
              " 'should',\n",
              " \"should've\",\n",
              " 'now',\n",
              " 'd',\n",
              " 'll',\n",
              " 'm',\n",
              " 'o',\n",
              " 're',\n",
              " 've',\n",
              " 'y',\n",
              " 'ain',\n",
              " 'aren',\n",
              " \"aren't\",\n",
              " 'couldn',\n",
              " \"couldn't\",\n",
              " 'didn',\n",
              " \"didn't\",\n",
              " 'doesn',\n",
              " \"doesn't\",\n",
              " 'hadn',\n",
              " \"hadn't\",\n",
              " 'hasn',\n",
              " \"hasn't\",\n",
              " 'haven',\n",
              " \"haven't\",\n",
              " 'isn',\n",
              " \"isn't\",\n",
              " 'ma',\n",
              " 'mightn',\n",
              " \"mightn't\",\n",
              " 'mustn',\n",
              " \"mustn't\",\n",
              " 'needn',\n",
              " \"needn't\",\n",
              " 'shan',\n",
              " \"shan't\",\n",
              " 'shouldn',\n",
              " \"shouldn't\",\n",
              " 'wasn',\n",
              " \"wasn't\",\n",
              " 'weren',\n",
              " \"weren't\",\n",
              " 'won',\n",
              " \"won't\",\n",
              " 'wouldn',\n",
              " \"wouldn't\"]"
            ]
          },
          "metadata": {},
          "execution_count": 250
        }
      ]
    },
    {
      "cell_type": "code",
      "metadata": {
        "id": "fa91d0f6"
      },
      "source": [
        "def remove_stopwords(text):\n",
        "    text = [word for word in text if word not in stopword]\n",
        "    return text"
      ],
      "id": "fa91d0f6",
      "execution_count": null,
      "outputs": []
    },
    {
      "cell_type": "code",
      "metadata": {
        "colab": {
          "base_uri": "https://localhost:8080/",
          "height": 293
        },
        "id": "ee18fa5b",
        "outputId": "c70721fd-b57a-4bd3-9a71-77a05bd42771"
      },
      "source": [
        "dataframe['Text_stopword'] = dataframe['Text_token'].apply(lambda i: remove_stopwords(i))\n",
        "dataframe.head()"
      ],
      "id": "ee18fa5b",
      "execution_count": null,
      "outputs": [
        {
          "output_type": "execute_result",
          "data": {
            "text/html": [
              "<div>\n",
              "<style scoped>\n",
              "    .dataframe tbody tr th:only-of-type {\n",
              "        vertical-align: middle;\n",
              "    }\n",
              "\n",
              "    .dataframe tbody tr th {\n",
              "        vertical-align: top;\n",
              "    }\n",
              "\n",
              "    .dataframe thead th {\n",
              "        text-align: right;\n",
              "    }\n",
              "</style>\n",
              "<table border=\"1\" class=\"dataframe\">\n",
              "  <thead>\n",
              "    <tr style=\"text-align: right;\">\n",
              "      <th></th>\n",
              "      <th>text</th>\n",
              "      <th>text_clean</th>\n",
              "      <th>Text_punct</th>\n",
              "      <th>Text_token</th>\n",
              "      <th>Text_stopword</th>\n",
              "    </tr>\n",
              "  </thead>\n",
              "  <tbody>\n",
              "    <tr>\n",
              "      <th>0</th>\n",
              "      <td>How it started vs. how it’s going\\n\\nHappy ann...</td>\n",
              "      <td>How it started vs. how it’s going Happy annive...</td>\n",
              "      <td>How it started vs how it’s going Happy anniver...</td>\n",
              "      <td>[how, it, started, vs, how, it, s, going, happ...</td>\n",
              "      <td>[started, vs, going, happy, anniversary, barac...</td>\n",
              "    </tr>\n",
              "    <tr>\n",
              "      <th>1</th>\n",
              "      <td>Who else would LOVE to see the media relentles...</td>\n",
              "      <td>Who else would LOVE to see the media relentles...</td>\n",
              "      <td>Who else would LOVE to see the media relentles...</td>\n",
              "      <td>[who, else, would, love, to, see, the, media, ...</td>\n",
              "      <td>[else, would, love, see, media, relentlessly, ...</td>\n",
              "    </tr>\n",
              "    <tr>\n",
              "      <th>2</th>\n",
              "      <td>TAEIL of NCT &amp; rapper Lil Boi to feature in Ra...</td>\n",
              "      <td>TAEIL of NCT &amp; rapper Lil Boi to feature in Ra...</td>\n",
              "      <td>TAEIL of NCT  rapper Lil Boi to feature in Rai...</td>\n",
              "      <td>[taeil, of, nct, rapper, lil, boi, to, feature...</td>\n",
              "      <td>[taeil, nct, rapper, lil, boi, feature, raiden...</td>\n",
              "    </tr>\n",
              "    <tr>\n",
              "      <th>3</th>\n",
              "      <td>RT @chartdata: All of @BTS_twt's Hot 100 #1’s:...</td>\n",
              "      <td>All of Hot 100 Dynamite Savage Love (Laxed - ...</td>\n",
              "      <td>All of Hot  Dynamite Savage Love Laxed  Siren...</td>\n",
              "      <td>[, all, of, hot, dynamite, savage, love, laxed...</td>\n",
              "      <td>[, hot, dynamite, savage, love, laxed, siren, ...</td>\n",
              "    </tr>\n",
              "    <tr>\n",
              "      <th>4</th>\n",
              "      <td>RT @AdamsCumbie: I love this! ?????? https://t...</td>\n",
              "      <td>I love this! ??????</td>\n",
              "      <td>I love this</td>\n",
              "      <td>[, i, love, this, ]</td>\n",
              "      <td>[, love, ]</td>\n",
              "    </tr>\n",
              "  </tbody>\n",
              "</table>\n",
              "</div>"
            ],
            "text/plain": [
              "                                                text  ...                                      Text_stopword\n",
              "0  How it started vs. how it’s going\\n\\nHappy ann...  ...  [started, vs, going, happy, anniversary, barac...\n",
              "1  Who else would LOVE to see the media relentles...  ...  [else, would, love, see, media, relentlessly, ...\n",
              "2  TAEIL of NCT & rapper Lil Boi to feature in Ra...  ...  [taeil, nct, rapper, lil, boi, feature, raiden...\n",
              "3  RT @chartdata: All of @BTS_twt's Hot 100 #1’s:...  ...  [, hot, dynamite, savage, love, laxed, siren, ...\n",
              "4  RT @AdamsCumbie: I love this! ?????? https://t...  ...                                         [, love, ]\n",
              "\n",
              "[5 rows x 5 columns]"
            ]
          },
          "metadata": {},
          "execution_count": 252
        }
      ]
    },
    {
      "cell_type": "markdown",
      "metadata": {
        "id": "878cdd1f"
      },
      "source": [
        "#### Lammatization/ Stemming - Tranforming any form of a word to its root word"
      ],
      "id": "878cdd1f"
    },
    {
      "cell_type": "code",
      "metadata": {
        "id": "f4759f1b"
      },
      "source": [
        "poster = nltk.PorterStemmer()"
      ],
      "id": "f4759f1b",
      "execution_count": null,
      "outputs": []
    },
    {
      "cell_type": "code",
      "metadata": {
        "id": "2a40bd93"
      },
      "source": [
        "def stemming(text):\n",
        "    text = [poster.stem(word) for word in text]\n",
        "    return text"
      ],
      "id": "2a40bd93",
      "execution_count": null,
      "outputs": []
    },
    {
      "cell_type": "code",
      "metadata": {
        "colab": {
          "base_uri": "https://localhost:8080/",
          "height": 380
        },
        "id": "22383b21",
        "outputId": "eb04aad8-a2dd-47b7-86bd-bbba849f0179"
      },
      "source": [
        "dataframe['Text_stemming'] = dataframe['Text_stopword'].apply(lambda i: stemming(i))\n",
        "dataframe.head()"
      ],
      "id": "22383b21",
      "execution_count": null,
      "outputs": [
        {
          "output_type": "execute_result",
          "data": {
            "text/html": [
              "<div>\n",
              "<style scoped>\n",
              "    .dataframe tbody tr th:only-of-type {\n",
              "        vertical-align: middle;\n",
              "    }\n",
              "\n",
              "    .dataframe tbody tr th {\n",
              "        vertical-align: top;\n",
              "    }\n",
              "\n",
              "    .dataframe thead th {\n",
              "        text-align: right;\n",
              "    }\n",
              "</style>\n",
              "<table border=\"1\" class=\"dataframe\">\n",
              "  <thead>\n",
              "    <tr style=\"text-align: right;\">\n",
              "      <th></th>\n",
              "      <th>text</th>\n",
              "      <th>text_clean</th>\n",
              "      <th>Text_punct</th>\n",
              "      <th>Text_token</th>\n",
              "      <th>Text_stopword</th>\n",
              "      <th>Text_stemming</th>\n",
              "    </tr>\n",
              "  </thead>\n",
              "  <tbody>\n",
              "    <tr>\n",
              "      <th>0</th>\n",
              "      <td>How it started vs. how it’s going\\n\\nHappy ann...</td>\n",
              "      <td>How it started vs. how it’s going Happy annive...</td>\n",
              "      <td>How it started vs how it’s going Happy anniver...</td>\n",
              "      <td>[how, it, started, vs, how, it, s, going, happ...</td>\n",
              "      <td>[started, vs, going, happy, anniversary, barac...</td>\n",
              "      <td>[start, vs, go, happi, anniversari, barack, lo...</td>\n",
              "    </tr>\n",
              "    <tr>\n",
              "      <th>1</th>\n",
              "      <td>Who else would LOVE to see the media relentles...</td>\n",
              "      <td>Who else would LOVE to see the media relentles...</td>\n",
              "      <td>Who else would LOVE to see the media relentles...</td>\n",
              "      <td>[who, else, would, love, to, see, the, media, ...</td>\n",
              "      <td>[else, would, love, see, media, relentlessly, ...</td>\n",
              "      <td>[els, would, love, see, media, relentlessli, q...</td>\n",
              "    </tr>\n",
              "    <tr>\n",
              "      <th>2</th>\n",
              "      <td>TAEIL of NCT &amp; rapper Lil Boi to feature in Ra...</td>\n",
              "      <td>TAEIL of NCT &amp; rapper Lil Boi to feature in Ra...</td>\n",
              "      <td>TAEIL of NCT  rapper Lil Boi to feature in Rai...</td>\n",
              "      <td>[taeil, of, nct, rapper, lil, boi, to, feature...</td>\n",
              "      <td>[taeil, nct, rapper, lil, boi, feature, raiden...</td>\n",
              "      <td>[taeil, nct, rapper, lil, boi, featur, raiden,...</td>\n",
              "    </tr>\n",
              "    <tr>\n",
              "      <th>3</th>\n",
              "      <td>RT @chartdata: All of @BTS_twt's Hot 100 #1’s:...</td>\n",
              "      <td>All of Hot 100 Dynamite Savage Love (Laxed - ...</td>\n",
              "      <td>All of Hot  Dynamite Savage Love Laxed  Siren...</td>\n",
              "      <td>[, all, of, hot, dynamite, savage, love, laxed...</td>\n",
              "      <td>[, hot, dynamite, savage, love, laxed, siren, ...</td>\n",
              "      <td>[, hot, dynamit, savag, love, lax, siren, beat...</td>\n",
              "    </tr>\n",
              "    <tr>\n",
              "      <th>4</th>\n",
              "      <td>RT @AdamsCumbie: I love this! ?????? https://t...</td>\n",
              "      <td>I love this! ??????</td>\n",
              "      <td>I love this</td>\n",
              "      <td>[, i, love, this, ]</td>\n",
              "      <td>[, love, ]</td>\n",
              "      <td>[, love, ]</td>\n",
              "    </tr>\n",
              "  </tbody>\n",
              "</table>\n",
              "</div>"
            ],
            "text/plain": [
              "                                                text  ...                                      Text_stemming\n",
              "0  How it started vs. how it’s going\\n\\nHappy ann...  ...  [start, vs, go, happi, anniversari, barack, lo...\n",
              "1  Who else would LOVE to see the media relentles...  ...  [els, would, love, see, media, relentlessli, q...\n",
              "2  TAEIL of NCT & rapper Lil Boi to feature in Ra...  ...  [taeil, nct, rapper, lil, boi, featur, raiden,...\n",
              "3  RT @chartdata: All of @BTS_twt's Hot 100 #1’s:...  ...  [, hot, dynamit, savag, love, lax, siren, beat...\n",
              "4  RT @AdamsCumbie: I love this! ?????? https://t...  ...                                         [, love, ]\n",
              "\n",
              "[5 rows x 6 columns]"
            ]
          },
          "metadata": {},
          "execution_count": 255
        }
      ]
    },
    {
      "cell_type": "code",
      "metadata": {
        "id": "cc525bd4"
      },
      "source": [
        "wordnet = nltk.WordNetLemmatizer()"
      ],
      "id": "cc525bd4",
      "execution_count": null,
      "outputs": []
    },
    {
      "cell_type": "code",
      "metadata": {
        "id": "7a38c936"
      },
      "source": [
        "def lemmatizer(text):\n",
        "    text = [wordnet.lemmatize(word) for word in text]\n",
        "    return text"
      ],
      "id": "7a38c936",
      "execution_count": null,
      "outputs": []
    },
    {
      "cell_type": "code",
      "metadata": {
        "colab": {
          "base_uri": "https://localhost:8080/",
          "height": 432
        },
        "id": "d365f07c",
        "outputId": "61698ebe-7708-42d4-8860-05d67020e9ab"
      },
      "source": [
        "dataframe['Text_lammetization'] = dataframe['Text_stopword'].apply(lambda i: lemmatizer(i))\n",
        "dataframe.head()"
      ],
      "id": "d365f07c",
      "execution_count": null,
      "outputs": [
        {
          "output_type": "execute_result",
          "data": {
            "text/html": [
              "<div>\n",
              "<style scoped>\n",
              "    .dataframe tbody tr th:only-of-type {\n",
              "        vertical-align: middle;\n",
              "    }\n",
              "\n",
              "    .dataframe tbody tr th {\n",
              "        vertical-align: top;\n",
              "    }\n",
              "\n",
              "    .dataframe thead th {\n",
              "        text-align: right;\n",
              "    }\n",
              "</style>\n",
              "<table border=\"1\" class=\"dataframe\">\n",
              "  <thead>\n",
              "    <tr style=\"text-align: right;\">\n",
              "      <th></th>\n",
              "      <th>text</th>\n",
              "      <th>text_clean</th>\n",
              "      <th>Text_punct</th>\n",
              "      <th>Text_token</th>\n",
              "      <th>Text_stopword</th>\n",
              "      <th>Text_stemming</th>\n",
              "      <th>Text_lammetization</th>\n",
              "    </tr>\n",
              "  </thead>\n",
              "  <tbody>\n",
              "    <tr>\n",
              "      <th>0</th>\n",
              "      <td>How it started vs. how it’s going\\n\\nHappy ann...</td>\n",
              "      <td>How it started vs. how it’s going Happy annive...</td>\n",
              "      <td>How it started vs how it’s going Happy anniver...</td>\n",
              "      <td>[how, it, started, vs, how, it, s, going, happ...</td>\n",
              "      <td>[started, vs, going, happy, anniversary, barac...</td>\n",
              "      <td>[start, vs, go, happi, anniversari, barack, lo...</td>\n",
              "      <td>[started, v, going, happy, anniversary, barack...</td>\n",
              "    </tr>\n",
              "    <tr>\n",
              "      <th>1</th>\n",
              "      <td>Who else would LOVE to see the media relentles...</td>\n",
              "      <td>Who else would LOVE to see the media relentles...</td>\n",
              "      <td>Who else would LOVE to see the media relentles...</td>\n",
              "      <td>[who, else, would, love, to, see, the, media, ...</td>\n",
              "      <td>[else, would, love, see, media, relentlessly, ...</td>\n",
              "      <td>[els, would, love, see, media, relentlessli, q...</td>\n",
              "      <td>[else, would, love, see, medium, relentlessly,...</td>\n",
              "    </tr>\n",
              "    <tr>\n",
              "      <th>2</th>\n",
              "      <td>TAEIL of NCT &amp; rapper Lil Boi to feature in Ra...</td>\n",
              "      <td>TAEIL of NCT &amp; rapper Lil Boi to feature in Ra...</td>\n",
              "      <td>TAEIL of NCT  rapper Lil Boi to feature in Rai...</td>\n",
              "      <td>[taeil, of, nct, rapper, lil, boi, to, feature...</td>\n",
              "      <td>[taeil, nct, rapper, lil, boi, feature, raiden...</td>\n",
              "      <td>[taeil, nct, rapper, lil, boi, featur, raiden,...</td>\n",
              "      <td>[taeil, nct, rapper, lil, boi, feature, raiden...</td>\n",
              "    </tr>\n",
              "    <tr>\n",
              "      <th>3</th>\n",
              "      <td>RT @chartdata: All of @BTS_twt's Hot 100 #1’s:...</td>\n",
              "      <td>All of Hot 100 Dynamite Savage Love (Laxed - ...</td>\n",
              "      <td>All of Hot  Dynamite Savage Love Laxed  Siren...</td>\n",
              "      <td>[, all, of, hot, dynamite, savage, love, laxed...</td>\n",
              "      <td>[, hot, dynamite, savage, love, laxed, siren, ...</td>\n",
              "      <td>[, hot, dynamit, savag, love, lax, siren, beat...</td>\n",
              "      <td>[, hot, dynamite, savage, love, laxed, siren, ...</td>\n",
              "    </tr>\n",
              "    <tr>\n",
              "      <th>4</th>\n",
              "      <td>RT @AdamsCumbie: I love this! ?????? https://t...</td>\n",
              "      <td>I love this! ??????</td>\n",
              "      <td>I love this</td>\n",
              "      <td>[, i, love, this, ]</td>\n",
              "      <td>[, love, ]</td>\n",
              "      <td>[, love, ]</td>\n",
              "      <td>[, love, ]</td>\n",
              "    </tr>\n",
              "  </tbody>\n",
              "</table>\n",
              "</div>"
            ],
            "text/plain": [
              "                                                text  ...                                 Text_lammetization\n",
              "0  How it started vs. how it’s going\\n\\nHappy ann...  ...  [started, v, going, happy, anniversary, barack...\n",
              "1  Who else would LOVE to see the media relentles...  ...  [else, would, love, see, medium, relentlessly,...\n",
              "2  TAEIL of NCT & rapper Lil Boi to feature in Ra...  ...  [taeil, nct, rapper, lil, boi, feature, raiden...\n",
              "3  RT @chartdata: All of @BTS_twt's Hot 100 #1’s:...  ...  [, hot, dynamite, savage, love, laxed, siren, ...\n",
              "4  RT @AdamsCumbie: I love this! ?????? https://t...  ...                                         [, love, ]\n",
              "\n",
              "[5 rows x 7 columns]"
            ]
          },
          "metadata": {},
          "execution_count": 258
        }
      ]
    },
    {
      "cell_type": "code",
      "metadata": {
        "id": "e7f04899"
      },
      "source": [
        "def clean_text(text):\n",
        "    text = \"\".join([word.lower() for word in text if word not in string.punctuation]) # remove puntuation\n",
        "    text = re.sub('[0-9]+', '', text)\n",
        "    text = re.split('\\W+', text)    # tokenization\n",
        "    text = [poster.stem(word) for word in text if word not in stopword]  # remove stopwords and stemming\n",
        "    text = [wordnet.lemmatize(word) for word in text] #lemmatizer\n",
        "    return text"
      ],
      "id": "e7f04899",
      "execution_count": null,
      "outputs": []
    },
    {
      "cell_type": "code",
      "metadata": {
        "colab": {
          "base_uri": "https://localhost:8080/"
        },
        "id": "14e1395e",
        "outputId": "fdb2d1b2-64df-4501-f5e2-38797090f6dd"
      },
      "source": [
        "countVectorizer = CountVectorizer(analyzer=clean_text) \n",
        "countVector = countVectorizer.fit_transform(dataframe['Text_lammetization'])\n",
        "print('{} Number of Text has {} words'.format(countVector.shape[0], countVector.shape[1]))\n",
        "#print(countVectorizer.get_feature_names())"
      ],
      "id": "14e1395e",
      "execution_count": null,
      "outputs": [
        {
          "output_type": "stream",
          "name": "stdout",
          "text": [
            "1566 Number of Text has 1425 words\n"
          ]
        }
      ]
    },
    {
      "cell_type": "code",
      "metadata": {
        "id": "TlX2QB4czKhH"
      },
      "source": [
        "for i in daraframe.iloc[:, 3]:\n",
        "  print(i)"
      ],
      "id": "TlX2QB4czKhH",
      "execution_count": null,
      "outputs": []
    },
    {
      "cell_type": "code",
      "metadata": {
        "id": "b133b348"
      },
      "source": [
        ""
      ],
      "id": "b133b348",
      "execution_count": null,
      "outputs": []
    },
    {
      "cell_type": "code",
      "metadata": {
        "id": "0ab7984a"
      },
      "source": [
        "# data.to_csv('data_test.csv')"
      ],
      "id": "0ab7984a",
      "execution_count": null,
      "outputs": []
    },
    {
      "cell_type": "markdown",
      "metadata": {
        "id": "7b2e3f1a"
      },
      "source": [
        "#### Wordcloud Visualization \n",
        "ต้องสร้าง target column ก่อน"
      ],
      "id": "7b2e3f1a"
    },
    {
      "cell_type": "code",
      "metadata": {
        "id": "dbaf6136"
      },
      "source": [
        "#conda install -c conda-forge wordcloud=1.6.0 "
      ],
      "id": "dbaf6136",
      "execution_count": null,
      "outputs": []
    },
    {
      "cell_type": "code",
      "metadata": {
        "id": "0cb17fdc"
      },
      "source": [
        "from wordcloud import WordCloud, STOPWORDS , ImageColorGenerator"
      ],
      "id": "0cb17fdc",
      "execution_count": null,
      "outputs": []
    }
  ]
}