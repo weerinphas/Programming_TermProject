{
  "nbformat": 4,
  "nbformat_minor": 5,
  "metadata": {
    "kernelspec": {
      "display_name": "Python 3",
      "language": "python",
      "name": "python3"
    },
    "language_info": {
      "codemirror_mode": {
        "name": "ipython",
        "version": 3
      },
      "file_extension": ".py",
      "mimetype": "text/x-python",
      "name": "python",
      "nbconvert_exporter": "python",
      "pygments_lexer": "ipython3",
      "version": "3.8.8"
    },
    "colab": {
      "name": "Copy of NLP_cleaning.ipynb",
      "provenance": []
    }
  },
  "cells": [
    {
      "cell_type": "code",
      "metadata": {
        "id": "9a4f562a"
      },
      "source": [
        "# import all necessary model\n",
        "import pandas as pd\n",
        "import numpy as np\n",
        "import seaborn as sns\n",
        "import matplotlib.pyplot as plt\n",
        "\n",
        "import nltk \n",
        "import string\n",
        "import re\n",
        "from wordcloud import WordCloud, STOPWORDS , ImageColorGenerator\n",
        "from sklearn.feature_extraction.text import CountVectorizer\n",
        "from sklearn.feature_extraction.text import TfidfVectorizer\n",
        "\n",
        "from sklearn.model_selection import train_test_split\n",
        "from sklearn.naive_bayes import MultinomialNB\n",
        "from sklearn.model_selection import cross_val_score\n",
        "from sklearn.model_selection import GridSearchCV\n",
        "\n",
        "%matplotlib inline"
      ],
      "id": "9a4f562a",
      "execution_count": 87,
      "outputs": []
    },
    {
      "cell_type": "code",
      "metadata": {
        "colab": {
          "base_uri": "https://localhost:8080/"
        },
        "id": "9M1d_VXA8J8M",
        "outputId": "56df3fee-222a-474e-c6e6-4ffba2514114"
      },
      "source": [
        "!pip install openpyxl"
      ],
      "id": "9M1d_VXA8J8M",
      "execution_count": 88,
      "outputs": [
        {
          "output_type": "stream",
          "name": "stdout",
          "text": [
            "Requirement already satisfied: openpyxl in /usr/local/lib/python3.7/dist-packages (2.5.9)\n",
            "Requirement already satisfied: jdcal in /usr/local/lib/python3.7/dist-packages (from openpyxl) (1.4.1)\n",
            "Requirement already satisfied: et-xmlfile in /usr/local/lib/python3.7/dist-packages (from openpyxl) (1.1.0)\n"
          ]
        }
      ]
    },
    {
      "cell_type": "code",
      "metadata": {
        "id": "28667fcb"
      },
      "source": [
        "data = pd.read_excel('depressed.xlsx')"
      ],
      "id": "28667fcb",
      "execution_count": 89,
      "outputs": []
    },
    {
      "cell_type": "code",
      "metadata": {
        "colab": {
          "base_uri": "https://localhost:8080/",
          "height": 801
        },
        "id": "k0iBkmbJ8Tel",
        "outputId": "7e75d976-920a-4daf-f05e-caeb96c34ee0"
      },
      "source": [
        "data"
      ],
      "id": "k0iBkmbJ8Tel",
      "execution_count": 90,
      "outputs": [
        {
          "output_type": "execute_result",
          "data": {
            "text/html": [
              "<div>\n",
              "<style scoped>\n",
              "    .dataframe tbody tr th:only-of-type {\n",
              "        vertical-align: middle;\n",
              "    }\n",
              "\n",
              "    .dataframe tbody tr th {\n",
              "        vertical-align: top;\n",
              "    }\n",
              "\n",
              "    .dataframe thead th {\n",
              "        text-align: right;\n",
              "    }\n",
              "</style>\n",
              "<table border=\"1\" class=\"dataframe\">\n",
              "  <thead>\n",
              "    <tr style=\"text-align: right;\">\n",
              "      <th></th>\n",
              "      <th>Created-At</th>\n",
              "      <th>From-User</th>\n",
              "      <th>From-User-Id</th>\n",
              "      <th>To-User</th>\n",
              "      <th>To-User-Id</th>\n",
              "      <th>Language</th>\n",
              "      <th>Source</th>\n",
              "      <th>Text</th>\n",
              "      <th>Geo-Location-Latitude</th>\n",
              "      <th>Geo-Location-Longitude</th>\n",
              "      <th>Retweet-Count</th>\n",
              "      <th>Id</th>\n",
              "    </tr>\n",
              "  </thead>\n",
              "  <tbody>\n",
              "    <tr>\n",
              "      <th>0</th>\n",
              "      <td>2021-10-03 23:00:33</td>\n",
              "      <td>Michelle Obama</td>\n",
              "      <td>409486555</td>\n",
              "      <td>NaN</td>\n",
              "      <td>-1</td>\n",
              "      <td>en</td>\n",
              "      <td>&lt;a href=\"https://mobile.twitter.com\" rel=\"nofo...</td>\n",
              "      <td>How it started vs. how it’s going\\n\\nHappy ann...</td>\n",
              "      <td>NaN</td>\n",
              "      <td>NaN</td>\n",
              "      <td>23025</td>\n",
              "      <td>1444693864275709958</td>\n",
              "    </tr>\n",
              "    <tr>\n",
              "      <th>1</th>\n",
              "      <td>2021-10-04 07:24:12</td>\n",
              "      <td>BrooklynDad_Defiant!</td>\n",
              "      <td>1640929196</td>\n",
              "      <td>NaN</td>\n",
              "      <td>-1</td>\n",
              "      <td>en</td>\n",
              "      <td>&lt;a href=\"http://twitter.com/download/android\" ...</td>\n",
              "      <td>Who else would LOVE to see the media relentles...</td>\n",
              "      <td>NaN</td>\n",
              "      <td>NaN</td>\n",
              "      <td>8552</td>\n",
              "      <td>1444820612988522496</td>\n",
              "    </tr>\n",
              "    <tr>\n",
              "      <th>2</th>\n",
              "      <td>2021-10-05 08:43:45</td>\n",
              "      <td>SMTOWN</td>\n",
              "      <td>884378714</td>\n",
              "      <td>NaN</td>\n",
              "      <td>-1</td>\n",
              "      <td>en</td>\n",
              "      <td>&lt;a href=\"https://mobile.twitter.com\" rel=\"nofo...</td>\n",
              "      <td>TAEIL of NCT &amp; rapper Lil Boi to feature in Ra...</td>\n",
              "      <td>NaN</td>\n",
              "      <td>NaN</td>\n",
              "      <td>15586</td>\n",
              "      <td>1445203019553861633</td>\n",
              "    </tr>\n",
              "    <tr>\n",
              "      <th>3</th>\n",
              "      <td>2021-10-05 10:39:36</td>\n",
              "      <td>???? ????????xy ⁷</td>\n",
              "      <td>1045314656863023112</td>\n",
              "      <td>NaN</td>\n",
              "      <td>-1</td>\n",
              "      <td>en</td>\n",
              "      <td>&lt;a href=\"http://twitter.com/download/iphone\" r...</td>\n",
              "      <td>RT @chartdata: All of @BTS_twt's Hot 100 #1’s:...</td>\n",
              "      <td>NaN</td>\n",
              "      <td>NaN</td>\n",
              "      <td>10785</td>\n",
              "      <td>1445232173934469125</td>\n",
              "    </tr>\n",
              "    <tr>\n",
              "      <th>4</th>\n",
              "      <td>2021-10-05 10:39:35</td>\n",
              "      <td>Amanda Evans</td>\n",
              "      <td>1248046770682290178</td>\n",
              "      <td>NaN</td>\n",
              "      <td>-1</td>\n",
              "      <td>en</td>\n",
              "      <td>&lt;a href=\"http://twitter.com/download/android\" ...</td>\n",
              "      <td>RT @AdamsCumbie: I love this! ?????? https://t...</td>\n",
              "      <td>NaN</td>\n",
              "      <td>NaN</td>\n",
              "      <td>100</td>\n",
              "      <td>1445232173095731204</td>\n",
              "    </tr>\n",
              "    <tr>\n",
              "      <th>...</th>\n",
              "      <td>...</td>\n",
              "      <td>...</td>\n",
              "      <td>...</td>\n",
              "      <td>...</td>\n",
              "      <td>...</td>\n",
              "      <td>...</td>\n",
              "      <td>...</td>\n",
              "      <td>...</td>\n",
              "      <td>...</td>\n",
              "      <td>...</td>\n",
              "      <td>...</td>\n",
              "      <td>...</td>\n",
              "    </tr>\n",
              "    <tr>\n",
              "      <th>1986</th>\n",
              "      <td>2021-10-03 23:00:00</td>\n",
              "      <td>Decadent Publishing</td>\n",
              "      <td>142780741</td>\n",
              "      <td>NaN</td>\n",
              "      <td>-1</td>\n",
              "      <td>en</td>\n",
              "      <td>&lt;a href=\"https://mobile.twitter.com\" rel=\"nofo...</td>\n",
              "      <td>Will Tiffany and Charles be able to save their...</td>\n",
              "      <td>NaN</td>\n",
              "      <td>NaN</td>\n",
              "      <td>1</td>\n",
              "      <td>1444693726681575425</td>\n",
              "    </tr>\n",
              "    <tr>\n",
              "      <th>1987</th>\n",
              "      <td>2021-10-03 23:00:00</td>\n",
              "      <td>Terese McGroarty</td>\n",
              "      <td>22322884</td>\n",
              "      <td>NaN</td>\n",
              "      <td>-1</td>\n",
              "      <td>en</td>\n",
              "      <td>&lt;a href=\"http://twitter.com/download/iphone\" r...</td>\n",
              "      <td>RT @JoelOsteen: I love the fact that Jesus bro...</td>\n",
              "      <td>NaN</td>\n",
              "      <td>NaN</td>\n",
              "      <td>1873</td>\n",
              "      <td>1444693726677372941</td>\n",
              "    </tr>\n",
              "    <tr>\n",
              "      <th>1988</th>\n",
              "      <td>2021-10-03 23:00:00</td>\n",
              "      <td>ACT:⁵Acehilnr_?? |??STREAM??</td>\n",
              "      <td>1379126745815654403</td>\n",
              "      <td>NaN</td>\n",
              "      <td>-1</td>\n",
              "      <td>en</td>\n",
              "      <td>&lt;a href=\"http://twitter.com/download/android\" ...</td>\n",
              "      <td>RT @joe_txtmoa: Bighit is no longer holding ba...</td>\n",
              "      <td>NaN</td>\n",
              "      <td>NaN</td>\n",
              "      <td>558</td>\n",
              "      <td>1444693726673072134</td>\n",
              "    </tr>\n",
              "    <tr>\n",
              "      <th>1989</th>\n",
              "      <td>2021-10-03 23:00:00</td>\n",
              "      <td>?? ?? ??</td>\n",
              "      <td>1017947223164882944</td>\n",
              "      <td>NaN</td>\n",
              "      <td>-1</td>\n",
              "      <td>en</td>\n",
              "      <td>&lt;a href=\"http://twitter.com/download/iphone\" r...</td>\n",
              "      <td>love love love ?? https://t.co/bdULnKntMC</td>\n",
              "      <td>NaN</td>\n",
              "      <td>NaN</td>\n",
              "      <td>0</td>\n",
              "      <td>1444693726643822597</td>\n",
              "    </tr>\n",
              "    <tr>\n",
              "      <th>1990</th>\n",
              "      <td>2021-10-03 23:00:00</td>\n",
              "      <td>uGhtuGhcUgH ??♥️</td>\n",
              "      <td>1028993637818884096</td>\n",
              "      <td>NaN</td>\n",
              "      <td>-1</td>\n",
              "      <td>en</td>\n",
              "      <td>&lt;a href=\"https://mobile.twitter.com\" rel=\"nofo...</td>\n",
              "      <td>Happy birthday to the most beautiful man I hav...</td>\n",
              "      <td>NaN</td>\n",
              "      <td>NaN</td>\n",
              "      <td>0</td>\n",
              "      <td>1444693726614466568</td>\n",
              "    </tr>\n",
              "  </tbody>\n",
              "</table>\n",
              "<p>1991 rows × 12 columns</p>\n",
              "</div>"
            ],
            "text/plain": [
              "              Created-At  ...                   Id\n",
              "0    2021-10-03 23:00:33  ...  1444693864275709958\n",
              "1    2021-10-04 07:24:12  ...  1444820612988522496\n",
              "2    2021-10-05 08:43:45  ...  1445203019553861633\n",
              "3    2021-10-05 10:39:36  ...  1445232173934469125\n",
              "4    2021-10-05 10:39:35  ...  1445232173095731204\n",
              "...                  ...  ...                  ...\n",
              "1986 2021-10-03 23:00:00  ...  1444693726681575425\n",
              "1987 2021-10-03 23:00:00  ...  1444693726677372941\n",
              "1988 2021-10-03 23:00:00  ...  1444693726673072134\n",
              "1989 2021-10-03 23:00:00  ...  1444693726643822597\n",
              "1990 2021-10-03 23:00:00  ...  1444693726614466568\n",
              "\n",
              "[1991 rows x 12 columns]"
            ]
          },
          "metadata": {},
          "execution_count": 90
        }
      ]
    },
    {
      "cell_type": "markdown",
      "metadata": {
        "id": "c69fdf39"
      },
      "source": [
        "## Exploratory Data Anaysis: EDA"
      ],
      "id": "c69fdf39"
    },
    {
      "cell_type": "code",
      "metadata": {
        "id": "84b965c3"
      },
      "source": [
        "# Drop unrelated columns\n",
        "data = data.drop(['Created-At','Id','From-User', 'From-User-Id', 'Language', 'To-User', 'To-User-Id', 'Source', 'Geo-Location-Latitude', 'Geo-Location-Longitude','Retweet-Count'], axis=1)"
      ],
      "id": "84b965c3",
      "execution_count": 92,
      "outputs": []
    },
    {
      "cell_type": "code",
      "metadata": {
        "colab": {
          "base_uri": "https://localhost:8080/",
          "height": 202
        },
        "id": "a249dcc6",
        "outputId": "614da896-e02a-4cfc-b9e5-f4093b3b3d0b"
      },
      "source": [
        "data.head()"
      ],
      "id": "a249dcc6",
      "execution_count": 93,
      "outputs": [
        {
          "output_type": "execute_result",
          "data": {
            "text/html": [
              "<div>\n",
              "<style scoped>\n",
              "    .dataframe tbody tr th:only-of-type {\n",
              "        vertical-align: middle;\n",
              "    }\n",
              "\n",
              "    .dataframe tbody tr th {\n",
              "        vertical-align: top;\n",
              "    }\n",
              "\n",
              "    .dataframe thead th {\n",
              "        text-align: right;\n",
              "    }\n",
              "</style>\n",
              "<table border=\"1\" class=\"dataframe\">\n",
              "  <thead>\n",
              "    <tr style=\"text-align: right;\">\n",
              "      <th></th>\n",
              "      <th>Text</th>\n",
              "    </tr>\n",
              "  </thead>\n",
              "  <tbody>\n",
              "    <tr>\n",
              "      <th>0</th>\n",
              "      <td>How it started vs. how it’s going\\n\\nHappy ann...</td>\n",
              "    </tr>\n",
              "    <tr>\n",
              "      <th>1</th>\n",
              "      <td>Who else would LOVE to see the media relentles...</td>\n",
              "    </tr>\n",
              "    <tr>\n",
              "      <th>2</th>\n",
              "      <td>TAEIL of NCT &amp; rapper Lil Boi to feature in Ra...</td>\n",
              "    </tr>\n",
              "    <tr>\n",
              "      <th>3</th>\n",
              "      <td>RT @chartdata: All of @BTS_twt's Hot 100 #1’s:...</td>\n",
              "    </tr>\n",
              "    <tr>\n",
              "      <th>4</th>\n",
              "      <td>RT @AdamsCumbie: I love this! ?????? https://t...</td>\n",
              "    </tr>\n",
              "  </tbody>\n",
              "</table>\n",
              "</div>"
            ],
            "text/plain": [
              "                                                Text\n",
              "0  How it started vs. how it’s going\\n\\nHappy ann...\n",
              "1  Who else would LOVE to see the media relentles...\n",
              "2  TAEIL of NCT & rapper Lil Boi to feature in Ra...\n",
              "3  RT @chartdata: All of @BTS_twt's Hot 100 #1’s:...\n",
              "4  RT @AdamsCumbie: I love this! ?????? https://t..."
            ]
          },
          "metadata": {},
          "execution_count": 93
        }
      ]
    },
    {
      "cell_type": "code",
      "metadata": {
        "colab": {
          "base_uri": "https://localhost:8080/"
        },
        "id": "8a3284e4",
        "outputId": "ca76a1ac-647e-4140-c218-3b843e7004b0"
      },
      "source": [
        "print('Data size: ', data.shape)\n",
        "print('Columns: ', data.columns)"
      ],
      "id": "8a3284e4",
      "execution_count": 94,
      "outputs": [
        {
          "output_type": "stream",
          "name": "stdout",
          "text": [
            "Data size:  (1991, 1)\n",
            "Columns:  Index(['Text'], dtype='object')\n"
          ]
        }
      ]
    },
    {
      "cell_type": "code",
      "metadata": {
        "colab": {
          "base_uri": "https://localhost:8080/"
        },
        "id": "677f7caf",
        "outputId": "0d3dc01b-e3f1-4bda-ffcb-b6d97cea07a4"
      },
      "source": [
        "data.info()"
      ],
      "id": "677f7caf",
      "execution_count": 95,
      "outputs": [
        {
          "output_type": "stream",
          "name": "stdout",
          "text": [
            "<class 'pandas.core.frame.DataFrame'>\n",
            "RangeIndex: 1991 entries, 0 to 1990\n",
            "Data columns (total 1 columns):\n",
            " #   Column  Non-Null Count  Dtype \n",
            "---  ------  --------------  ----- \n",
            " 0   Text    1991 non-null   object\n",
            "dtypes: object(1)\n",
            "memory usage: 15.7+ KB\n"
          ]
        }
      ]
    },
    {
      "cell_type": "markdown",
      "metadata": {
        "id": "03225b63"
      },
      "source": [
        "## Data Preprocessing"
      ],
      "id": "03225b63"
    },
    {
      "cell_type": "code",
      "metadata": {
        "colab": {
          "base_uri": "https://localhost:8080/"
        },
        "id": "36e4f7d2",
        "outputId": "b5e492fe-3c94-4127-ec1c-802c0bc559d4"
      },
      "source": [
        "# Find and drop duplicated data\n",
        "data.Text.duplicated()"
      ],
      "id": "36e4f7d2",
      "execution_count": 96,
      "outputs": [
        {
          "output_type": "execute_result",
          "data": {
            "text/plain": [
              "0       False\n",
              "1       False\n",
              "2       False\n",
              "3       False\n",
              "4       False\n",
              "        ...  \n",
              "1986    False\n",
              "1987    False\n",
              "1988     True\n",
              "1989    False\n",
              "1990    False\n",
              "Name: Text, Length: 1991, dtype: bool"
            ]
          },
          "metadata": {},
          "execution_count": 96
        }
      ]
    },
    {
      "cell_type": "code",
      "metadata": {
        "colab": {
          "base_uri": "https://localhost:8080/"
        },
        "id": "4e927c08",
        "outputId": "7191f586-6f78-43d6-8533-ba0d667f85b5"
      },
      "source": [
        "data.Text.duplicated().sum()"
      ],
      "id": "4e927c08",
      "execution_count": 97,
      "outputs": [
        {
          "output_type": "execute_result",
          "data": {
            "text/plain": [
              "425"
            ]
          },
          "metadata": {},
          "execution_count": 97
        }
      ]
    },
    {
      "cell_type": "code",
      "metadata": {
        "colab": {
          "base_uri": "https://localhost:8080/"
        },
        "id": "7e7f98c5",
        "outputId": "c4d16853-8a28-435f-acd3-52109a698b32"
      },
      "source": [
        "(~data.Text.duplicated()).sum()"
      ],
      "id": "7e7f98c5",
      "execution_count": 98,
      "outputs": [
        {
          "output_type": "execute_result",
          "data": {
            "text/plain": [
              "1566"
            ]
          },
          "metadata": {},
          "execution_count": 98
        }
      ]
    },
    {
      "cell_type": "code",
      "metadata": {
        "id": "392260e9"
      },
      "source": [
        "data.drop_duplicates(inplace=True, subset='Text', keep='last')"
      ],
      "id": "392260e9",
      "execution_count": 99,
      "outputs": []
    },
    {
      "cell_type": "code",
      "metadata": {
        "colab": {
          "base_uri": "https://localhost:8080/",
          "height": 414
        },
        "id": "3d763063",
        "outputId": "2752e4b1-7672-4255-e44f-cbaebc22d3ea"
      },
      "source": [
        "data"
      ],
      "id": "3d763063",
      "execution_count": 100,
      "outputs": [
        {
          "output_type": "execute_result",
          "data": {
            "text/html": [
              "<div>\n",
              "<style scoped>\n",
              "    .dataframe tbody tr th:only-of-type {\n",
              "        vertical-align: middle;\n",
              "    }\n",
              "\n",
              "    .dataframe tbody tr th {\n",
              "        vertical-align: top;\n",
              "    }\n",
              "\n",
              "    .dataframe thead th {\n",
              "        text-align: right;\n",
              "    }\n",
              "</style>\n",
              "<table border=\"1\" class=\"dataframe\">\n",
              "  <thead>\n",
              "    <tr style=\"text-align: right;\">\n",
              "      <th></th>\n",
              "      <th>Text</th>\n",
              "    </tr>\n",
              "  </thead>\n",
              "  <tbody>\n",
              "    <tr>\n",
              "      <th>0</th>\n",
              "      <td>How it started vs. how it’s going\\n\\nHappy ann...</td>\n",
              "    </tr>\n",
              "    <tr>\n",
              "      <th>1</th>\n",
              "      <td>Who else would LOVE to see the media relentles...</td>\n",
              "    </tr>\n",
              "    <tr>\n",
              "      <th>2</th>\n",
              "      <td>TAEIL of NCT &amp; rapper Lil Boi to feature in Ra...</td>\n",
              "    </tr>\n",
              "    <tr>\n",
              "      <th>3</th>\n",
              "      <td>RT @chartdata: All of @BTS_twt's Hot 100 #1’s:...</td>\n",
              "    </tr>\n",
              "    <tr>\n",
              "      <th>4</th>\n",
              "      <td>RT @AdamsCumbie: I love this! ?????? https://t...</td>\n",
              "    </tr>\n",
              "    <tr>\n",
              "      <th>...</th>\n",
              "      <td>...</td>\n",
              "    </tr>\n",
              "    <tr>\n",
              "      <th>1986</th>\n",
              "      <td>Will Tiffany and Charles be able to save their...</td>\n",
              "    </tr>\n",
              "    <tr>\n",
              "      <th>1987</th>\n",
              "      <td>RT @JoelOsteen: I love the fact that Jesus bro...</td>\n",
              "    </tr>\n",
              "    <tr>\n",
              "      <th>1988</th>\n",
              "      <td>RT @joe_txtmoa: Bighit is no longer holding ba...</td>\n",
              "    </tr>\n",
              "    <tr>\n",
              "      <th>1989</th>\n",
              "      <td>love love love ?? https://t.co/bdULnKntMC</td>\n",
              "    </tr>\n",
              "    <tr>\n",
              "      <th>1990</th>\n",
              "      <td>Happy birthday to the most beautiful man I hav...</td>\n",
              "    </tr>\n",
              "  </tbody>\n",
              "</table>\n",
              "<p>1566 rows × 1 columns</p>\n",
              "</div>"
            ],
            "text/plain": [
              "                                                   Text\n",
              "0     How it started vs. how it’s going\\n\\nHappy ann...\n",
              "1     Who else would LOVE to see the media relentles...\n",
              "2     TAEIL of NCT & rapper Lil Boi to feature in Ra...\n",
              "3     RT @chartdata: All of @BTS_twt's Hot 100 #1’s:...\n",
              "4     RT @AdamsCumbie: I love this! ?????? https://t...\n",
              "...                                                 ...\n",
              "1986  Will Tiffany and Charles be able to save their...\n",
              "1987  RT @JoelOsteen: I love the fact that Jesus bro...\n",
              "1988  RT @joe_txtmoa: Bighit is no longer holding ba...\n",
              "1989          love love love ?? https://t.co/bdULnKntMC\n",
              "1990  Happy birthday to the most beautiful man I hav...\n",
              "\n",
              "[1566 rows x 1 columns]"
            ]
          },
          "metadata": {},
          "execution_count": 100
        }
      ]
    },
    {
      "cell_type": "code",
      "metadata": {
        "id": "86y9s4NjnQ4s"
      },
      "source": [
        "data.reset_index(drop=True,inplace=True)"
      ],
      "id": "86y9s4NjnQ4s",
      "execution_count": 101,
      "outputs": []
    },
    {
      "cell_type": "code",
      "metadata": {
        "id": "iwyzbZ-YWsab"
      },
      "source": [
        "list1 = []\n",
        "\n",
        "for i in data.loc[:,'Text']:\n",
        "  t1 = \" \".join(filter(lambda x:x[0]!= '@', i.split()))\n",
        "  t2 = \" \".join(filter(lambda x:x[0]!= '#', t1.split()))\n",
        "  t3 = re.sub(r\"http\\S+\", \"\", t2)\n",
        "  t4 = t3.replace('RT','')\n",
        "  text = \" \".join(t4.split())\n",
        "  list1.append(text)\n",
        "  "
      ],
      "id": "iwyzbZ-YWsab",
      "execution_count": 102,
      "outputs": []
    },
    {
      "cell_type": "code",
      "metadata": {
        "colab": {
          "base_uri": "https://localhost:8080/"
        },
        "id": "9-yYWnKV1QN1",
        "outputId": "035bb2fb-f77e-48fd-a22b-2d2e1fadee26"
      },
      "source": [
        "list1"
      ],
      "id": "9-yYWnKV1QN1",
      "execution_count": 103,
      "outputs": [
        {
          "output_type": "execute_result",
          "data": {
            "text/plain": [
              "['How it started vs. how it’s going Happy anniversary, Barack—love you! ❤️??',\n",
              " 'Who else would LOVE to see the media relentlessly questioning Sen. Manchin and Sen. Sinema about their Oil and Pharma donors? ??️',\n",
              " 'TAEIL of NCT & rapper Lil Boi to feature in Raiden’s new song ‘Love Right Back’ out on 10/11 6PM KST! To present a sentimental synergy!',\n",
              " 'All of Hot 100 Dynamite Savage Love (Laxed - Siren Beat) with & Life Goes On Butter…',\n",
              " 'I love this! ??????',\n",
              " 'I always love how Sydney politicians bash Canberra as a way to get people to vote for them to come here. If you hate Canberra, stay out of Federal politics and run for NSW state government.',\n",
              " 'Sets Personal Record As \"CRAZY IN LOVE\" Debuts At No. 11 On Billboard 200',\n",
              " 'Derwin waving the Raiders fans goodbye, we love to see it. ??',\n",
              " 'I love watching Derwin James, dude is a dawg!',\n",
              " \"hello !! im goldy n today's my birthday /o\\\\ thanks so much for all the love & support! i'd like to host a small raffle…\",\n",
              " 'OMG RUBY i love this already ????????????',\n",
              " 'Love It!!! Me animango ??',\n",
              " 'let’s talk about fake love era jimin cause..',\n",
              " 'keep it pure & genuine. always lead with love.',\n",
              " \"Mind pointing me to it anyways? I'd love to take a look!\",\n",
              " 'Wood Sign, Home Bar Sign, Wine Sign, Handcrafted',\n",
              " 'Happy Birthday ! Here’s hoping for another Blockbuster and most importantly, having fun on sets ?? Hope this…',\n",
              " 'Love you more ????????',\n",
              " 'I love the way you do it to me.',\n",
              " \"??Lets Network ?? Send me your PNGs, I like to follow some new faces. Also shoutout your most recent supporter/friend. I'll…\",\n",
              " 'Anniversary giveaway - part 1 5 winners £20 worth of rewards Like rt and follow Tag your duo and compliment them (spread so…',\n",
              " 'I love uuuu',\n",
              " 'JUNGKOOK I LOVE YOU JUNGKOOK I LOVE YOU JUNGKOOK I LOVE YOU JUNGKOOK I LOVE YOU JUNGKOOK I LOVE YOU JUNGKOOK I LOVE YOU',\n",
              " 'i love you so much, you beautiful human.',\n",
              " 'Dusk everyday till you love it',\n",
              " 'Alright whoever did brujeria on my love life FUCK YOU??',\n",
              " 'I love you mofos <3',\n",
              " 'I think is a blue chip community. The project is attracting many new investors because the team cares about…',\n",
              " \"A frame we love, from Lee Chang-dong's 'Burning' (2018)\",\n",
              " 'if you have jack’s follow can u get me a dm w him? thank uuu much love ??',\n",
              " '-bi -2003 -switch -in love -dumb gemini -welcome home btw -always looking for cools mutuals <3',\n",
              " 'yes, yuno is an nvl god but he is also a god at /encouraging/ /other/ people to nvl and i love that for him',\n",
              " 'craving for hugs and real love',\n",
              " 'Fun to see our little falcons register for traveling basketball tonight! We’d love to see you on the court this winte…',\n",
              " 'group of vtubers try to solve an unsolved case (fictional case). one of them is the killer and tries to throw the inves…',\n",
              " 'quit acting all surprised when people compliment you, look up to you, love your work, or see you in a good light. YES, you a…',\n",
              " '10,000 HOURS was released 2 years ago today and had the most first week streams in country music history ?? huge thanks to o…',\n",
              " 'I love this thread. I keep meaning to tackle it but it needs an ending...',\n",
              " 'Chaka Khan - I Know You, I Live You',\n",
              " 'i better find your love (2021)',\n",
              " \"??Trendsetters Art and Music Tour - Henry Live Performance - Can't stop the feeling - Rolling in the deep - But, I love you…\",\n",
              " 'Twitter is about to go down next. Guys if this is the last time you see me, I love you all! ??????',\n",
              " \"??| INFO SUGA, j-hope and RM are the FIRST and ONLY Korean songwriters to have credits in 3 songs on Billboard's\",\n",
              " 'She will terrorize you too. You are not immune to terror just because you are handsome and I love you',\n",
              " 'My baby boy just melts my heart ????I love my babies.',\n",
              " 'never beg someone for anything. not time. not attention. not love. not nothing. They should give all that willingly',\n",
              " '.@TXT_members \"The Chaos Chapter: FREEZE\" has re-entered Billboard Tastemaker Albums Chart this week. The album has now sp…',\n",
              " 'I’m loving these designs and I love the line brush you used, that little ink scratch texture is eye candy to me.',\n",
              " \"i'm the best, friend lover, daughter, sister etc. Idc idc, I do right by the people I love always\",\n",
              " 'love u by',\n",
              " 'I hear you! Me too!!!',\n",
              " 'I love it!!',\n",
              " 'god i love me. i’m so smart and hot. really wishing me the best in life.',\n",
              " 'NCTzens, thank you for the great Billboard 200 chart results! We truly appreciate your never-ending support and love, and w…',\n",
              " \"Happy birthday to a friend and a sister I got to know for the past couple months & girl you've been nothing s…\",\n",
              " 'TL is popping with chargers fans. You love to see it. Raiders couldn’t establish a run game or stop the chargers run game',\n",
              " 'jojo singing say love in 2021 ?? the runs',\n",
              " 'Nikola Jokic is going to love Jeff Green. That dunk was wild. Through traffic with a defender in front of him.',\n",
              " 'When you love your job ????????',\n",
              " 'it’s a gamble every time, but i love the game.',\n",
              " \"YEOONE 5TH ANNIV MESSAGE Our universe♡ I really miss youㅠ.ㅠ I cant believe that we're already in our 5th year, for the pas…\",\n",
              " \"This photo was taken at Bobi wine's journey from Kampala to Arua for his first rally, it shows love but more so the pain t…\",\n",
              " 'That ego can be stupid when not used appropriately. So then I can love them, just do my thing and care…',\n",
              " \"I love N.Flying and their weeb-friendly songs so where's their anime OST now\",\n",
              " 'My intentions are always pure. I do things out of love, never no ulterior motives.',\n",
              " 'Apna time bhi aayega is our way to live life happily... They give us to overcome our pains by there smile their love..…',\n",
              " 'My new channel banner, amazing avatar courtesy of ❤️❤️❤️ I love it so much ??',\n",
              " 'Jupiter is so bright ?? I love the planets so much',\n",
              " 'I’ve never been there myself. I’ve just seen it driving by the general vicinity when on vacations in California. It always intrigued me, so I read about it. I’m sure I would love it. Being from San Diego everything is (was) north to me in Cali. To me it’s just in NorCal. Lol.',\n",
              " 'love him',\n",
              " 'Love it!!!!',\n",
              " '.@BTS_twt ครอง บน Billboard Hot 100 รวม 17 สัปดาห์ สูงสุดเป็นอันดับ 2 ในทศวรรษนี้ (Butter x PTD ต่อเนื่อง 10 สัปดา…',\n",
              " 'i love svt songs!!! im really attached by their first albums ????',\n",
              " 'true love is a weapon',\n",
              " 'Love your mother, the most beautiful person on this earth. Our best critic, yet our strongest supporter.',\n",
              " 'DAYZ IM GONNA CRY I LOVE YOU SO MUCH thank you angel<3',\n",
              " 'LOVELY MORNING! AND TIME FOR SOME SHARING! We will giveaway 1000 $SCS each to 5 winners. Just Like & comment with love quote…',\n",
              " '.@BTS_twt’s No. 1 Hot 100 entries: Dynamite Savage Love (Remix) Life Goes On Butter Permission to Dance My Universe ht…',\n",
              " 'I LOVE U ALL????',\n",
              " 'If i ever say i want a partner for love its a lie. I just want someone to pop my bacne for me',\n",
              " 'i love him ??',\n",
              " 'The account had some S-tier meme game during the Reckoning Championship this weekend. You really love to see it. Which…',\n",
              " 'TAEIL of NCT & rapper Lil Boi to feature in Raiden’s new song ‘Love Right Back’ out on 10/11 6PM KST! To present a senti…',\n",
              " 'MY SIDE HOE IM CACKLING he really is that tho im in tears.... sorry figgy i love you with my whole heart but ur dads had my heart first',\n",
              " 'This is what happens when you have fans that genuinely love your music & want to ensure you know how much they appreciate…',\n",
              " 'cats are so bold i love them, every animal backing down or ran away too i know thats right',\n",
              " 'I love you guys!!!! Muah!!!! Everyone stay safe!! I hope y’all were present and enjoying life when most of the interne…',\n",
              " 'im so happy for you, yunhyeong. you deserve all of this. we love you so much yoyo ??❤️ YUNHYEONG ON VARIETY SHOW',\n",
              " 'people who are like “happy birthday to osamu only” or “happy birthday to osamu and atsumu too i guess” no offense but i HATE…',\n",
              " 'A quick tweet. Zhang zhehan, have you seen this? \"Hanhan, love well. I love you!\" On the Ferris wheels in Wuhan on 1/10. h…',\n",
              " 'got this one collection! Love the colors! ❤️\\u200d??',\n",
              " 'JUNGKOOK I LOVE YOU',\n",
              " '설강화 : Snowdrop - \"My life\\'s first radiant love blooms\" SNOWDROP IN DECEMBER',\n",
              " \"Today's Bar graph was really well done. I'd love to see more\",\n",
              " 'top love heart kiss xiaowu ??❤❤',\n",
              " 'Love this color',\n",
              " 'Happy birthday, dearest angel ?????? you’re loved by many people out there and you have to know that. Enjoy today, love and happiness are all around ✨??',\n",
              " \"I can't believe this! Words can't express how cool this is. Absolutely love the art style. This whole art is just amazing. The RP with has been awesome and y'all should check her out as well.\",\n",
              " 'You see her face I see her nature You like her beautiful looks I like her heart A beautiful soul from the inside as wel…',\n",
              " 'Love this SHOT ?? Thalapathy ??',\n",
              " 'There’s plenty of music. I’m so good!!',\n",
              " '',\n",
              " 'New account follow back 100% WE LOVE SHAH RUKH KHAN',\n",
              " 'Offset’s IG story!! Mark getting connections after connections, I love this for him ??',\n",
              " \"So close to 700M!! Thank you for all the love and support!! I couldn't have joined a better community!! ?? To celebrate…\",\n",
              " '「 wts lfb ph 」 ꔛ minghao polaroid set ╰ 700 (inclu of pf) + lsf ╰ mop: gcash ╰ mod: sco, ggx, sdd ╰ 3 days max reserv…',\n",
              " 'BALENCIAGA I LOVE YOU??',\n",
              " '“I love these exhibits at the library, and I’ve really missed them during the pandemic,” said Lisa Huberman, from Astoria.',\n",
              " 'not jung woosung on lee jungjae’s IG reenacting squid game lines— i love these ahjuicies',\n",
              " 'hey i’m sam! my pronouns are she/they. i’m 16. i’m gay asf. i love minecraft and weed too lmao. ive been in the marks twt for a few months now but i’ve been in the fandom since 2015ish. i also need new friends!!',\n",
              " 'live on tour // love on tour',\n",
              " 'love the conclusion',\n",
              " 'I wany a relationship whete I can express all my thoughts and speak about the things that I love without being judged or being told \" ana mala nrouh\"',\n",
              " \"Hey if you have a few minutes, I have a new song I'd love you to listen to - thanks if you're able to spare the time.\",\n",
              " 'I would love to be in Burghead for the Clavie getting booked up in accommodation is something I have not managed, ??',\n",
              " 'love how the byeongkwan pfps r the ones getting bitch slapped',\n",
              " 'WE LOVED SHAH RUKH KHAN WE LOVE SHAH RUKH KHAN & WE WILL ALWAYS LOVE SHAH RUKH KHAN',\n",
              " 'Hope you love her ❤️??',\n",
              " 'You seemed to have never experienced the power of love.',\n",
              " 'How Can someone Hate This Mam? ?? WE LOVE SHAH RUKH KHAN',\n",
              " 'Aww love you ????????',\n",
              " \"but does have a lot to offer. His channel and brand is amazing. I really love how he includes the community. Once people see past as a stock seer, and see him as a community, you will understand. Let's just not promote unrealistic rips.\",\n",
              " 'Gosh I love the soft look of them so much!! Incredible work!?? Will you post the G5 character concept art at a later point too? ??',\n",
              " '[211003] 10:21PM KST \"Eternal life\" \"Yes❤️ Lets be together forever????\" \"I love you so so much\" \"You really did a gre…',\n",
              " 'im taking this as a win idc what type of love they may be referring to',\n",
              " 'New essay by Michal Govrin puts love at the center of Holocaust memory + author talkback with Christine Hayes & Sources editor Benjamin Balint on Sunday, October 17 -',\n",
              " 'to and pull up a chair by the pool. Your family will love it! Read our guide to spending 3 perfec…',\n",
              " \"Thanks! Appreciate the input and love what you're doing!\",\n",
              " 'I just love how she thinks because my opinion is different than hers she thinks she knows where I get my news.',\n",
              " 'Happy national bf day love❤️',\n",
              " 'NAMJOON !! HE IS SO CUTE AND SUCH A GOOD PERSON I LOVE HIM SO MUCH HSIWIWDKKWSKDK',\n",
              " 'GNIGHT I LOVE U',\n",
              " 'I can’t believe that time has gone by so quickly, I’m gonna miss seeing you on my screen, I love you, my sweet baby girl. You are so beautiful, talented, so sweet; I could go on forever. I pray this life gives you everything you ever wished for and even more. ❤️',\n",
              " 'You will love it here. Land of the Free!',\n",
              " \"ahhhhh Hyejin is such a cutieeee when she's in love\",\n",
              " 'Love Live! Superstar!! - 10',\n",
              " 'Always beside you and your family.. WE LOVE SHAH RUKH KHAN',\n",
              " 'i love you too!',\n",
              " 'Love being told to message on insta instead of snap because they \"don\\'t use it as much\" and then get ignored for 3 fucking days',\n",
              " 'Thank you for this beautiful work ❤?? Its very sensual and inspiring! Ive always aspired to be able to draw like you do ✨ i love your work a lot and have read them multiple times ❤❤❤ i especially love how you draw eyes... So beautiful',\n",
              " \"Haters say SRK is finished but they still try to pull him down and they are unsuccessful every time. You can't pull SRK d…\",\n",
              " 'Correction- KING OF INDIAN CINEMA .... WE LOVE SHAH RUKH KHAN',\n",
              " \"Hmmm ... don't love this spot, but Fournette\",\n",
              " '\"I love them girls\" ??✨',\n",
              " 'I LOVE U LUV THANK U ILY',\n",
              " 'Until then love anyways stay respectful and keep it moving',\n",
              " 'joon is so sweet i love his personality so much i really want to be his best friend ??',\n",
              " 'No Matter What Will Always Support You Love you 3000 WE LOVE YOU SRK',\n",
              " 'death is so.....permanent. i have a hard time grasping that someone could be here breathing, laughing, loving, and then…',\n",
              " 'Do your love on Illustrator David Roberts teaches kids how to draw the characters. Here’s the link:',\n",
              " 'Here’s our latest album, we would love more listens!',\n",
              " 'The four Buddhist mantras for turning fear into love',\n",
              " 'Happy Birthday Ate Tin and Cha ?? We love you Stay safe always God bless and Enjoy your big day?? -TROYals',\n",
              " 'at event Ya love to see it ❤️❤️❤️ Fk the Twitter polls, these right here are two of the best communi…',\n",
              " 'breathe',\n",
              " 'Okay may be after 100+ views I have come here finally ?? Thy look ?????? keeping his promise to post reels...❤️…',\n",
              " 'LOVE YOU',\n",
              " 'All of us take our lives for granted and God gave me another chance to live from not letting me die during my freshman year. Life is so precious and all of here won’t be here forever. Why not try to tell our loved ones we love them and really experience the life god has given us.',\n",
              " 'Can we take a moment to respect and love her and appreciate',\n",
              " 'Thanks love ??',\n",
              " 'happy birthday dwen !! I LOVE U',\n",
              " 'Really love stickers. made this one for me.',\n",
              " 'The problem with Asiye and Doruk is that they love each other so much and they think they are th…',\n",
              " '? jiral nat ne.. love rago',\n",
              " 'I would love to but I am Nigerian & also the first grandchild.',\n",
              " 'need to be around some love',\n",
              " 'LOVE FOR SALE BUYING PAY',\n",
              " 'i miss you, i love you.. ????',\n",
              " 'Its October and that means that Candy Corn is out! Do you love it or hate it?',\n",
              " '??Fans of will fall in love with the Berkeley Square series. As luck would have it, His Dark Enchantress…',\n",
              " \"my mom: are you in love? me: why my mom: you don't eat much as you used to do me: ??\",\n",
              " 'Hope u love pet like this',\n",
              " 'I Love ?? Wax Adress : lclr4.wam Wish me luck guys ! I want so much to win?? ????????????',\n",
              " '?? 2021.10.3 The detail viewing data of \"Hidden\"and \"with Tawan\" from Fluke House as following table. Goodnight. ??',\n",
              " 'I nominate DonBelle for Love Team of the year.',\n",
              " 'Think of all the good moments of this day and keep a smile for tomorrow. Good night and have a peaceful night. Love you so…',\n",
              " 'Everyone understand love???? Jai hind ????',\n",
              " 'i love you to the moon and back ??',\n",
              " 'my love i may not get hu tao but at least let me have you KKSISISJS',\n",
              " 'to my 9teen, the one at my flower field, i love you, wooki. thank you for my beautiful youth. ??',\n",
              " 'The most powerful spell to be loved is to love. Happy Sunday my friends. ??????????????????????????Ik hou van je, schat ????????????????????…',\n",
              " 'dbdtwt is so full of drama, there needs to be more love :(',\n",
              " '[211004] 12:12AM KST: ?? - heung, please love savage a lot (/please show a lot of love to savage)… ooh ㅜ.. it’s coming out t…',\n",
              " \"I would love a ps5 or iPhone. I have been watching for 3-4 years, love you even if I don't win ??\",\n",
              " 'JEON JUNGKOOK WE LOVE YOU ?????? Happy 8800 days with JK',\n",
              " 'for someone who reads romance books like every day, it’s actually so fucked up that i don’t believe in the idea of love',\n",
              " 'Prayers con mucho amor. Stay strong. My love he’s in Gods hands now. With his will power and strength and your faith. Everything will be okay????',\n",
              " 'happy birthday jeonghan ♡ wish you a long life, and always healthy, whatever happened i still love you ♡ ! , this ur da…',\n",
              " 'ladies and gentlemen i present to you, kim jisoo',\n",
              " 'Revisit our trip to Dana Point Nursery and our interview with nursery managers Brooke and Rex. We chatted about their love of plants and the amazing history of Dana Point Nursery! Watch the interview on YouTube:',\n",
              " 'I love my privacy.',\n",
              " '???????????????? GIVEAWAY contest start today ! for giveaway & for 0.5BNB ! Close at 9 p.m on 4/10/2021. To join, you just…',\n",
              " 'Would love to see dao join',\n",
              " \"'Cause I'm off my face, in love with you , I'm out my head, so into yo\",\n",
              " 'Day 5: “We accept the love we think we deserve.”',\n",
              " 'we love Elon!',\n",
              " 'Scourge\\'s crown, shattered. \"The good guys always win in the long run.\" Issue 196 MASSIVE THANKS FOR 1000+ FOLLOWERS! A HU…',\n",
              " \"I guess you guys aren't ready for that yet... but your kids are gonna love it.\",\n",
              " 'I LOVE IT',\n",
              " 'and Gabi have a Sunday kind of love! ?? Listen to Country Love Songs Radio here: ??:',\n",
              " 'I love youuuuu ??',\n",
              " \"AT WORK INFINITY AT TIME INFINITY AT LOVE JET AIRWAYS UNIT KAA BLESS FAMOUS ENTRY GOD REMEMBER ALL PEOPLE'S BLESS PAIN ME BE IT ARUP\",\n",
              " 'joshua greeted jeonghan and that \"I love you my best friend\" tho. I\\'m not okay :)',\n",
              " 'LOVE IT my little joker',\n",
              " 'turkish people pleaseeeeeee please please please watch bahtoyunus live on tuesdayy on kanald please please please lets rise…',\n",
              " 'Only Indian actor to win UNESCO for charity. KING?? WE LOVE SHAH RUKH KHAN',\n",
              " '?????? he love him so much',\n",
              " 'The way adey love p*ssy erh… hehe u go run ????\\u200d♂️????\\u200d♂️ cos ebi my hobby and that’s only thing that makes me happy aside mo…',\n",
              " 'and Gabi have a Sunday kind of love! ?? Listen to Country Love Songs Radio here: ??:',\n",
              " \"Not to mention, I'm ironically quite good at science. I've always gotten an A or B on tests / science class. I don't appreciate symbolism the way others may but one of my special interests as a child (autistic at that) was astronomy & dinosaurs. And I love psychology. ⚗️????\",\n",
              " '“Beep beep! Coming through!” Stubbs the Zombie is just made for funny screenshots and clips! We’d love to see yours ??\\u200d♂️',\n",
              " \"Give me love like nobody else, cause lately I've been craving more\",\n",
              " \"I questioned myself I never could wait Looking for signs Not asking for help I know it's too late [Pre-Chorus: Luke] A love lost and buried here, it comes to life, life Make believe worlds make us all feel alive, live [Chorus: Michael] Airplanes cut through the clouds\",\n",
              " 'Fair! This is more a consequence of me just not groking some allistic behavior than my, admittedly also large passion for knowing about places, my love for endonyms, and history. But yeah. I know I should expect other people to care. But they seem to care a lot about me caring.',\n",
              " 'Especially with that look on D, I love the motion back makes defense have to communicate on fly, Trip opt makes them have to know who they got plus everything off it…love the look!',\n",
              " 'Found the yellow pepper tagging ?? Following, liked and retweeted. Make sure you follow anth. ???? Amazing prize, we love pizza. ??',\n",
              " 'When the whole world is watching you and you decide to still go harder than before instead of stepping back because of fear and doubt... You were born for it, you will keep improving to show your best side because you are doing what you love the most',\n",
              " \"Already been doing without the Ignition Remix and no stepping in the name of love, let's go\",\n",
              " \"All fans who would like to send food support or gifts to Singto in 'Paint The Love: The First Tae and Singto Virtual Date…\",\n",
              " 'What if we all focused more on loving Jesus and each other well? What if we sought to display that love and the life of Jesus?',\n",
              " 'One of the things I love about this space is that I don\\'t feel so alone in my emotions about the things I\\'ve experienced in life. I read your words and find relatability to knowing how it felt to go from \"fluid to motionless.\" Brilliant connection.',\n",
              " 'i love her huuuu',\n",
              " 'and Gabi have a Sunday kind of love! ?? Listen to Country Love Songs Radio here: ??:',\n",
              " 'Love your interpretation!',\n",
              " 'JEON JUNGKOOK WE LOVE YOU Happy 8800 days with JK ??',\n",
              " 'I love America. But I want to learn our REAL history. Not just the “America is the greatest” history. I want to learn th…',\n",
              " 'Do I want love? Yes. Do I want my space and to be left alone? Also, yes',\n",
              " \"Mariners Pancakes for breakfast before heading to the game today. Tastes like victory! Our exchange student from Spain added a chocolate chip cookie she baked for luck. Its her first baseball game. Let's GO M's!\",\n",
              " 'I have been thinking about Jungkook. I love his tattoos, his piercings. But honestly, what I love the most is that he has the f…',\n",
              " 'Real love is outside Twitter',\n",
              " '???? 5 songs I like right now???? ✨ My Universe - Coldplay & BTS ✨ Dimples - Woosung ✨ Bad Love - Key ✨ Nightfalling - John Park ✨ Love Me Like That - Sam Kim',\n",
              " \"YA'LL. ARE WE GETTING SAD LOVE SONG? THE WORD TAMED AND DASHED ARE ANTONYMS OF THE WORD UNBROKEN ??\",\n",
              " 'This makes me love this show even more:: Why Is Every Young Person in America Watching ‘The Sopranos’?',\n",
              " 'I actually hate those type the way they smell is disgusting.. regular mushrooms I love and I agree',\n",
              " \"?? Exactly the reason I said you're scouting for engagement. Go offline and get some love. You sound so sad from the first reply\",\n",
              " 'I would love to show you my at 5320 State Highway 49 North',\n",
              " \"I love being an inspiration. It brings me joy knowing I inspire people who are too lazy to come up with their own tweets, so they watch my account and tweet the same things as me within an hour. Just waiting on them to use my photos too. knows what I'm sayin'\",\n",
              " 'The universe is so lucky to have a beautiful person like you my love. Happy birthday, Jeonghan! ♥️',\n",
              " 'Happy 1000 days~ found you guys because of lay back, hoping for more days with you guys, love youuu ??????',\n",
              " 'Love the professional excitement',\n",
              " 'what your cravings really mean: bready - feeling of insecurity, soothes dissatisfaction chewy - relieves tension/stre…',\n",
              " '\"I LOVE YOU MY BEST FRIEND\" ????',\n",
              " 'I can’t even get mad no more ?? life funny af at this point',\n",
              " 'in love with the man and his reflection',\n",
              " 'Love that',\n",
              " 'Hey , can we get some love please',\n",
              " 'Don’t you love when I come around',\n",
              " \"4. it's worth being woke up when God speaks to you I love it I can say that a million times I love it man's life has become immune to the things around us accept sin and what sin has caused in our lives and we think it's normal I'm telling you right now\",\n",
              " 'Yes, cozy & relaxing...?? By the window, when it rains is just perfect..?? I just love them ! ❤',\n",
              " \"To Mew and Gulf ♡ This is a lyrics of what exactly I want to tell you both. 'Love, I am right here Don't you believe what the enemy tries so hard to make you believe You're not alone, and never will be Cause even when you feel lost you'll be found in me\",\n",
              " 'Love Live! Superstar!! - 10',\n",
              " '?????????? ???????????????? ??????! happiest birthday to my ult bias?? wishing u a very grateful life and awesome year. I hope u will be mo…',\n",
              " '???? I love the shading you did for her skin! And I love the outfit, frills are so cute ??',\n",
              " 'ANNOUNCEMENT: To all my followers and supporters, thank you so much for everything. I truly have no problem if any of you want to DM me about a prop bet you like but are unsure about OR if you just need somebody to talk to. Much love ❤️ Read the ENTIRE announcement ⬇️',\n",
              " \"The hype is on Let's show him some love good people and follow him, he follows back i…\",\n",
              " 'This character of Anuj is just love. Gaurav is amazing as Anuj. No doubt on that. . .',\n",
              " \"HE PUT HIS HAND ON KATSUKI'S FOREHEAD BECAUSE HE /HAD/ TO KNOW IF HIS SUSPICIONS OF HIM BEING SICK WERE TRUE, AND THEY…\",\n",
              " 'I LOVE your blog! Very beautiful! Gift for you: FREE transfer to WordPress-dot-org for those with a BlogSpot blog! Go to for more information!',\n",
              " \"Rita ma ne kitna pyara Hinglish me latter likha tha ko❤️?? Happy wala b'day lots of love,hugs,kisses & best…\",\n",
              " 'Doggy you boys love too be wrong lol, Oregon beat Utah in pac 12 championship. December 6,2019, beat Wisconsin in ?? bowl January 1,2020, that was pre covid,',\n",
              " 'o o c ; i dunno, he’s bisexual and that grumpy, middle aged guy, but nathless i would love to have some spicy encounters with him and other men too! talk back to him plssss!',\n",
              " 'LOVE FOR SALE BUYING PAY',\n",
              " \"I'm not weird, I just love to be alone SOMETIMES.\",\n",
              " 'TREND ALE ?? Start tweeting with \"WE LOVE SHAH RUKH KHAN\" & & Spread',\n",
              " \"My Dear Friends, Have a Lovely Day Or Evening. Discover the of from My Son Anthony's Click L…\",\n",
              " \"Dear You, I love it when you're trying to make me smile and laugh.\",\n",
              " 'you were united in one group not just to make great music but also to bring happiness to us. your chemistry is the mos…',\n",
              " \"That smile though! He knew he wasn't guilty <3 WE LOVE SHAH RUKH KHAN\",\n",
              " 'and Gabi have a Sunday kind of love! ?? Listen to Country Love Songs Radio here: ??:',\n",
              " \"?? Free card pulls! ?? I am super excited about my new Kali oracle deck and I'd love to pull some cards for my Twitter…\",\n",
              " \"happy birthday, Jung Ilhoon! i hope you're always healthy, and do everything well( ◜‿◝ )♡ have a lovely birthday as you are,…\",\n",
              " 'Happy Birthday to my best friend!! Hope you have a good one! Love you ????',\n",
              " \"He's so gorgeous...I truly love this man\",\n",
              " 'If the world against SRK, I will against the world Only SRK matters WE LOVE SHAH RUKH KHAN',\n",
              " 'Remembering how it all started, y’all daily support, love and words of encouragement??❤️ All LIQUOROSE can say is THAN…',\n",
              " 'Such a proud moment, reaching 82k followers and still counting. Thank you so much for all of your love and support! ????…',\n",
              " 'i love HIM',\n",
              " 'Sorry I love Jimin.',\n",
              " 'and Gabi have a Sunday kind of love! ?? Listen to Country Love Songs Radio here: ??:',\n",
              " 'Do people fall in love with things they can’t have? - always.',\n",
              " 'happy birthday so much my love thank u for always being everyone’s comfort and for working so hard always pls always be…',\n",
              " 'love my little boy ✨',\n",
              " 'Love the photo bomb in the back',\n",
              " \"2. to dry plants absolutely gives you life without it my relationship with God would be zero and that's just the way it is God's voice creates life whenever He shares it I love it.. yesterday my spirit the (Holy Spirit) felt the compassion of\",\n",
              " 'is actually INSANE Love you sugar mommy ❤️❤️???????????????????? /j',\n",
              " \"HOLY DAMN MACARONI FUCK I LOVE IT SO MUCH, THE BLOOOOODDD THE PICKAXE, JUST THE WHOLE FUCKING DRAWING OH MY GOD PO I'M GONNA CRY. /pos\",\n",
              " 'Love an angry Robbo!!',\n",
              " 'john youre addicted to a certain lifestyle you’re abnormally attracted to dangerous situations and people so is it truly such a surprise that the woman you fall in love with conforms to that pattern but she wasnt supposed to be like that why is she like that because you chose her',\n",
              " 'welcome home, wide awake, we fall love ?? teori apa lagi ini',\n",
              " 'and Gabi have a Sunday kind of love! ?? Listen to Country Love Songs Radio here: ??:',\n",
              " 'Tell you what… Paul always comes through with whatever food I’m craving no matter the time of day or if it’s a massive inconvenience… and doesn’t get annoyed if I no longer fancy it. I think that’s love.',\n",
              " 'We love to support local! When it’s time to get your pumpkins what’s your favorite pumpkin patch to pick them?',\n",
              " 'Get this one on or AND now on',\n",
              " 'He ain’t deserve it, send it my way love',\n",
              " \"I think i'm in love\",\n",
              " 'destroy them love',\n",
              " 'This is our way to show the love and appreciate you both in the best way ❤ The one who work day and night just to make our e…',\n",
              " 'Personal Energy, Balance & Priorities / Love your work? How to re-energise and keep your sense of balance:',\n",
              " 'I love my eunwoo tunnel vision',\n",
              " \"SRK is the only A lister of Bollywood with 0 criminal cases against him. So it's next to impossible that his son Aryan w…\",\n",
              " 'I love this so much ??❤️',\n",
              " 'Always by your side WE LOVE SHAH RUKH KHAN',\n",
              " 'Love it!!',\n",
              " 'I love you more than you know ??',\n",
              " 'Love that blue, I’m telling you ????????????',\n",
              " 'Best thing you’ll see today. Sports. “Find something you love to do and you’ll never have to work a day in your life.” -…',\n",
              " 'ibn qudamah RA : \"the salaf used to love whoever advice them about their faults , while nowadays, we hate no one more than the people who advice us about our faults\"',\n",
              " \"I love that! Now it's cat wrapped in a blanket because that is going to be what I want to do for the rest of the year :) I've thought about making my avatar of me, but nah. This is more fun.\",\n",
              " 'Can I get 70 Retweets in 15 minutes ? WE LOVE SHAH RUKH KHAN',\n",
              " 'Love the artwork!',\n",
              " '[??] EPEX 2nd EP Album BIPOLAR Pt. 2 : 사랑의 서 Group Concept Photo - Your Lover',\n",
              " 'You know you love it.',\n",
              " '??: i love you more than the word ‘love’',\n",
              " 'Hi SBS team, Me and my daughters run a blogging website called We cover topics such as Parenting, The Menopause and general life advice! We have a Menopause Book coming out soon that we would love help to advertise',\n",
              " 'what is love vs the feels ??',\n",
              " 'Joshua\\'s message to Jeonghan ❤️❤️ \"Jeonghan-ah ♡ when you asked me to work out with you, let\\'s go together kekeke ♡♡…',\n",
              " 'Blind spot? You tweet a great deal about Michael and his artistry and you believe he’s guilty? His t…',\n",
              " 'he’s always spoiling us with pics all the time I LOVE HIM',\n",
              " 'Love these dunks',\n",
              " 'Well finally got it on canvas! Went my merch store to get it done because guess its hard to find a place to n…',\n",
              " 'Awwwwwwwww you two. Yeahhhh LOVE!!!',\n",
              " 'My friends are my clients and i love it here!',\n",
              " \"Hello I would loveeeee, love if you gave a spin while you're on air at today. Thank you so much\",\n",
              " 'thank youuuu, ken! you made our night, alam naming pagod ka kaya salamat for spending some time with us, we really appreciate…',\n",
              " 'Jdbjdbs love you??????????\\u200d♀️????\\u200d♀️????',\n",
              " 'I love this team! We aren’t afraid of what lies ahead. They work!! We have high expectations and even higher standards! The…',\n",
              " \"Hwajeong is also an absolutely amazing mom - can't miss out on her telling Ijun that he is not defined only by his big achievements! Such a good reminder for all of us, too. ?? I love love love Hwajeong for that.\",\n",
              " 'Conservative white kids and their “love for Jesus ❤️” makes me laugh so hard ??',\n",
              " 'HEESEUNG WE DO LOVE YOU TOO is now trending under Kpop with 58.8 tweets. ?????? Keep em coming. Let Heeseung know he is love…',\n",
              " '??Thank you so much because you guys always makes my day and other verrer all around the world better!?? We love you! Rememb…',\n",
              " 'TIL that Hergé’s lovely style is referred to as “Ligne claire” and that there’s a Wikipedia article with a list of other artists…',\n",
              " \"Also love the Sophia's shop. The style, the colors, as well her animations.\",\n",
              " 'i love grapes',\n",
              " 'We love this conversation between creator of graphic novel PUTIN’S RUSSIA, and of',\n",
              " 'and Gabi have a Sunday kind of love! ?? Listen to Country Love Songs Radio here: ??:',\n",
              " 'My First time ever performing in ATL & I love it dare lol ... it’s was a blessing',\n",
              " 'You will know how to heal the illnesses of anger, sorrow, insecurity, sadness, hatred, loneliness, and unhealthy attachments if you learn to practice love, compassion, joy, and equanimity.',\n",
              " \"Currently at 7yo skating lesson. In crowded dressing room a parent was (loudly) explaining to his son that he goes to private school because daddy loves him unlike his parents that didn't love him\",\n",
              " \"Never forget how amazing you are.. You're doing well today, I'm so proud of you. I love & appreciate you sm. You are strong, w…\",\n",
              " '??| Harry via Instagram “Love On Tour. Nashville, TN.”',\n",
              " 'Drop off the bag then I pick it up if you want me to do it then it’s all for your love',\n",
              " \"* Oh * Um * Oh * Uh * It * It's * Oh * Well * Um * Mmm * It's * How Do I Put This * Very... * ... * Smart * So Smart Y…\",\n",
              " 'Lmaooo?? I would love to play this.',\n",
              " 'When I Fall In Love (ft. Michael Buble) by Boyz II Men | Tune in to (link in bio)',\n",
              " 'and Gabi have a Sunday kind of love! ?? Listen to Country Love Songs Radio here: ??:',\n",
              " '. LOVE NWANTITI is predicted to move up to (+6) on Billboard Hot 100. — 8.3 Million streams. — 0.8K sal…',\n",
              " 'As parents, I cant even imagine the stress and went through. It is your parenting that is the fine line b…',\n",
              " 'Woh sirf star nahi hai... duniya hai meri. We will always stand with our star because he is the reason we smile everyday.…',\n",
              " 'So like…I love who loves me. lmao. Like dearly. and I mean that genuine and true love. not that phony, circumstantial type shyt.',\n",
              " 'Your happiness is everything for us ?? stay strong love ❤️',\n",
              " 'Dorit Reiss now runs the hate site \"We Love GMOs and Vaccines\" A really wonderful site for spreading disinformation.',\n",
              " \"Wanted to show a little bit of animation work for I'm Kayla, I love animating, ill…\",\n",
              " 'HEY HAPPY BIHDAY TO MY WEN WEN WEN THE NAUGHTY GIRLLLL ! I hope your day is marvelous, fun, relaxing, and good. Wishing you a blast in the lands over yonder. love uuuuuu ♥️♥️',\n",
              " 'I love you guys...❤❤❤ May our Heavenly Father fill your lives with the greatest of treasures.??',\n",
              " 'Love these!',\n",
              " 'I love your beauty through your eyes and your smile ☺?? Cr ig',\n",
              " 'Every scene says to us that these two people love each other very much. Doruk is obvious, but when you look carefully,…',\n",
              " 'Love your style!',\n",
              " 'and Gabi have a Sunday kind of love! ?? Listen to Country Love Songs Radio here: ??:',\n",
              " 'atleast my i love you hehehe jihan nation we won',\n",
              " 'Felicidades Yuna... I love you',\n",
              " '1004: may all your wishes come true, today and always ♡ happy birthday, love',\n",
              " 'They thought I’m a rich girl well ofc I had a lot of money because I earned it. I have a stable job, a car and soon maybe a house of my own. I do love shopping because that was how I treat myself so that I can be happy. Hong Banjang you are my ideal BF.??',\n",
              " 'Love Live! Superstar!! - 10',\n",
              " 'I love your avatar.',\n",
              " '\"People love Dead Jews\" is released on the 8th October, my ex husbands 60th birthday. I never thought he wouldn\\'t have an handle on antisemitism, but later my pain has increased since he\\'s even made comments to show he doens\\'t understand it.',\n",
              " 'What a week. Combine that with that’s 12 points from 12 this week! Love that',\n",
              " 'Love you too bro',\n",
              " 'Landed in It is wonderful to be back in the picturesque city of Stupas & temples after a long gap. I start my…',\n",
              " 'thanks I really love getting unsolicited dick pics because your shitty app recommends me a tweet that just says \"I love sucking dick\" followed by a ton of cocks in description',\n",
              " 'The more successful you get, the more enemies you make. The more you pull him down the more he will rise! WE LOVE SHAH RUK…',\n",
              " 'I reached out to Joyne to ask some questions. It seems some members may not be in favour of masking/vaccine mandates but that the shop as a collective will continue to follow PH measures. ????\\u200d♀️',\n",
              " 'I love how everyone criticizes Messi when his teammates play bad but nobody cares about what kinda impact their \"goats\" have. Benzema has been world class since Ronaldo left Madrid for example. The fact Messi has so much higher standards than other players tells it all.',\n",
              " 'BLACKPINK Highest peaks on Shazam US chart ????: MONEY - (+6) (so far) Ice Cream – Kill This Love –',\n",
              " 'Yo 7’2 75 driving dunk version of JRAEK0s build if you wouldn’t mind taking a look. Regardless love the content keep it up.',\n",
              " 'Just a reminder that the song we have wanted for so long aka Love back is about to release in 72 hours. Remember to pre…',\n",
              " '“I want to join in with your amazing online love fest but what do I need to do?!” You cry. Fear not.',\n",
              " 'i love jj but she better quit dicking on my boi',\n",
              " 'happy boyfriend day to this boy, love ya!!',\n",
              " 'the genshin concert was honestly so amazing, i would love more stuff like that from mhy ;o; i feel so nostalgic listening to their music, it takes me back to all the disney music i listened to as a child aaaa',\n",
              " 'my biggest take out from is hyejin has a lot of aegyo and does everything in it when she’s in love, s…',\n",
              " \"she's so crazzzzzyyyyyy i love her /s\",\n",
              " 'and Gabi have a Sunday kind of love! ?? Listen to Country Love Songs Radio here: ??:',\n",
              " 'Intentional. He wants people to marry government. Control. Politicians love it. You are paid too.',\n",
              " 'wtf wait no I take it back I don’t wanna be a nerd I love gay people so much ??????????????❤️❤️',\n",
              " '[211004] JEONGHAN DAY?? happy birthday!?? you are the most generous and fun-loving person i know, you are an inspiratio…',\n",
              " 'the way carisi knew when rollins was pregnant i love him it’s true',\n",
              " 'Pleasure treasure Out of sight but ever present love always in my thoughts and prayers ?????? in life best plac…',\n",
              " 'What’s coming for you this October? ??✨ you can apply to either sun/moon/rising Aries: extra income, $$$ Taurus: passionat…',\n",
              " 'Love what am hearing. $EXP',\n",
              " 'from has dropped “BAD LOVE”. But let’s be real, there’s nothing bad about the love we have for this 6-trac…',\n",
              " 'Confirmation! ?? was just invited, he did not do the party and neither he have any drugs consumption nor he invo…',\n",
              " \"To support Jin's 1st solo OST, we'll be collecting funds to help in charting it. As major charts r unavailable in Paki…\",\n",
              " '10/03 ♡ new era & new user and i’m in love bitchess',\n",
              " 'Shout-out to our girl the one and only ✨@mayamilanmusic✨ showing some love ❤️ Talent supports Talent! If you haven\\'t heard our new single \"GETCHO!\\'\\' you\\'re missing out!! Go stream now! Available on all music platforms ??',\n",
              " 'I love u ❤︎',\n",
              " 'Yaaaaaas girl, go on, give us nothing, I love it!',\n",
              " 'i love gossiping and y’all do too, it’s time we start being honest',\n",
              " \"Tammy Duckworth is a disabled veteran. Disabled veterans don't pay property taxes in Illinois. Why does Fox News hate…\",\n",
              " 'SRK is more Indian and more patriotic than any of us. WE LOVE SHAH RUKH KHAN',\n",
              " '\"i love you my best friend!!\"',\n",
              " 'Ever since that big six treachery I love seeing the little guys bloody noses in this league. Bravo',\n",
              " 'If was there we could have been triplets LOL! Love this photo. Thank you for designing the shirt and for selling it!',\n",
              " 'dont tell her you love her...show her you love her....',\n",
              " 'Joshua to Jeonghan: \"i love you my best friend\" ??',\n",
              " 'Baji Keisuke If you love me, you don’t love me in a way I understand.',\n",
              " 'I love rock n roll',\n",
              " 'Pay attention to how is trying to deflect & divert. I especially love how he emphasises Facebook removed ‘…',\n",
              " '-- 1 Man. 1 Year. Working 10 Traveling Carnivals. The Story of Adventure, Love & Death on the Road! Click American OZ -',\n",
              " 'Quick, someone fall in love with me so I can post you to this',\n",
              " 'I love you moreee ❤️',\n",
              " 'Can I get 20 Retweets in 15 minutes ? WE LOVE SHAH RUKH KHAN',\n",
              " \"Lalita Tripura Sundari. She brings you grace, light, love and joy. She is the light side of Kali's darkness and ferocity. She asks you to cultivate all that brings you joy and release that which does not.\",\n",
              " 'love you ??',\n",
              " 'Just a friendly reminder to show yourself some love this Sunday. ❤️',\n",
              " 'Woke up feeling good I love the way we finished!',\n",
              " 'and Gabi have a Sunday kind of love! ?? Listen to Country Love Songs Radio here: ??:',\n",
              " 'of course wear what you want i love clothes myself but it’s comforting to know i don’t hate posers because im an asshole i hate them because im a commie',\n",
              " \"PP'S FACE SCREAMING he's in love\",\n",
              " 'Good morning America I love all y’all ??',\n",
              " 'Man I love femboys… someone buy me a skirt and thigh highs',\n",
              " 'LOVE their bromance ??',\n",
              " 'Money over bitches, and above hoes That is still my favorite love quote',\n",
              " '“i love you my bestfriend” i love their friendship',\n",
              " \"snsd's perfect harmonization in all my love is for you continues living in my mind rent free\",\n",
              " 'love shot 03',\n",
              " \"Here's some homemade Lasagna that i made today. I hope it is enough to celebrate your birthday. Wishing you a happy, bright successful future, good health, lots of love and joy. May you find your happiness in live, and love as well... may the universe bless you....\",\n",
              " 'how u gone say u love halloween nd spooky shit then cry when i ghost you',\n",
              " \"i love him so much i'm crying\",\n",
              " 'I love you ??????',\n",
              " 'and Gabi have a Sunday kind of love! ?? Listen to Country Love Songs Radio here: ??:',\n",
              " 'I would love to gain more followers. I’m at 505. It’s important to me that people hear how vital good local journalism is for democracy. Facts and truth to drown out misinformation ??',\n",
              " 'GROWING PAINS WINTER LOVE DANGER 10.05.2021 ??????????',\n",
              " \"Yeah it felt like bullshit to me. In 20 years he'll be talking about the time he lost out to an affirmative action hire, he knows bc they told him why they couldn't hire him even though he was the best, a scenario white men love to claim which has happened approximately never.\",\n",
              " 'Thanks my love ????????',\n",
              " 'PTP❤️ BUY AND STREAM LOVE FOR SALE ???? ?? LOVE FOR SALE BUYING PAY',\n",
              " 'happy birthday to my og, my main, my 4lifers, my soulmate, my person, my kapatid + 99 more. i’m so grateful to have u and super happy that i get to call you my bestfriend! thanks for the 7 years & thanks for always having my back. i love you for lifers, <3',\n",
              " 'boyfrandddd we need edible arrangements on our doorstep every week to prove your love to us pls n thnk u ??❤️',\n",
              " 'love the difference in the way they present the image of zhongli and childe in their respective posters zhongli is all ste…',\n",
              " '',\n",
              " 'LADY & BENNETT ?? LOVE FOR SALE BUYING PAY',\n",
              " \"13. The Bonewicca set from The Swallow's Compass is actually pretty good. The caster set is super sexy. 14. The Eden raid sets are SUPER up my alley. ♥ I love celestial/ethereal/mystical themes in costumery so it was so nice to see/have! 15. The Ivalice raid gear - nostalgic??♥\",\n",
              " 'and Gabi have a Sunday kind of love! ?? Listen to Country Love Songs Radio here: ??:',\n",
              " '[211003] 11:05PM KST i ate it allㅎ love it~ i like everything about tiny~ looking forward to the eternal sunshine mv❤️…',\n",
              " \"They obsess. Not gonna lie but the effort of looking at retweeting just to say something.. like i know you're a fan. Secretly a fan but tbh aren't you tired of stalking and pointing out shit when all we do is love and support the band/s we like? More specific BTS? Lmaaao\",\n",
              " 'love you',\n",
              " 'Let’s get STAED LOVE FOR SALE BUYING PAY',\n",
              " 'kiel i love this edit so much i can watch it over and over again!! thank youuuu ❤️❤️',\n",
              " \"Robi Robi Robi can't you see Sometimes ya words just hypnotize me & I just love ya flashy ways Guess that's why they broke & you're so hated\",\n",
              " '\"take 5 minutes\"...you love the attention,,makes we wonder if you spout such nonsense,just for the attention,it\\'s impossible by laws of averages that you would get so much wrong,when there is an UI we should appoint you to \"joker of the dail\"',\n",
              " \"I've never felt so at home and welcome. This fandom is the first I've ever been into. This feeling is just too great and…\",\n",
              " \"let's give our interview with some more love! retweet this tweet and comment with your favorite guru one-li…\",\n",
              " 'We find love in the strangest places Keep your head up and your eyes open',\n",
              " 'bruh i’ll miss you sm:((( i hope you get better and just so yk i’m always for literally anything <33 love you sm',\n",
              " 'THANK YOU FOR EVERYTHING TODAY I FEE…',\n",
              " 'our healing idols, thankyou for debuting. we love more than the word “love” & let’s be together tomorrow as well <3',\n",
              " 'LOVE FOR SALE BUYING PAY',\n",
              " 'my favorite is venti !! i love him waaaay too much <33',\n",
              " \"Two hearts. One love. ?? Symbolizing the love you share, Kay Jewelers' Two as One collection makes an excellent gift for your special someone.\",\n",
              " 'up at Eddie with eyes completely filled with love, smiling as he set him down on the sand',\n",
              " 'finally came to a point in my life where i genuinely love who i am ??',\n",
              " '…just woke up to more rain. I love it. ????☺️??',\n",
              " \"I'm so sorry all of this happened, but we fucking love and support you traitor ❤️❤️❤️Here for you if you need anything ❤️❤️❤️\",\n",
              " 'being born in October and being goth is such a double edged sword ?? i love the weather bUT THE BOOTS I WANT FOR MY BIHDAY ARE ALWAYS FUCKING SOLD OUT IN MY SIZE',\n",
              " '??#HappyOctoberBirthday ?? May the month of October fill your days with Hope, Love, and Sunshine. is also',\n",
              " 'Happy person who made everyone happy around her.. Wish her the best always...She used to said \"Ppl who loves me I love t…',\n",
              " 'Love Live! Superstar!! - 10',\n",
              " \"It really got me thinking which gotchi should I send it to when you've spent most of your time and tokens on I still love ETH???? anyway.\",\n",
              " 'Say I love you without saying I love you.',\n",
              " 'who picked up heather ??',\n",
              " 'Mmmm I love both flavors',\n",
              " 'I love him',\n",
              " 'In whatever you do, never fall in love with your course mate',\n",
              " 'Am I in love? YEESSS',\n",
              " 'Still love this',\n",
              " \"Twitter Trends | South Korea ???? 2 keywords are trending in South Korea as fans wake up to find Jimin's latest selca on\",\n",
              " 'ଘ Happy birthday my love i hope you always happy. ɞ̴̶̷ ·̮ ɞ̴̶̷ don’t forget to take care of yourself body and so…',\n",
              " 'DAY 2. Naga / Lamia. sorry late and loose but snake bitches do be cool. Im love monster girls',\n",
              " 'The way that I am in love with a. Kappa sig who doesn’t like me back',\n",
              " 'I stand by and his family, no matter what! WE LOVE YOU SRK WE LOVE SHAH RUKH KHAN',\n",
              " 'I love that honestly',\n",
              " 'I love my dog but theres days i feel like kicking that bitch with all might for this shit',\n",
              " 'I love you my best friend',\n",
              " 'They literally have that big bro and lil bro energy and i love it so much',\n",
              " \"i can't even explain how much i love this man\",\n",
              " 'I love you more babe ??',\n",
              " 'im in love',\n",
              " '“We can disagree and still love each other, unless your disagreement is rooted in my oppression and denial of my humanit…',\n",
              " 'I love step brothers lmao it’s a classic',\n",
              " 'I love sharing GOOD NEWS ?? ‼️??????',\n",
              " 'i saw your worst and i still love you.',\n",
              " 'In love with what’s happening here on the sets ...!Here is the of',\n",
              " 'Love Yourz',\n",
              " 'Maybe. It would be good if do all the things we love to do',\n",
              " 'We srkians together are like a tornado when we’ll arrive the whole world will run away from us???? WE LOVE SHAH RUKH KHAN',\n",
              " 'Shika encouraging his loved ones to get the recommended 8 hours of sleep we love to see it????',\n",
              " '“There are two types of people in the world: those who prefer to be sad among others, and those who prefer to be sad alone.” Nicole Krauss, The History of Love',\n",
              " \"when you're too in love to let it go\",\n",
              " 'Bye bye I be off on ma walkies, love Harley ??❤️',\n",
              " 'True love is only identified when there is no material benefit to be gained. That is why many rich men who suddenly become…',\n",
              " 'eh yang love languagenya physical touch how do you handle living in pandemic situation deh?',\n",
              " 'and Gabi have a Sunday kind of love! ?? Listen to Country Love Songs Radio here: ??:',\n",
              " \"I saw something amazing today. community is really a family. I didn't experience this close even in & $…\",\n",
              " 'and Gabi have a Sunday kind of love! ?? Listen to Country Love Songs Radio here: ??:',\n",
              " 'Oh yes there is a recap. Awesome love the s1 recap',\n",
              " 'You’ll hear the words “I love you” soon.',\n",
              " 'I love the doggos ❤❤??',\n",
              " 'Pokemon Mini Figurine Collections Great for your desk or shelves, these mini figs are randomised and…',\n",
              " 'Isn’t this Terrorism. Arbaaz was tortured,dismembered and beheaded over an alleged interfaith love affair with a girl in Be…',\n",
              " 'I LOVE THE BORUTO ANIME FOR THIS ????????',\n",
              " 'Love the zeal :)',\n",
              " 'WAA I really love !! ????',\n",
              " 'Love you ❤️',\n",
              " 'and Gabi have a Sunday kind of love! ?? Listen to Country Love Songs Radio here: ??:',\n",
              " 'I love how you bring music and fun to this powerful message! ??❤️??',\n",
              " 'two of my best friends are totally in love with each other and dont realise it but are in different continents. how d…',\n",
              " '. and I take a closer look at Frasier\\'s \"Can\\'t Buy Me Love\"',\n",
              " 'I love ????',\n",
              " 'If you know what love is, it could be because of dogs.',\n",
              " 'A baby Gannet is 1 of the most extraordinary looking chicks! Look at that fuzzy wig. Gannets nearly always lay 1 egg....pu…',\n",
              " 'Absolutely love this article. Thank you for writing it.',\n",
              " 'Meet Gelato! Who doesn’t love Gelato? Even the lactose intolerant will adore this boy. He’s so teeny & so spunky, always rea…',\n",
              " 'I love it ????????',\n",
              " 'Finished for a second time and can’t stop thinking about it. sir, you are cracked in the head but I love you for it. This game has blown me away again, it’s probably in my top 3 now. If you haven’t played the game I leave you with this clip...',\n",
              " 'happiest birthday my love, my rest, my source of happiness !! mahal na mahal kita <3',\n",
              " 'I hope they are good friends outside cos I love them both',\n",
              " 'U see this is the things i love to see positive things only not IF',\n",
              " 'Spread the love and tax them all.',\n",
              " 'Sloth had the face that none of the others did. He gets the advantage because it takes people a minute, but we all grow to love it in the end.',\n",
              " 'BOUNCE BACKKKKKKK!!! & etc SUPPO KAMI LAGI SAINYOOO WE ARE ROOTING FOR YOU GUYS!!!! WE LOVE YOU',\n",
              " 's: i need to sleep! ❤️ s: the reason being because tomorrow is also (an) early (start) so s: need to gain/get strength! s: f…',\n",
              " 'Make me happy, is 3J. Love 3000',\n",
              " 'We’re starting to gain good momentum, I love our spirit ❤️\\u200d??❤️\\u200d??❤️\\u200d??❤️\\u200d??❤️\\u200d??❤️\\u200d??❤️\\u200d??❤️\\u200d??❤️\\u200d??❤️\\u200d??',\n",
              " \"I'm sharing the header I did yesterday of my OC's costume (Joker) I love Halloween and I want everyone to get involved, real…\",\n",
              " 'A mf will treat everyone in life good except the one person that shows them the most love.',\n",
              " '—we got 32 weverse notifications from our main comforter NAMJOON. Thank you for this night, we love you namu.??',\n",
              " 'I nominate for Love Team of the year.',\n",
              " 'love how absolutely pure hearted Joon is saying people are staring at him bc of the bike as if he’s not a whole ass Kim Na…',\n",
              " \"don't you just love it when jungkook doesn't give a fck about people’s opinion and gets more tattoos and piercings ???? he i…\",\n",
              " 'No matter how long we still gonna wait for you ?? 3 Houses, 3 Types of heart, 1 types of love ?? Be yourself Dear Love, No…',\n",
              " 'I love Holland',\n",
              " 'waking up at 2am for txt’s concert was so goddamn worthy i love them sm',\n",
              " 'Let’s show him some love and appreciation?? his doing an amazing job at',\n",
              " 'junhoe’s parts on ikon’s remix version of “i love you (愛很簡單)”. those two fangirling girlies everytime junhoe goes “i lo…',\n",
              " 'Imagine gaining 111+ drop handles now??????+ all who retweet and love ?????? Follow me first??????',\n",
              " 'Gotta love ads on twitter',\n",
              " 'No possession of drugs. No consumption of drugs. No lead found on mobile. Aryan Khan Proven NOT GUILTY No one can quest…',\n",
              " 'love shot 02',\n",
              " 'Watching for the first time. I love a disaster film like this, especially with Gene Hackman the helm.…',\n",
              " \"These came out so amazingly! Thank you so much hit them up if you're looking for a few yourself! I'm in love with how they came out!!!\",\n",
              " 'I am so sorry to hear your closed mindset! I would encourage you to research metaphysical teachi…',\n",
              " 'Spotted: from above. ?? Love this shot by andrewcboyce (on Instagram)! The party starts today at 3PM at the St. James! Tickets available online or at the door. ??',\n",
              " 'Rinflow with some nice movie reworking! Love it! 136',\n",
              " 'King for a Reason ?????? WE LOVE SHAHRUKH KHAN',\n",
              " 'so this is my boyfriend? OFC I LOVE HIM',\n",
              " 'Just tell me you love meeeeee, only for toniiiight, even though you don’t love meeeee … ??',\n",
              " '?? i can always feel how much you care for me from every words you said❤ hihi, seems like i also like unnie a lot. Happy bi…',\n",
              " \"- It's kind of a Emraan Hashmi films, if you love complex characters with good songs, you are in. all four characters performed well. just average film had good moments in first half.\",\n",
              " 'Gotta love the cute little mareep',\n",
              " 'These two have our hearts ?? Comment ?? to show some love for',\n",
              " 'Today is your day, Ilhoon. Thank you for your hard work. Thank you for being such a great and brave person. Until the day y…',\n",
              " 'Love you too babe ❤️',\n",
              " 'I LOVE UR FRIEND MWAH',\n",
              " \"In celebration of & collaborative album, we are hooking up one lucky listener with a 'Love For…\",\n",
              " 'Gonna force future partner to watch that 70s show and love it',\n",
              " 'me : annyeong geubsikdan eonni! *salute* *dahyun do the same asdfghjkl* me : jamkkanman, i have something for you *search some…',\n",
              " 'Isn’t this Terrorism. Arbaaz was tortured,dismembered and beheaded over an alleged interfaith love affair with a girl in…',\n",
              " '??TFS GIVEAWAY?? We will giveaway a mystery shirt if Mo Salah scores first today vs Man City ????1️⃣⚽️ To enter, all you need…',\n",
              " 'Lots of love simba!❤️??',\n",
              " 'One of the many reasons to love sports. At the end of the day, it’s all love & respect. The will offer a tri…',\n",
              " 'WE LOVE SHAH RUKH KHAN Will always love this man Always and forever♾️❤️',\n",
              " \"And it's it's behavior. Interethnic love exist but to erse that and erase black love to superimpose one over the other. Paris Milan is sick. She really is. Cause black love gets enough flack.\",\n",
              " 'i love this song',\n",
              " \"Excellent time ???????? well done! ???? and yes your 100% right and that's why I love the marathon as it's the honest distance that rewards those who respect the distance and the game, like you clearly have! ??\",\n",
              " 'Let’s go guys show some love ⚡️',\n",
              " 'actively encouraging my strange compliments is my favourite way or receiving love aka soobin would be a great wife i just know it',\n",
              " \"Demi Lovato's albums — September performance on Spotify: Don’t Forget — 144M (+1.5M) Here We Go Again — 122.6M (+1.1M) Unbro…\",\n",
              " 'theres something so gentle about being a safe place for the people u love',\n",
              " \"Big ole obnoxious watermark because it's a commission, for we do love a gold-dusted lizard wizard.\",\n",
              " \"President Emerson Mnangagwa the great.I really do appreciate your great concern upon Zim development,Youth empowerment is a great step forward.Hence I salute the whole ZANU PF as a party . Don't give oppositions a chance to destroy our mother country.I salute u guys I love u all\",\n",
              " 'Mmhmm. Girl these men are FIIIIIINE. Why you think I love them so much?',\n",
              " 'Exactly. Keep promoting common sense & good teaching strategies. Love it ????????????',\n",
              " '50$ in or or ~follow me ~rt this and like ~comment ????????????????????????',\n",
              " 'Take a look Real Utility INO is going to be Epic on - 1…',\n",
              " 'You love your girlfriend',\n",
              " 'We are with you chay ..much love and strength to you anna ❤️❤️',\n",
              " \"I love Milner but he's just too old and too slow for this game\",\n",
              " \"Remember, when ''What Is Love?'' trended on TikTok, our YouTube Views increased by 120%, Spotify Streams by 50%, and th…\",\n",
              " '???? love ya ❤️',\n",
              " 'Lots of love for the new book on the blog tour',\n",
              " 'Shua really said i love u my best friend ????',\n",
              " 'HA, i love you tooooo Lyaaaaa??~',\n",
              " 'indeed, nature has so made us, that we all love to be flaNM84ered and to please ourselves with our own notions ???? ♕• ﻜٕوِدٓ •♕ ﷼ ﺧٕٓصٍٓمٍٰ ﷼ ﻧٕمَِِشُٓيٓ NM842 «NM84» ????',\n",
              " 'Too many of us are in love with the idea of running a business. But when it comes to actually running a business, only a few…',\n",
              " \"Young K's ment in their 100th concert ?? There's something I want to say. I love you guys so much. Thank you very much,…\",\n",
              " 'Show your love to Ilhoon Melody! 1004 IS ILHOON DAY',\n",
              " 'Love Live! Superstar!! - 10',\n",
              " 'I LOVE YOU MY BEST FRIEND',\n",
              " \"⠀ ⠀⠀⠀⠀⠀⠀⠀ ⠀⠀⠀⠀⠀⠀⠀To Lily and I's two boy friends. No more long messages. We love you both, & ⠀\",\n",
              " \"he said Look at my profile It's new I love him so much??????????????\",\n",
              " 'The gaffer at the end ... sights you love to see ... pure passion??????????????????',\n",
              " 'LOVE FOR SALE ?? STREAMING/BUYING PAY ?? STAS NOW ??',\n",
              " \"Ok, so Danny likely won't be ordering my new book 'If God is Love, Don't Be a Jerk' but I hope you'll consider it!\",\n",
              " 'My favorite form of love is being loved without feeling like I’m begging for it.',\n",
              " 'Fabiola Beauty is a high end makeup brand that targets the glamorous , fabulous and confident every day woman with love for affordable luxury .',\n",
              " 'Their Love!!! So grand, so unique!!!!!! To love and be loved by a man or a woman such as…',\n",
              " 'If you want to improve the world love your family',\n",
              " \"I'll never get tired of saying how I love the uniqueness of Mouse, recommending this to people and making them realize and recognize how talented Lee Seung Gi bc he really nailed his role and I'm always proud of it\",\n",
              " 'I just love how Koreans use \"Do you know BTS\" to start a convo with people outside of Korea??',\n",
              " 'Just finished reading this series. Love them all!',\n",
              " \"i'm like so in love with her\",\n",
              " 'Everybody you LOVE ain’t gonna love you back the same way.. So I gotta love you from a distance ??',\n",
              " 'My love for Solskjær is immense. But my love for Manchester United is way bigger. That’s all I’m gonna say for tonight.',\n",
              " \"Billboard keeps on saying BP on their posts. If it's the whole band will do colab with them please Lilies be happy for them. Support and accept. If it's only LISA then be humble???? I love to see LISA being loved by many?????? Let's hope for the best❤️\",\n",
              " 'The Green - Love & Affection',\n",
              " 'Raiden The 1st Mini Album ‘Love Right Back’ ➫ 2021.10.11 6PM (KST)',\n",
              " 'I present to you Damião. Damião is a cat rescued by our team with six days of life. However it conquered us and became our mascot. I think he develops a love for jewelry!',\n",
              " 'is having travel struggles today, which means I have time to enjoy a cocktail and lunch at The Place in Athens. I love southern hospitality. Hogs vs Dogs today at Turner SC. Good luck today ladies!! It is gameday!',\n",
              " 'I love the way how connected bts makes us feel all the time. The way they share their personal embarrassing moments without any hesitation just like we share to our close friends. It warns my heart so much. I feel like Iam literally connected to them and know them personally :(',\n",
              " 'I love this Wondrich article on the Sazerac:',\n",
              " 'Outsold love story',\n",
              " 'I like that. Eagles & Dolphins kinda scare me, but any given week anything can happen! I would love for Hurts to have a big game',\n",
              " 'national boyfriend day? i love you so much?? & our one & only picture????',\n",
              " 'They need serious love',\n",
              " 'It’s Some say doesn’t work, but it works if we work it. It is not passive,…',\n",
              " \"Don't punch down. Ignore losers as they love the attention.\",\n",
              " 'Love these outdoor kitchens! Outdoor kitchens that will make you want to spend more time outside',\n",
              " 'October: - Boyz - Always Love You - Super Bass Diamond (??️)',\n",
              " \"it's my one year with bts today :) can't imagine my life without this bunch truly i love them with all my heart ?? ❤️\\u200d?? ?? and yup hobi was right, liking them is my best decision ever <3\",\n",
              " '“I LOVE YOU MY BEST FRIEND” ????????????????????????',\n",
              " \"Fabulous, I only have 1/20 too. I bought Spirited by from Bert's as I love her dog and cocktail boat. No, no, I mean I love her writing. Actually, for all 3 of those reasons ?????? ?? ??\",\n",
              " 'Dedicated To The One I Love by The Shrelles at Buy this song here: Buy song',\n",
              " \"I've posted about it on several occasions today, but Son Heung Min's passion and love for Tottenham is second to none. htt…\",\n",
              " 'Well done grinding out that result, 2 great crosses and 2 great headers. Think the gaffer enjoyed that at the end of game, love to see his passion like that ??',\n",
              " '211004 JOSHUA WEVERSE ?? \"happy birthday jeonghan-ah !!!!! ❤️ sorry for (wishing) so late ㅜㅜ, i love you my best frien…',\n",
              " \"Can't believe it's already a year since we were introduced to the kindest and the purest soul♡ Love you forever .... FOR…\",\n",
              " \"not to be all sentimental but sticker's success must feel so good for 127 not only bc it's their job and they worked hard on i…\",\n",
              " \"AHHH YOU'RE SO KIND ID LOVE TO EAT THATTTT\",\n",
              " 'i know i said im in love with someone else, but i really want this. /j -??',\n",
              " \"You are amazing, wonderful, and one-of-a-kind. It's time to treat yourself and talk to yourself like you would to someone you love!\",\n",
              " 'He’s the coolest. I love him so much. ??',\n",
              " 'The center of love and affection????????????????????????',\n",
              " 'I nominate KoDrea for Love Team Of The Year',\n",
              " \"gio love's you ♡\",\n",
              " 'It’s LOVE ❤️',\n",
              " 'my heart grows around the people i love',\n",
              " 'We love a country-pop',\n",
              " 'i got five hours of sleep for the second day in the row love that..',\n",
              " 'This story is awesome Love you author-nim??????',\n",
              " 'You might usually build your identity based on your work and y... More for Virgo',\n",
              " \"That smile when you realize you've already gained more Stardom than some Dwarfs & Canadians. WE LOVE SHAH RUKH KHAN\",\n",
              " 'I love history. Too bad humans forget it.',\n",
              " 'dekira will probably not be taken over by jae, but i would rly love it if it were ??',\n",
              " 'in love with the way that you say my name, every time it sound brand new',\n",
              " 'I would never cheat on you i love you',\n",
              " 'Yep she’s working while Ed mooches. I would love for someone to interview Ed on camera and ask- Why the fuck don’t you work? His bs excuse about waiting for acting jobs is pathetic. Dude is a lazy ass pig living off LR. Hopefully the boys get their work ethic from their mother.',\n",
              " 'I LOVE AFFIRMATIONS! LOVE, BELIEVE, & SUPPO YOURSELF!',\n",
              " '',\n",
              " 'You can love your country and dislike the government at the same time.',\n",
              " '\"Love is the only game where two can play and both win.\" ~ ??????',\n",
              " 'I have a feeling soon news will come Aryan khan had nothing to do with anything, he is innocent.. Just love watching these predictable stories.',\n",
              " '27 Tweets on Aryan Khan or Just Tweet on Farmers Killed Brutally By a BJP Minister Son India is Ashamed of India…',\n",
              " 'YAALLAJ MAZ I LOVE YOUR ENERGY',\n",
              " 'love them',\n",
              " 'Cant wait crypto banter, you the best. Love you',\n",
              " 'LOVE FOR SALE BUYING PAY three',\n",
              " 'Good night, ?? pahinga ka mabuti. You did great today. Thank you sa time mo. Love you, seer ❤ VOTE AND STREAM PALAYO',\n",
              " 'I nominate KoDrea for Love Team Of The Year Sjdbsha',\n",
              " 'I love you.',\n",
              " 'love this.',\n",
              " '???? Bernese Love for Sunday Funday Happy Sunday ?? • • •',\n",
              " 'I love how it feels to be like 4-5 bites into a sandwich or burger…like when we’ve gotten to know each other but there’s stil…',\n",
              " 'Relief. Not guilty. Aryan did no wrong. He could never. All the hate will be compensated, I promise..❤',\n",
              " 'I don’t want to fall in love again, unless it’s a gentle faithful and secure love.',\n",
              " 'love pmc and teps',\n",
              " 'Love how Dusik didn’t think bout how Hyejin can buy expensive things & yet didn’t seem to offend him as a man & as a boyfri…',\n",
              " 'I absolutely love the fact that every team plays at the exact same time to finish the regular season. Good job by on…',\n",
              " 'in love w the way ive been focussing on myself for the past 6 months',\n",
              " 'Beauty with brain and kind hearted love you ??',\n",
              " \"Simmer (feat. Burna Boy) by LOVE AND COMPROMISE [Explicit] - On EMPIRE RADIO - UK's No.1 Online Radio Station | |\",\n",
              " '[#GirlsPlanet999] ??The Debut Group Name Idea Fair?? Please make a group name, for 9 girls who will debut soon with the…',\n",
              " 'YOU JUST DONT LOVE TAEHYUN’S CLOSE SELCAS???? I LIVE FOR HIM',\n",
              " 'I love you, you are worthy of love.',\n",
              " 'I love your hair so much ????',\n",
              " 'I love this video so much it’s perfect in every way',\n",
              " 'we know you love us hanbin we know????',\n",
              " 'i feel like socks & birks were such a genny aesthetic and i love that for us',\n",
              " 'I love you deep deep deep',\n",
              " 'i love you more ????',\n",
              " 'it’s okay, v, my taste is questionable too ❤️ sending you love and support in this trying time',\n",
              " 'Love our smiling Queen. What a perfect scarf to wear for planting a tree.',\n",
              " \"You're Beautiful - James Blunt Crush - Cigarettes After Sex You're somebody else - Flora Cash Main Hoon Badal - Mohit Chauhan Put A Little Love On Me - Niall Horan and more... ??\",\n",
              " \"Bigger Role Model Than India's PM Modi & Cricket's God Sachin That's Legend Shah Rukh Khan For You!!???? WE LOVE SHAH RU…\",\n",
              " \"Happy birthday, the love of my life?? Ps. Nothing's gonna changes my love for you :) 1004 IS ILHOON DAY\",\n",
              " \"DEAR MEDIA, This Respect is Earned, Don't just Use His Name for Your Article Headlines with False News WE LOVE SHAH RUK…\",\n",
              " 'We love you ❤️❤️❤️❤️❤️❤️❤️❤️❤️❤️❤️❤️ ~',\n",
              " \"Yes,you changed me. With the way you left..I'm not the same old one.I stopped sending notes,posts and the long para's to the people I care the most.I stop showing them the love I've for them. Yes,You made me selfish and rude cuz now i'm afraid to lose the people I love the most??\",\n",
              " 'LOVE…',\n",
              " 'Rabbi Yosef Yitzchak Jacobson will discuss marriage and relationships in Torah at 1 p.m. Oct. 10 as Chabad Columbus holds a ribbon cutting for its new mikvah.',\n",
              " 'Thank you for joining us today! We can’t wait to see you again next week! Your support means so much & allows us to continue sharing the Love & Grace of God. THANK YOU! To Give Online: Mail: Contact Pastor Mike . .',\n",
              " 'LOVE ON TOUR. SHOP MERCH EARLY. Monday, 10/4, at Madison Square Garden. Masks are required while shopping.',\n",
              " 'Lets celebrate! Edits, tiktoks, reddit posts, etc! Lets make it so they are seen all over the world and enjoy sharing…',\n",
              " 'I love childe a normal amount',\n",
              " \"Can someone help Thando leave Siyacela ,MF is arrogant n stupid n he doesn't deserve Thando s love\",\n",
              " 'Stop wasting ur 20s complaining about how it’s hard to make friends and start screaming “oh my god I love your bag” from acr…',\n",
              " 'It’s premiere day for FOX’s ?? Elçin Sangu, Ceren Moray, Şafak Pekdemir, and Burcu Gölgedar star as a gro…',\n",
              " '00:00 take a deep breath, and be happy. no matter what circumstances are, smile love. it suits you very well. i’m proud of you for surviving this day, once again.',\n",
              " 'i love being alone',\n",
              " 'Review: Yes, ‘Venom: Let There Be Carnage’ Is A Love Story',\n",
              " 'any gabrielly in portugal love you!',\n",
              " \"I'm sure the idiots that drive alone in their car with a mask on probably love this.\",\n",
              " 'Used jars really do make the best zero waste storage containers! We love seeing your hauls and storage setups, make sure to tag us in your posts so we can revel in the beauty ??',\n",
              " 'they are love so they give love',\n",
              " \"As a WMG, i love how Liquorose destroyed that perception that ladies on can't do well in tasks. She is IMPRESSIVE and…\",\n",
              " 'we love independent woman like minjeong',\n",
              " 'The (Mk 10:2-16) says that Jesus is very tender with the little ones. The difficulties and situations that re…',\n",
              " 'Lol.. I love these hackers I usually point them in the direction to purchase my created NFTs ??',\n",
              " 'I LOVE YOU MY BEST FRIEND',\n",
              " 'Rose are red, Violets are blue, This bison at Rocky Mountain Arsenal National Wildlife Refuge is staring at you. A poem…',\n",
              " 'love you sooooo much ??',\n",
              " \"World's Biggest Movie Star SHAHRUKH KHAN WE LOVE SHAH RUKH KHAN\",\n",
              " 'This photo sequence screams KILIG!!!! ????❤???? Their eyes and smiles tho... I love you both',\n",
              " 'Some doodles because I love Wasabi sm',\n",
              " 'I love you mahal ko❤',\n",
              " 'KDIce deserve the whole world for the gems they are. How much I love them. UNSTOPPABLE SHIVI',\n",
              " 'TREND ALE ?? Start tweeting with WE LOVE SHAH RUKH KHAN & Spread',\n",
              " 'Multiple attempts to defame SRK in the past also has not been successful. This time too it would not. Truth always prevails…',\n",
              " \"Thank you for your time, 'ga Pahinga ka na rin. It's been a busy day and thank you for spending time with…\",\n",
              " 'You know we love the Tilda chandelier, since our house Floyd is going to have one too. Take a look at this room filled with Arteriors furniture as well as Tilda and the Aramis wall sconce!',\n",
              " '??????????. I love that. That is so sweet',\n",
              " 'Hey y’all, did you fill in the form for Nicole’s birthday yet? Time is running out!!! Don’t forget to shower lots of love for our amazing Nicole Maines ok?!?!',\n",
              " 'Queens Supporting Queens – Sending all the love to',\n",
              " 'You know how much i love my cousin ??',\n",
              " '; puppy love',\n",
              " 'I go like love o??',\n",
              " 'SK’s combination of charming bad boy charisma n sensual ?? playfulness particularly in a fiery love scene wid many actresses n…',\n",
              " 'I fucking love this human being ??????',\n",
              " \"Republicans love Veterans and tax breaks until it's a decorated combat veteran who happens to be a woman. Fox News is ga…\",\n",
              " 'Love this statement',\n",
              " \"I'm happy that players will get something for free. I'd love to see though, rewarding players more for spending time playing, or plan efficient fleets, or beat harder maps.\",\n",
              " 'i love her sm… can’t wait to be a hu tao haver',\n",
              " 'I nominate DONBELLE for Love Team of the year',\n",
              " 'Baadshah Of Bollywood we are always with you WE LOVE SHAH RUKH KHAN',\n",
              " \"Don't you love me anymore...?\",\n",
              " 'New Member NCT Debut Song Daegal = Kick It Louis = 90’s Love Leon = Make A Wish Bella = Sticker',\n",
              " \"been looping Calli's end of a life and I love how such a lonely sounding song can make you feel less lonely\",\n",
              " 'HAPPY BIHDAY, Okamoto Keiju! ???? Happiest birthday to this young man who never failed to make us mesmerized by his vis…',\n",
              " 'I’d love to see do this cause I know she’d kill',\n",
              " 'Happy birthday my love:(',\n",
              " 'Power and Love this Picture Holds..',\n",
              " \"ODD Custom Shoes! Posted ! Had so much fun making this for ♥️ Oh, how I'd love to go back to th…\",\n",
              " \"There's nothing not to love about and his books are out of this world. His humour always gets to me and his writing is great, I highly recommend you get (trs David Hackston)\",\n",
              " 'I am forever thankful to you my angel Happy happy Birthday han I love you so so much????',\n",
              " 'When Godse trends on Twitter on the birthday of shows the damage the and ideology has done t…',\n",
              " 'You’re gorgeous! I love the freckles on your lips!',\n",
              " 'I LOVE THEM ??????',\n",
              " 'Happiest Birthday Eliiiiiiiii!!!!! Love u berimwaps??❤️????',\n",
              " 'harry styles love on tour philadelphia on film ??: me',\n",
              " 'always take care, love u.',\n",
              " 'I noticed that too everybody in a good mood I love that',\n",
              " 'angry robbo is love',\n",
              " 'I love NYC ??',\n",
              " 'Take a look Real Utility INO is going to be Epic on - 100…',\n",
              " \"Someone you're close with might introduce you to a larger comm... More for Aries\",\n",
              " 'love you ❤️❤️❤️',\n",
              " 'its been a long time since u fell in love',\n",
              " '\"When you love something, you fight for it.” Experience Marvel Studios’ only in theaters November 5.',\n",
              " 'Who wants to fall in love in October?',\n",
              " '\"i love you my bestfriend\" walang hahawak saken potragis yoonhong ??',\n",
              " 'Talking With My Love Superstar ???????????? Finally My dream come true moment????????????I am so so happy????????????Na Jeev…',\n",
              " 'No Matter What Will Always Support You <33 WE LOVE SHAH RUKH KHAN',\n",
              " \"That's so kind of you. The bat's love you\",\n",
              " 'Are you looking for a cute mouse? only here in AnyMouse gallery visit soon and our collection of cute mouse .. New drop AnyMouse series 19-250 \" SAY LOVE to Pixel art 32x32 \"',\n",
              " 'One word Frees us of all the weight and pain of life: That word is love.”❤️ I Love u ❤️',\n",
              " \"like you I greatly appreciate??Just know u have my full support????\\u200d♂️STAY SAFE??and keep being awesome??I'm grateful and to show my love NEW DL for your??'s to listen like & enjoy???????? (\",\n",
              " \"expensive love though. I make a once a year trip to the PX to buy mine, grab what I need, hand over my card and just turn away from the screen so I can't see the damage...lol At least SOME of Dermalogica's products are more reasonably priced.\",\n",
              " 'I’m watching FOX NFL Sunday Pregame Show on FOX right now. I really love how this pregame show previews all of the NFL games of the day.',\n",
              " 'I guess I’ll just have to put off deciding whether to celebrate the birth of Christ with people I love until Anthony Fauc…',\n",
              " 'I did the Reeperbahn Festival 4 years in a row from 2016-2019, saw many amazing bands and made many friends not just from Germany but all over the world. I fell in love with Hamburg more and more each year',\n",
              " 'Vishal Kotian contestant of BB 15 Share his Bond with in Real life & His Upcoming Song with Him Jeena Zar…',\n",
              " 'i love this',\n",
              " 'Do you exercise because you love your body or because you hate your body?',\n",
              " 'don’t make her fall in love if u can’t love her',\n",
              " 'Today, Grade 4 students showed their love and appreciation for Maldives. They took us on a journey through the history and beauty of Maldives showing us how truly marvelous our country is… Thank you Mohamed Shamoon for gracing the event .',\n",
              " '\"IDOL\" is now 5th most viewed MV on YouTube, surpassing \"Fake Love\" 1. Boy With Luv - 1.362B 2. DNA - 1.351B 3. D…',\n",
              " 'I love u cause I',\n",
              " 'Thinking about the original version of blue & grey, and how when we first heard it during in the soop we immediately fell…',\n",
              " 'The best people to love are the ones who looks for you the moment you are apart ??',\n",
              " 'We received a shoutout from ?? Ingat ka rin lagi, boss amo. We love you so much! Thank you, Achi',\n",
              " 'Ngl loving this merch, love you, Mr beast!! Thanks for the awesome merch',\n",
              " '??: \"To me who wants to keep rare photos, She gave me pigtails The sweetest girl of this era Sweet sister Choi Yuna Thank…',\n",
              " 'I appreciate the love ALCOHOL is getting but stop pouring stuff on your bodies ??????',\n",
              " 'i love you my best friend SOBS',\n",
              " 'if you online and Trending with WE LOVE SHAH RUKH KHAN',\n",
              " 'But my first experience of romance, the first love that propelled me into a world beyond the familiar, was this friendshi…',\n",
              " 'Haechan, I love you.',\n",
              " 'Your close relationships may be full of heavy conversation tod... More for Leo',\n",
              " 'We are not relenting,Biafra must be free.',\n",
              " 'Happy 8800 days to our Euphoria Jungkook. We love you so much♥️',\n",
              " \"I'm here to support BTS only idgaf about other groups hybe thinks just because army's love BTS unconditionally and support themthat doesn't mean we'll do same to other groups so they can debut as many as groups they want I was here for bts only and always stay for bts no one else\",\n",
              " 'Are you gonna fall in love with me, talk 2 me sexually out of nowhere, and/or randomly be depressive and try to shoot my house up?',\n",
              " 'AHHH I LOVE U',\n",
              " \"happy birthday to my love of my life atp I hope you'll be happy today I love you so much and I hope we'll see you in person iloveyousomuch I'm so excited about your coming series!!!????✨??????????\",\n",
              " 'Mini Barbecue Chicken Pizzas are a great that everyone will love.',\n",
              " 'anothe kpop artist??? aaaaaaah we love to see it??',\n",
              " 'Dias??floor Better love story than twilight',\n",
              " 'happy birthdayy bff ?? enjoy your dayy, i love you ??',\n",
              " 'I love being a mommy ????',\n",
              " 'i love louis at weddings',\n",
              " '“i love you my best friend” ????????????????????',\n",
              " 'What an amazing journey is has been! We laughed,smiled,cried and danced together with them. Thank you for gracing our screens…',\n",
              " 'relationships are so scary to me. no matter how good things are going or how in love you are, your significant other could a…',\n",
              " 'A tight slap for haters!! WE LOVE SHAH RUKH KHAN',\n",
              " 'WE LOVE YOU SHAHRUKH KHAN',\n",
              " \"Hey, here's a video you'd love????????, I've found it for you, come have a look!????#Likee\",\n",
              " 'These next slides are just jokes, I love one piece so don’t take any of these seriously ??????',\n",
              " \"what's wrong? i love it when you call me that. just like you love it when i call you thunder thi-\",\n",
              " 'Why am I crying ??! The way he looks at Shawols ??❤️! I just love you so much my BUMKI',\n",
              " '[A lovely goodbye] Atlus Artober Day 2 - Love.',\n",
              " \"Joshua's post for Jeonghan! :) Happy birthday Jeonghan-ah !!!!! ❤️ I'm so sorry I'm late ㅜㅜ , I love you my best friend…\",\n",
              " 'Everybody is truly a fan of Super Mario Bros.',\n",
              " \"WOAH I'M IN LOVE WITH THOMA\",\n",
              " 'I love Ethan Bear ??',\n",
              " 'Be YOU and love YOU',\n",
              " 'LOVE FOR SALE BUYING PAY two',\n",
              " '5 years ago in this very day, I told him \"If you are in too much pain, just go with God, he loves you more than anyone\".…',\n",
              " 'People who really love',\n",
              " '1: kids in cute costumes 2: pumpkin carving 3: halloweentown movie series 4: scare houses/mazes 5: free candy 6: the nightmare before christmas 7: getting the shit scared out of you 8: themed costumes parties 9: spooky snacks 10: “it’s fricken bats i love halloween”',\n",
              " \"Their stages are so amazing. The dance moves, vocals and confidence are so powerful. It's impossible not to love TXT.…\",\n",
              " 'Ahh I love this so much ????',\n",
              " 'We must learn to love ourselves enough not to let our minds torture us',\n",
              " 'Things you love to see…',\n",
              " 'Wanna do ?? giveaway too ☀️?? Giving away RM23.59 to ONE waanjai ??Open to any waanjai I can transfer to (WW) ?? & like this twe…',\n",
              " \"?? Have you got a scary tale you'd love to share with us? DM us with all the details, we'd love to hear it! While you're at it check out the chances of seeing a ghost in your area. ??\",\n",
              " 'Loving the buy-in from our new sponsors and partners. Can often feel like a thankless task at times & is usually thanks to someone going the extra mile purely for the love of it. The short videos, the new graphic, the brief glimpse behind the scenes all takes time & effort.??',\n",
              " \"[NEWS] Rita Ora commented under LISA's recent instagram post?? RO: Love this ❤️❤️❤️ ?? 블랙핑크 리사 |…\",\n",
              " 'namjoon is so funny i love him sm the sweetest',\n",
              " 'I would love any support with my list! Trying to get some incentives for the prize bin as well as other much needed supplies!',\n",
              " 'I love Stain',\n",
              " 'My mental Health is at stake at this moment I might even be loosing it. I think I need to leave this Bird App for some…',\n",
              " 'RHI PLEASE ?? i love you!',\n",
              " 'I love you my best friend ??❤️',\n",
              " \"road head!! come get your road head!!! if you love some filthy car sex, 'get your motor running' is the fic for you ?????? thank you for this tasty treat. it was absolutely delicious ??\",\n",
              " 'first pic is so aesthetic i act love it',\n",
              " 'I nominate KoDrea for Love Team Of The Year keep going!',\n",
              " 'Happy 6th monthsary my love',\n",
              " 'it\\'s weird how they love the \"resistance\" in the star wars movies, but hate antifa in the real world. like, my guys,…',\n",
              " 'I love that things like this are swept under the rug and only happy transitions are shared.',\n",
              " 'Lol I love the little owl tattoo on its arm',\n",
              " 'his instagram active era WE LOVE TO SEE IT',\n",
              " '[TAG UPDATE] Prepare for battle! The SB19 Official Light Stick V3 is finally here! Get yours at an introductory price o…',\n",
              " 'I get messages from other creatives every other day on how to get (dream) clients and I only have one answer: start creatin…',\n",
              " 'Turning Inward with Ram Dass By Rameshwar Das “Compassion, the practice of seeing that others are the same as us, the hear…',\n",
              " 'Fun Fact: Jermaine Dupri was planning for a Janet Jackson x Mariah Carey duet in 2006 but it never happened; \"He never ta…',\n",
              " 'I really love “im not on my cycle pepper” and “dude you’re embarrassing me In front of the wizards.” Oh Tony stark and hi…',\n",
              " 'love how kyubin was like “oh you goofed up now ??\\u200d♂️” and yoojung kept looking at him like No. I Did Not',\n",
              " 'I love you my bestfriend',\n",
              " 'Stevie G man ye love to see it??',\n",
              " 'So happy to see them, i love it??',\n",
              " 'Imam Ahmad Raza is the ocean of knowledge that brighten our hearts with the love of Prophet Muhammad S.A.W and the mercy of hi…',\n",
              " 'Happiest Birthday I hope there comes a day in your life when you are given the comfort of being yourself and y…',\n",
              " 'they love you too :)',\n",
              " \"I LOVE writing so it makes me happy to see on a deal for £1. Don't miss it, you'll love it. When trying to do what's right and make the perfect decision, you sometimes make it worse...\",\n",
              " 'I love black people ????',\n",
              " 'Gotta love those universal cat things. I have one that when hes determined, he will be on you in some way, shape, or form. This is one of his moves too :)',\n",
              " 'Someone wanting to do and my first Rider image~ Glowing eyes in the night are love <3',\n",
              " 'The greatest gift a person can give me is the ability to be brutally honest with them out of love and compassion.',\n",
              " 'hii!! I’m sammie a transmasc illustrator & animator??I love drawing things that makes others happy !!✨♥️…',\n",
              " \"all i want is love that lasts, is all i want too much to ask ? is it something wrong with me ? all i want is a good guy, are my expectations far too high ? try my best, but what can i say ? all i have is myself at the end of the day, but shouldn't that be enough for me ? ??\",\n",
              " 'The only girl my woman will have to compete with for my love and attention is my daughter inshallah',\n",
              " 'if you online and Trending with WE LOVE SHAH RUKH KHAN',\n",
              " '. and I take a closer look at Frasier\\'s \"Can\\'t Buy Me Love\"',\n",
              " 'venom 2: love wins',\n",
              " \"I'm so sorry to hear about the tragedies you & your partner have experienced I know nothing will stop the pain but every Sanspantser is thinking of both of you. All our thoughts & love from everyone who thanks to you have something to look forward to every week.\",\n",
              " 'A special award this week…for staying up until 2am to finish the beautiful sunflower bunny doll for Gu…',\n",
              " \"missing you each and everyday. i'm not really into cheesy and emotional messages but i just keep on praying at night th…\",\n",
              " \"Rest in my left leg this morning...couldn't move at all for the love of uni!\",\n",
              " 'I love such stones especialy from people who can note others and talk with some people~',\n",
              " 'I’d love a player like robbo',\n",
              " 'robbo is such a cunt LMFAOOOO i love him',\n",
              " 'Take a look Real Utility INO is going to be Epic on - 100…',\n",
              " 'Flowers have always been one of my favourite photo subjects, and there’s no shortage of them in Thailand. Love the colour in this one.',\n",
              " 'bro i got the weeknd and travis scott this shit is easy',\n",
              " 'Is it wrong to be a Muslim ??? why did they stick term love jihad to myself! Why did they kill me and separated my he…',\n",
              " 'Is attachment love?',\n",
              " 'love you tuuu',\n",
              " \"Since my first read through of I always love All-Might, so here's a tribute to the symbol of peace in th…\",\n",
              " \"I can't handle this badassery I love him so much\",\n",
              " \"Happy birthday beautiful soul, you're trully a blessing in this chaotic world Take care of yourself and be happy always love! ??\",\n",
              " 'how i imagine falling in love in october',\n",
              " 'Hope you love her ❤️??',\n",
              " 'wishing the happiest of birthdays to the angel baby that came to this earth this day 16 years ago, branson ??i may be your…',\n",
              " 'the entirety of genshin impact is just a love letter from mihoyo to childe i am convinced at this point',\n",
              " 'Yeah maybe it’s the association with spiderman lol. I’m sure kids really love it, I probably would have if it was released in the 2000s.',\n",
              " 'I love queen',\n",
              " 'love u bff',\n",
              " 'I’m a Good Nigga , Kind Hearted & Down To Earth … My Energy’s Very Infectious I Make People Laugh & Smile , It’s Easy To…',\n",
              " 'You know you’re in love when you can’t fall asleep because reality is finally better than your dreams.” UNSTOPPABLE SHIVI',\n",
              " 'The fourth and final exclusive “Love For Sale” alternate CD cover is available to pre-order in limited quantities! ❤️',\n",
              " 'okay wtf i love sesame balls why is everyone hating on them .. anyways',\n",
              " 'Shah Rukh Khan’s upbringing cannot be wrong!! WE LOVE SHAH RUKH KHAN',\n",
              " 'COMPETITION TIME! Want to be in with 2 VIP Love Cheese Live Tickets, including meet n greet! Available on 22nd or 23rd…',\n",
              " 'The genuine warmth between Fatty and Sterlo was displayed on the Footy Show. It was a platform which gave footy fans their 1st look into the deep friendships & love that men can have for one another relegating the tough guy image as only 1 aspect of these warriors lives.',\n",
              " '\"they\\'re best friends don\\'t ship them!\" Yeah if any, i\\'d be happy to be shipped with my best friend than with a stranger, s…',\n",
              " 'TLP is the successor of Imam Ala- Hazrat Ahmed Raza Khan Barlvi we love him with the core of our hearts',\n",
              " 'if your heart was full of love, could you give it up?',\n",
              " 'King WE LOVE SHAH RUKH KHAN',\n",
              " \"i love the 'character looks calm and unburdened in sleep' trope but with kaeya specifically i also love headcanoning that h…\",\n",
              " '“‘Being in love’ first moved them to promise fidelity: this quieter love enables them to keep the promise.” - C.S. Lewis',\n",
              " 'heeseung, you did well today incase no one said that to you. i love you, my ace. take a good rest !',\n",
              " 'LOVE U TOO.. BIG SHIT',\n",
              " 'Pro ona le shade watseba, \"qalaring\"! I love it!',\n",
              " 'Here is your self-love checklist:⠀⠀⠀⠀⠀⠀⠀⠀⠀ ⠀⠀⠀⠀⠀⠀⠀⠀⠀ ✓Take a few deep breaths⠀⠀⠀⠀⠀⠀⠀⠀⠀ ✓Drink a glass of water⠀⠀⠀⠀⠀⠀⠀⠀⠀ ✓Do some stretches⠀⠀⠀⠀⠀⠀⠀⠀⠀ ✓Listen to your favorite song⠀�',\n",
              " 'thanks a lot namjoon for spending some funny and memorable moments with you through your regular basis work??☺️??.stay safe and healthy all the time, take care of yourself ????. Love from Bangladesh ??????',\n",
              " \"To my main, you'll always be my sweetheart, love, mahal, darling and my dearest abunjing bunjing. You deserve all the good things here on earth. Iloveyou sm!! Happiest Birthday, Mi Amore (｡･ω･｡)ﾉ♡\",\n",
              " \"This came very late on Twitter. Instagram saw it first. If 2Pac was to be in our World rn, he'd probably be talking about how…\",\n",
              " 'Michael was so bad ass in H6. I also love his mask.',\n",
              " 'Got vid of leaving tonite. Close up of him getting in the car wearing his shirt from the concert You can see his…',\n",
              " 'i love this look of seungwan ngl',\n",
              " 'CONFIRMED ⚠️ was just invited, he did not do the party and neither he have any drugs consumption nor he involve…',\n",
              " 'life is too short for you not to declare your passionate burning undying love for me <3 so do it before I buy a skateboard, run away to another country and start an entirely new life‼❗??????',\n",
              " 'DAY 15 349 days left before CHIAKI DAY?? I love you Chiaki~!!!!! ☆ ❤️\\u200d??❤️\\u200d??❤️\\u200d??❤️\\u200d??❤️\\u200d?? Card Name: \"Enjoyable Festa\"',\n",
              " 'Know someone who might love Help them step up their game by offering them an exclusive opportunity to meet your trusted partners.',\n",
              " '“Dogs love getting into things they shouldn’t — whether on the sidewalk or in your purse. So what should you do if your dog accidentally eats a cigarette or cigarette butt? ”',\n",
              " 'We love your Bishop!!!!!!!',\n",
              " 'omg beanie the loml, my knight in shining armor, i love u sm <333',\n",
              " 'if our love is wrong, then i don’t ever wanna be right ??',\n",
              " 'Seraph of the End, Ch. 107: Love stands against total armageddon in a chapter that may change everything! Read it FREE from…',\n",
              " 'Do You Love ShahRukhKhan?',\n",
              " '“I love You!!” ?????? ???? Photography by Amarnath Tade',\n",
              " 'LOVE FOR SALE BUYING PAY',\n",
              " 'They moth have the bestest healthy relationship ever that i have seen in kdrama industry.. Homecha really said... No to tox…',\n",
              " 'Lost lands tik tok rn I love this I can’t get out of bed',\n",
              " 'I love Venom',\n",
              " 'right. they will all be dead to me. idc WHO it is.',\n",
              " 'Well sucks for you I fucking love it',\n",
              " 'Steve Bannon is a damaged nut-job who looks like what happens when you put an alcoholic for half a century in a microw…',\n",
              " 'I cant stop crying ue ue ue omg suddenly love this stupid game again',\n",
              " 'I love you my best friend????????',\n",
              " 'I love it ????????',\n",
              " 'Love language??',\n",
              " 'This smile will be back soon! WE LOVE YOU SHAH RUKH KHAN',\n",
              " \"Yet again reading abt heartlessness of those who own cows, make money fm them but don't love them so when they can't give milk, they throw them out fr slaughter! Vishakha Paneer got a safe home thanks to DV team efforts & donations by Dharmic persons??\",\n",
              " \"Being in my Queen live now I've learn something new Money is not something you keep in the bank, money i…\",\n",
              " 'Harden may be a stretch, but I love, love, love Ayo. Superb steal in round 2.',\n",
              " 'Airdrop worth $30,000 is coming on 20th September 2021 Go to Follow AFIN Twitter account! Re…',\n",
              " 'we are FXCK—LOVE - take a look at the fantastically creative world of 10/08 launch, early access for holders Where art meets the love revolution and words support the',\n",
              " 'what do you love most about yourself? ??',\n",
              " 'love the confidence, love you',\n",
              " 'I love you, Please never change.',\n",
              " 'The Love Embrace of the Universe, the Earth (Mexico), Myself, Diego and Señor Xólotl, 1949',\n",
              " 'Japan ???? and I really am thankful for you I hope you have a good day and I’ll go to bed good night ?? love you ????',\n",
              " 'India is Hell for those who prefer Love and Peace!!',\n",
              " 'Love making towns again',\n",
              " 'Love Hate',\n",
              " 'Can u believe xiaother In game does the most fan service . We don’t have to do anything , xiao literally just goes “ I’m…',\n",
              " 'It’s true that, the hardest part of falling in love is to let go someone you love the most for their own happiness, and you can’t do anything but to be happy for them even it will gives you so much pain.',\n",
              " \"You never know the true depths of one's darkness, the shadows of what someone else has been through. With this in min…\",\n",
              " 'Took a break from my usual horror to read some dark fantasy: THE WONDERFUL STAG, OR THE COUSHIP OF RED ELSIE by Kathleen…',\n",
              " 'just found out there’s a channel that dubs episodes of scott the woz in latin spanish and i love how all the thumbnails…',\n",
              " 'Oh, I love vore because of the anatomy! :) The natural sciences inspire me.',\n",
              " 'Champion of Heaven You made a way for all to enter in Cause You make me brave You make me brave You call me out beyond the shore into the waves You make me brave You make me brave No fear can hinder now the love that made a way',\n",
              " 'joshua to jeonghan \"i love you my best friend!!\"❤️',\n",
              " 'Snakes be right in yo face whole time you overlooking lt cause you love em.',\n",
              " '\"Outstanding Bracelets! Extermely well made! I absolutely love my Wild in Africa bracelets! They are extremely well made. They shipping was fast! I will definitely be buying more!\" \\u200b@mark_kostich_photography',\n",
              " \"You're right. But I was reacting more so to her fake black American proud (about a flag founded by black men) than her corny black love tweet. I just smirk & scroll past their tweets. When I do respond its bc brothers I follow quoting their tweets and I just happen upon them.\",\n",
              " 'You literally made my day! I love this so much!! ??',\n",
              " 'On this fall Sunday morning, remember that the words of God last forever.',\n",
              " 'Sending you lots love and good vibes only. I wish to have peace only wherever you are Ji',\n",
              " '⚡️‼️JOINT VA GIVEAWAY‼️⚡️ Me and the wonderful the English VA for Keqing, have teamed up to bring you all s…',\n",
              " 'Thank you cuz. I love you more.',\n",
              " 'Love is blind and senseless',\n",
              " 'october, be good to me. grow me spiritually and increase my capacity for love. for every sacrifice, show me the results of commit…',\n",
              " 'Love',\n",
              " 'Just a simple reminder for National Breast Cancer Month: Self-Care = Safety. Yearly Mammogram. Monthly Self-Exam. You owe it to yourself and the people who love you ?? ?? ????',\n",
              " '• CONFIRMATION • • Aryan was invited by organizers • Aryan didn’t have any boarding pass • Nothing was found with him…',\n",
              " 'I can’t wait to find love thats genuine ??\\u200d??',\n",
              " 'No one is perfect in this world, if someone have a good quality they have a bad one too which irritates the others, Islam teaches us to love each other, accept and love for the sake of Allah.',\n",
              " 'I LOVE THIS',\n",
              " 'LOVE FOR SALE BUYING PAY one',\n",
              " '“When you love something, you fight for it.” Experience Marvel Studios’ only in theaters November 5.',\n",
              " 'my second love and my first love! <3 HAPPY JEONGHAN DAY ! ????????',\n",
              " 'my work hours end at like 9pm but there is also a ton of fun 5pm-9pm stuff i would love to be able to do on a more regular basis, i miss Clubs And Activities',\n",
              " 'We need more love in the world♥️♥️♥️',\n",
              " 'She’s so crazyyyy i love heeeeer lmaoo',\n",
              " 'i love seeing bts work ethic like studio sessions, dance practices i just love being able to watch the process the most',\n",
              " 'love shot 01',\n",
              " 'Michael, try to research a little & understand behind the scenes before making these familiar bland, inaccurate statements. WFC fans love Xisco, but unfortunately he has not the experience or tactical ability (yet) to stay up. WFC have coaches, not managers.',\n",
              " 'While the Bee Gees are trending, can we get a little love for Andy Gibb? He was talented, he was sweet and he was very…',\n",
              " 'YAAAAY LOVE YOU!',\n",
              " 'Love this',\n",
              " 'Love you synk',\n",
              " \"Love's the wild card in the pack\",\n",
              " 'A lot of these guys secretly love Xbox but they have to cap on this app to keep their followers happy ????',\n",
              " 'In The Fox’s Tower and Other Tales, New York Times bestselling author Yoon Ha Lee crafts together short and moving stories of love, adventure, magic, and nature. This lovely book of stories is available this Tuesday and for pre-order now!??✨',\n",
              " 'Every time I look at this I get butterflies they are actually so in love',\n",
              " 'IMSBDJFJF I LOVE U',\n",
              " 'October 4, 2021 Happy 1st monthsary Mommy and Mama Wishing you both a lots of love and happiness. Pagtibayin niyo okay? PymilYna is full support for you both?? I/we love you so much! Mwa!',\n",
              " 'I LOVE YOU STU',\n",
              " '?? ?? 40cm super large size jenmong coming soon',\n",
              " ...]"
            ]
          },
          "metadata": {},
          "execution_count": 103
        }
      ]
    },
    {
      "cell_type": "code",
      "metadata": {
        "colab": {
          "base_uri": "https://localhost:8080/"
        },
        "id": "1944arkkbTTD",
        "outputId": "59c8162c-3673-4b65-eb9f-ac078e28df38"
      },
      "source": [
        "print(type(text))"
      ],
      "id": "1944arkkbTTD",
      "execution_count": 104,
      "outputs": [
        {
          "output_type": "stream",
          "name": "stdout",
          "text": [
            "<class 'str'>\n"
          ]
        }
      ]
    },
    {
      "cell_type": "code",
      "metadata": {
        "id": "nB-mYiu8bHN9"
      },
      "source": [
        "df = pd.DataFrame(list1)"
      ],
      "id": "nB-mYiu8bHN9",
      "execution_count": 105,
      "outputs": []
    },
    {
      "cell_type": "code",
      "metadata": {
        "colab": {
          "base_uri": "https://localhost:8080/",
          "height": 414
        },
        "id": "2PHPtEp3lq8G",
        "outputId": "3f283386-9a91-4656-aee8-1245647918c9"
      },
      "source": [
        "df"
      ],
      "id": "2PHPtEp3lq8G",
      "execution_count": 106,
      "outputs": [
        {
          "output_type": "execute_result",
          "data": {
            "text/html": [
              "<div>\n",
              "<style scoped>\n",
              "    .dataframe tbody tr th:only-of-type {\n",
              "        vertical-align: middle;\n",
              "    }\n",
              "\n",
              "    .dataframe tbody tr th {\n",
              "        vertical-align: top;\n",
              "    }\n",
              "\n",
              "    .dataframe thead th {\n",
              "        text-align: right;\n",
              "    }\n",
              "</style>\n",
              "<table border=\"1\" class=\"dataframe\">\n",
              "  <thead>\n",
              "    <tr style=\"text-align: right;\">\n",
              "      <th></th>\n",
              "      <th>0</th>\n",
              "    </tr>\n",
              "  </thead>\n",
              "  <tbody>\n",
              "    <tr>\n",
              "      <th>0</th>\n",
              "      <td>How it started vs. how it’s going Happy annive...</td>\n",
              "    </tr>\n",
              "    <tr>\n",
              "      <th>1</th>\n",
              "      <td>Who else would LOVE to see the media relentles...</td>\n",
              "    </tr>\n",
              "    <tr>\n",
              "      <th>2</th>\n",
              "      <td>TAEIL of NCT &amp; rapper Lil Boi to feature in Ra...</td>\n",
              "    </tr>\n",
              "    <tr>\n",
              "      <th>3</th>\n",
              "      <td>All of Hot 100 Dynamite Savage Love (Laxed - S...</td>\n",
              "    </tr>\n",
              "    <tr>\n",
              "      <th>4</th>\n",
              "      <td>I love this! ??????</td>\n",
              "    </tr>\n",
              "    <tr>\n",
              "      <th>...</th>\n",
              "      <td>...</td>\n",
              "    </tr>\n",
              "    <tr>\n",
              "      <th>1561</th>\n",
              "      <td>Will Tiffany and Charles be able to save their...</td>\n",
              "    </tr>\n",
              "    <tr>\n",
              "      <th>1562</th>\n",
              "      <td>I love the fact that Jesus broke the rules to ...</td>\n",
              "    </tr>\n",
              "    <tr>\n",
              "      <th>1563</th>\n",
              "      <td>Bighit is no longer holding back!!! Theyre fla...</td>\n",
              "    </tr>\n",
              "    <tr>\n",
              "      <th>1564</th>\n",
              "      <td>love love love ??</td>\n",
              "    </tr>\n",
              "    <tr>\n",
              "      <th>1565</th>\n",
              "      <td>Happy birthday to the most beautiful man I hav...</td>\n",
              "    </tr>\n",
              "  </tbody>\n",
              "</table>\n",
              "<p>1566 rows × 1 columns</p>\n",
              "</div>"
            ],
            "text/plain": [
              "                                                      0\n",
              "0     How it started vs. how it’s going Happy annive...\n",
              "1     Who else would LOVE to see the media relentles...\n",
              "2     TAEIL of NCT & rapper Lil Boi to feature in Ra...\n",
              "3     All of Hot 100 Dynamite Savage Love (Laxed - S...\n",
              "4                                   I love this! ??????\n",
              "...                                                 ...\n",
              "1561  Will Tiffany and Charles be able to save their...\n",
              "1562  I love the fact that Jesus broke the rules to ...\n",
              "1563  Bighit is no longer holding back!!! Theyre fla...\n",
              "1564                                  love love love ??\n",
              "1565  Happy birthday to the most beautiful man I hav...\n",
              "\n",
              "[1566 rows x 1 columns]"
            ]
          },
          "metadata": {},
          "execution_count": 106
        }
      ]
    },
    {
      "cell_type": "code",
      "metadata": {
        "colab": {
          "base_uri": "https://localhost:8080/",
          "height": 414
        },
        "id": "VHzSWredmmO_",
        "outputId": "766500c5-2854-4a97-f9ac-a6c691b51f98"
      },
      "source": [
        "data"
      ],
      "id": "VHzSWredmmO_",
      "execution_count": 107,
      "outputs": [
        {
          "output_type": "execute_result",
          "data": {
            "text/html": [
              "<div>\n",
              "<style scoped>\n",
              "    .dataframe tbody tr th:only-of-type {\n",
              "        vertical-align: middle;\n",
              "    }\n",
              "\n",
              "    .dataframe tbody tr th {\n",
              "        vertical-align: top;\n",
              "    }\n",
              "\n",
              "    .dataframe thead th {\n",
              "        text-align: right;\n",
              "    }\n",
              "</style>\n",
              "<table border=\"1\" class=\"dataframe\">\n",
              "  <thead>\n",
              "    <tr style=\"text-align: right;\">\n",
              "      <th></th>\n",
              "      <th>Text</th>\n",
              "    </tr>\n",
              "  </thead>\n",
              "  <tbody>\n",
              "    <tr>\n",
              "      <th>0</th>\n",
              "      <td>How it started vs. how it’s going\\n\\nHappy ann...</td>\n",
              "    </tr>\n",
              "    <tr>\n",
              "      <th>1</th>\n",
              "      <td>Who else would LOVE to see the media relentles...</td>\n",
              "    </tr>\n",
              "    <tr>\n",
              "      <th>2</th>\n",
              "      <td>TAEIL of NCT &amp; rapper Lil Boi to feature in Ra...</td>\n",
              "    </tr>\n",
              "    <tr>\n",
              "      <th>3</th>\n",
              "      <td>RT @chartdata: All of @BTS_twt's Hot 100 #1’s:...</td>\n",
              "    </tr>\n",
              "    <tr>\n",
              "      <th>4</th>\n",
              "      <td>RT @AdamsCumbie: I love this! ?????? https://t...</td>\n",
              "    </tr>\n",
              "    <tr>\n",
              "      <th>...</th>\n",
              "      <td>...</td>\n",
              "    </tr>\n",
              "    <tr>\n",
              "      <th>1561</th>\n",
              "      <td>Will Tiffany and Charles be able to save their...</td>\n",
              "    </tr>\n",
              "    <tr>\n",
              "      <th>1562</th>\n",
              "      <td>RT @JoelOsteen: I love the fact that Jesus bro...</td>\n",
              "    </tr>\n",
              "    <tr>\n",
              "      <th>1563</th>\n",
              "      <td>RT @joe_txtmoa: Bighit is no longer holding ba...</td>\n",
              "    </tr>\n",
              "    <tr>\n",
              "      <th>1564</th>\n",
              "      <td>love love love ?? https://t.co/bdULnKntMC</td>\n",
              "    </tr>\n",
              "    <tr>\n",
              "      <th>1565</th>\n",
              "      <td>Happy birthday to the most beautiful man I hav...</td>\n",
              "    </tr>\n",
              "  </tbody>\n",
              "</table>\n",
              "<p>1566 rows × 1 columns</p>\n",
              "</div>"
            ],
            "text/plain": [
              "                                                   Text\n",
              "0     How it started vs. how it’s going\\n\\nHappy ann...\n",
              "1     Who else would LOVE to see the media relentles...\n",
              "2     TAEIL of NCT & rapper Lil Boi to feature in Ra...\n",
              "3     RT @chartdata: All of @BTS_twt's Hot 100 #1’s:...\n",
              "4     RT @AdamsCumbie: I love this! ?????? https://t...\n",
              "...                                                 ...\n",
              "1561  Will Tiffany and Charles be able to save their...\n",
              "1562  RT @JoelOsteen: I love the fact that Jesus bro...\n",
              "1563  RT @joe_txtmoa: Bighit is no longer holding ba...\n",
              "1564          love love love ?? https://t.co/bdULnKntMC\n",
              "1565  Happy birthday to the most beautiful man I hav...\n",
              "\n",
              "[1566 rows x 1 columns]"
            ]
          },
          "metadata": {},
          "execution_count": 107
        }
      ]
    },
    {
      "cell_type": "code",
      "metadata": {
        "id": "l-VA_y1alPje"
      },
      "source": [
        "dataframe = pd.concat([data, df], ignore_index= True, axis= 1)\n"
      ],
      "id": "l-VA_y1alPje",
      "execution_count": 108,
      "outputs": []
    },
    {
      "cell_type": "code",
      "metadata": {
        "colab": {
          "base_uri": "https://localhost:8080/"
        },
        "id": "NdgzsVy_obde",
        "outputId": "6629693f-5da2-4484-a4cd-307d19a90658"
      },
      "source": [
        "dataframe[1]"
      ],
      "id": "NdgzsVy_obde",
      "execution_count": 109,
      "outputs": [
        {
          "output_type": "execute_result",
          "data": {
            "text/plain": [
              "0       How it started vs. how it’s going Happy annive...\n",
              "1       Who else would LOVE to see the media relentles...\n",
              "2       TAEIL of NCT & rapper Lil Boi to feature in Ra...\n",
              "3       All of Hot 100 Dynamite Savage Love (Laxed - S...\n",
              "4                                     I love this! ??????\n",
              "                              ...                        \n",
              "1561    Will Tiffany and Charles be able to save their...\n",
              "1562    I love the fact that Jesus broke the rules to ...\n",
              "1563    Bighit is no longer holding back!!! Theyre fla...\n",
              "1564                                    love love love ??\n",
              "1565    Happy birthday to the most beautiful man I hav...\n",
              "Name: 1, Length: 1566, dtype: object"
            ]
          },
          "metadata": {},
          "execution_count": 109
        }
      ]
    },
    {
      "cell_type": "code",
      "metadata": {
        "id": "vRylW_zgoD_N"
      },
      "source": [
        "dataframe.rename(columns={0: 'text', 1: 'text_clean'}, inplace= True)"
      ],
      "id": "vRylW_zgoD_N",
      "execution_count": 110,
      "outputs": []
    },
    {
      "cell_type": "code",
      "metadata": {
        "colab": {
          "base_uri": "https://localhost:8080/"
        },
        "id": "cD52GAJOooP5",
        "outputId": "d55db502-8d72-44c6-f40c-9d5237fb3c4a"
      },
      "source": [
        "dataframe['text_clean']"
      ],
      "id": "cD52GAJOooP5",
      "execution_count": 111,
      "outputs": [
        {
          "output_type": "execute_result",
          "data": {
            "text/plain": [
              "0       How it started vs. how it’s going Happy annive...\n",
              "1       Who else would LOVE to see the media relentles...\n",
              "2       TAEIL of NCT & rapper Lil Boi to feature in Ra...\n",
              "3       All of Hot 100 Dynamite Savage Love (Laxed - S...\n",
              "4                                     I love this! ??????\n",
              "                              ...                        \n",
              "1561    Will Tiffany and Charles be able to save their...\n",
              "1562    I love the fact that Jesus broke the rules to ...\n",
              "1563    Bighit is no longer holding back!!! Theyre fla...\n",
              "1564                                    love love love ??\n",
              "1565    Happy birthday to the most beautiful man I hav...\n",
              "Name: text_clean, Length: 1566, dtype: object"
            ]
          },
          "metadata": {},
          "execution_count": 111
        }
      ]
    },
    {
      "cell_type": "code",
      "metadata": {
        "colab": {
          "base_uri": "https://localhost:8080/"
        },
        "id": "plo3GTgalaKB",
        "outputId": "b2435a81-6ca9-41b9-82c9-431c075f226e"
      },
      "source": [
        "dataframe['text_clean'].str.extractall(r'(\\#\\w+)')[0].value_counts()"
      ],
      "id": "plo3GTgalaKB",
      "execution_count": 112,
      "outputs": [
        {
          "output_type": "execute_result",
          "data": {
            "text/plain": [
              "#Likee                   1\n",
              "#EmmaRose                1\n",
              "#glutenfree              1\n",
              "#Chihuly                 1\n",
              "#ForceFactor             1\n",
              "#JOSHUA                  1\n",
              "#GirlsPlanet999          1\n",
              "#lovemeharder            1\n",
              "#HappyOctoberBirthday    1\n",
              "Name: 0, dtype: int64"
            ]
          },
          "metadata": {},
          "execution_count": 112
        }
      ]
    },
    {
      "cell_type": "markdown",
      "metadata": {
        "id": "e2fa9c67"
      },
      "source": [
        "#### Remove punctuations"
      ],
      "id": "e2fa9c67"
    },
    {
      "cell_type": "code",
      "metadata": {
        "colab": {
          "base_uri": "https://localhost:8080/",
          "height": 35
        },
        "id": "795a5df4",
        "outputId": "4e07d34f-301a-48f7-9c8b-54fb335a6311"
      },
      "source": [
        "string.punctuation"
      ],
      "id": "795a5df4",
      "execution_count": 113,
      "outputs": [
        {
          "output_type": "execute_result",
          "data": {
            "application/vnd.google.colaboratory.intrinsic+json": {
              "type": "string"
            },
            "text/plain": [
              "'!\"#$%&\\'()*+,-./:;<=>?@[\\\\]^_`{|}~'"
            ]
          },
          "metadata": {},
          "execution_count": 113
        }
      ]
    },
    {
      "cell_type": "code",
      "metadata": {
        "id": "3146f48f"
      },
      "source": [
        "def drop_punctuation(text):\n",
        "    text = ''.join([char for char in text if char not in string.punctuation])\n",
        "    text = re.sub('[0-9]+', '', text)\n",
        "    \n",
        "    return text"
      ],
      "id": "3146f48f",
      "execution_count": 114,
      "outputs": []
    },
    {
      "cell_type": "code",
      "metadata": {
        "colab": {
          "base_uri": "https://localhost:8080/",
          "height": 202
        },
        "id": "9ad8644a",
        "outputId": "fc0a63e4-4cba-4a19-96b3-54560d9172d6"
      },
      "source": [
        "dataframe['Text_punct'] = dataframe['text_clean'].apply(lambda i: drop_punctuation(i))\n",
        "dataframe.head()"
      ],
      "id": "9ad8644a",
      "execution_count": 115,
      "outputs": [
        {
          "output_type": "execute_result",
          "data": {
            "text/html": [
              "<div>\n",
              "<style scoped>\n",
              "    .dataframe tbody tr th:only-of-type {\n",
              "        vertical-align: middle;\n",
              "    }\n",
              "\n",
              "    .dataframe tbody tr th {\n",
              "        vertical-align: top;\n",
              "    }\n",
              "\n",
              "    .dataframe thead th {\n",
              "        text-align: right;\n",
              "    }\n",
              "</style>\n",
              "<table border=\"1\" class=\"dataframe\">\n",
              "  <thead>\n",
              "    <tr style=\"text-align: right;\">\n",
              "      <th></th>\n",
              "      <th>text</th>\n",
              "      <th>text_clean</th>\n",
              "      <th>Text_punct</th>\n",
              "    </tr>\n",
              "  </thead>\n",
              "  <tbody>\n",
              "    <tr>\n",
              "      <th>0</th>\n",
              "      <td>How it started vs. how it’s going\\n\\nHappy ann...</td>\n",
              "      <td>How it started vs. how it’s going Happy annive...</td>\n",
              "      <td>How it started vs how it’s going Happy anniver...</td>\n",
              "    </tr>\n",
              "    <tr>\n",
              "      <th>1</th>\n",
              "      <td>Who else would LOVE to see the media relentles...</td>\n",
              "      <td>Who else would LOVE to see the media relentles...</td>\n",
              "      <td>Who else would LOVE to see the media relentles...</td>\n",
              "    </tr>\n",
              "    <tr>\n",
              "      <th>2</th>\n",
              "      <td>TAEIL of NCT &amp; rapper Lil Boi to feature in Ra...</td>\n",
              "      <td>TAEIL of NCT &amp; rapper Lil Boi to feature in Ra...</td>\n",
              "      <td>TAEIL of NCT  rapper Lil Boi to feature in Rai...</td>\n",
              "    </tr>\n",
              "    <tr>\n",
              "      <th>3</th>\n",
              "      <td>RT @chartdata: All of @BTS_twt's Hot 100 #1’s:...</td>\n",
              "      <td>All of Hot 100 Dynamite Savage Love (Laxed - S...</td>\n",
              "      <td>All of Hot  Dynamite Savage Love Laxed  Siren ...</td>\n",
              "    </tr>\n",
              "    <tr>\n",
              "      <th>4</th>\n",
              "      <td>RT @AdamsCumbie: I love this! ?????? https://t...</td>\n",
              "      <td>I love this! ??????</td>\n",
              "      <td>I love this</td>\n",
              "    </tr>\n",
              "  </tbody>\n",
              "</table>\n",
              "</div>"
            ],
            "text/plain": [
              "                                                text  ...                                         Text_punct\n",
              "0  How it started vs. how it’s going\\n\\nHappy ann...  ...  How it started vs how it’s going Happy anniver...\n",
              "1  Who else would LOVE to see the media relentles...  ...  Who else would LOVE to see the media relentles...\n",
              "2  TAEIL of NCT & rapper Lil Boi to feature in Ra...  ...  TAEIL of NCT  rapper Lil Boi to feature in Rai...\n",
              "3  RT @chartdata: All of @BTS_twt's Hot 100 #1’s:...  ...  All of Hot  Dynamite Savage Love Laxed  Siren ...\n",
              "4  RT @AdamsCumbie: I love this! ?????? https://t...  ...                                       I love this \n",
              "\n",
              "[5 rows x 3 columns]"
            ]
          },
          "metadata": {},
          "execution_count": 115
        }
      ]
    },
    {
      "cell_type": "markdown",
      "metadata": {
        "id": "6bb41e51"
      },
      "source": [
        "#### Tokenization - Converting a sentence into list of words"
      ],
      "id": "6bb41e51"
    },
    {
      "cell_type": "code",
      "metadata": {
        "id": "e9c6eb20"
      },
      "source": [
        "def token(text):\n",
        "    text = re.split('\\W+', text)\n",
        "    return text"
      ],
      "id": "e9c6eb20",
      "execution_count": 116,
      "outputs": []
    },
    {
      "cell_type": "code",
      "metadata": {
        "colab": {
          "base_uri": "https://localhost:8080/",
          "height": 285
        },
        "id": "f4f30ace",
        "outputId": "e8563ec4-7706-4bfd-b747-b632d3fbe90d"
      },
      "source": [
        "dataframe['Text_token'] = dataframe['Text_punct'].apply(lambda i: token(i.lower()))\n",
        "dataframe.head()"
      ],
      "id": "f4f30ace",
      "execution_count": 117,
      "outputs": [
        {
          "output_type": "execute_result",
          "data": {
            "text/html": [
              "<div>\n",
              "<style scoped>\n",
              "    .dataframe tbody tr th:only-of-type {\n",
              "        vertical-align: middle;\n",
              "    }\n",
              "\n",
              "    .dataframe tbody tr th {\n",
              "        vertical-align: top;\n",
              "    }\n",
              "\n",
              "    .dataframe thead th {\n",
              "        text-align: right;\n",
              "    }\n",
              "</style>\n",
              "<table border=\"1\" class=\"dataframe\">\n",
              "  <thead>\n",
              "    <tr style=\"text-align: right;\">\n",
              "      <th></th>\n",
              "      <th>text</th>\n",
              "      <th>text_clean</th>\n",
              "      <th>Text_punct</th>\n",
              "      <th>Text_token</th>\n",
              "    </tr>\n",
              "  </thead>\n",
              "  <tbody>\n",
              "    <tr>\n",
              "      <th>0</th>\n",
              "      <td>How it started vs. how it’s going\\n\\nHappy ann...</td>\n",
              "      <td>How it started vs. how it’s going Happy annive...</td>\n",
              "      <td>How it started vs how it’s going Happy anniver...</td>\n",
              "      <td>[how, it, started, vs, how, it, s, going, happ...</td>\n",
              "    </tr>\n",
              "    <tr>\n",
              "      <th>1</th>\n",
              "      <td>Who else would LOVE to see the media relentles...</td>\n",
              "      <td>Who else would LOVE to see the media relentles...</td>\n",
              "      <td>Who else would LOVE to see the media relentles...</td>\n",
              "      <td>[who, else, would, love, to, see, the, media, ...</td>\n",
              "    </tr>\n",
              "    <tr>\n",
              "      <th>2</th>\n",
              "      <td>TAEIL of NCT &amp; rapper Lil Boi to feature in Ra...</td>\n",
              "      <td>TAEIL of NCT &amp; rapper Lil Boi to feature in Ra...</td>\n",
              "      <td>TAEIL of NCT  rapper Lil Boi to feature in Rai...</td>\n",
              "      <td>[taeil, of, nct, rapper, lil, boi, to, feature...</td>\n",
              "    </tr>\n",
              "    <tr>\n",
              "      <th>3</th>\n",
              "      <td>RT @chartdata: All of @BTS_twt's Hot 100 #1’s:...</td>\n",
              "      <td>All of Hot 100 Dynamite Savage Love (Laxed - S...</td>\n",
              "      <td>All of Hot  Dynamite Savage Love Laxed  Siren ...</td>\n",
              "      <td>[all, of, hot, dynamite, savage, love, laxed, ...</td>\n",
              "    </tr>\n",
              "    <tr>\n",
              "      <th>4</th>\n",
              "      <td>RT @AdamsCumbie: I love this! ?????? https://t...</td>\n",
              "      <td>I love this! ??????</td>\n",
              "      <td>I love this</td>\n",
              "      <td>[i, love, this, ]</td>\n",
              "    </tr>\n",
              "  </tbody>\n",
              "</table>\n",
              "</div>"
            ],
            "text/plain": [
              "                                                text  ...                                         Text_token\n",
              "0  How it started vs. how it’s going\\n\\nHappy ann...  ...  [how, it, started, vs, how, it, s, going, happ...\n",
              "1  Who else would LOVE to see the media relentles...  ...  [who, else, would, love, to, see, the, media, ...\n",
              "2  TAEIL of NCT & rapper Lil Boi to feature in Ra...  ...  [taeil, of, nct, rapper, lil, boi, to, feature...\n",
              "3  RT @chartdata: All of @BTS_twt's Hot 100 #1’s:...  ...  [all, of, hot, dynamite, savage, love, laxed, ...\n",
              "4  RT @AdamsCumbie: I love this! ?????? https://t...  ...                                  [i, love, this, ]\n",
              "\n",
              "[5 rows x 4 columns]"
            ]
          },
          "metadata": {},
          "execution_count": 117
        }
      ]
    },
    {
      "cell_type": "markdown",
      "metadata": {
        "id": "a8047842"
      },
      "source": [
        "#### Remove stopwords"
      ],
      "id": "a8047842"
    },
    {
      "cell_type": "code",
      "metadata": {
        "colab": {
          "base_uri": "https://localhost:8080/"
        },
        "id": "200eb4ea",
        "outputId": "ce957f01-40b5-4385-cc59-3ef976d2d09a"
      },
      "source": [
        "nltk.download('stopwords')\n",
        "nltk.download('wordnet')"
      ],
      "id": "200eb4ea",
      "execution_count": 118,
      "outputs": [
        {
          "output_type": "stream",
          "name": "stdout",
          "text": [
            "[nltk_data] Downloading package stopwords to /root/nltk_data...\n",
            "[nltk_data]   Unzipping corpora/stopwords.zip.\n",
            "[nltk_data] Downloading package wordnet to /root/nltk_data...\n",
            "[nltk_data]   Unzipping corpora/wordnet.zip.\n"
          ]
        },
        {
          "output_type": "execute_result",
          "data": {
            "text/plain": [
              "True"
            ]
          },
          "metadata": {},
          "execution_count": 118
        }
      ]
    },
    {
      "cell_type": "code",
      "metadata": {
        "colab": {
          "base_uri": "https://localhost:8080/"
        },
        "id": "d079f3ae",
        "outputId": "97f8da63-3c08-4367-940f-870173fa501b"
      },
      "source": [
        "stopword = nltk.corpus.stopwords.words('english')\n",
        "stopword"
      ],
      "id": "d079f3ae",
      "execution_count": 119,
      "outputs": [
        {
          "output_type": "execute_result",
          "data": {
            "text/plain": [
              "['i',\n",
              " 'me',\n",
              " 'my',\n",
              " 'myself',\n",
              " 'we',\n",
              " 'our',\n",
              " 'ours',\n",
              " 'ourselves',\n",
              " 'you',\n",
              " \"you're\",\n",
              " \"you've\",\n",
              " \"you'll\",\n",
              " \"you'd\",\n",
              " 'your',\n",
              " 'yours',\n",
              " 'yourself',\n",
              " 'yourselves',\n",
              " 'he',\n",
              " 'him',\n",
              " 'his',\n",
              " 'himself',\n",
              " 'she',\n",
              " \"she's\",\n",
              " 'her',\n",
              " 'hers',\n",
              " 'herself',\n",
              " 'it',\n",
              " \"it's\",\n",
              " 'its',\n",
              " 'itself',\n",
              " 'they',\n",
              " 'them',\n",
              " 'their',\n",
              " 'theirs',\n",
              " 'themselves',\n",
              " 'what',\n",
              " 'which',\n",
              " 'who',\n",
              " 'whom',\n",
              " 'this',\n",
              " 'that',\n",
              " \"that'll\",\n",
              " 'these',\n",
              " 'those',\n",
              " 'am',\n",
              " 'is',\n",
              " 'are',\n",
              " 'was',\n",
              " 'were',\n",
              " 'be',\n",
              " 'been',\n",
              " 'being',\n",
              " 'have',\n",
              " 'has',\n",
              " 'had',\n",
              " 'having',\n",
              " 'do',\n",
              " 'does',\n",
              " 'did',\n",
              " 'doing',\n",
              " 'a',\n",
              " 'an',\n",
              " 'the',\n",
              " 'and',\n",
              " 'but',\n",
              " 'if',\n",
              " 'or',\n",
              " 'because',\n",
              " 'as',\n",
              " 'until',\n",
              " 'while',\n",
              " 'of',\n",
              " 'at',\n",
              " 'by',\n",
              " 'for',\n",
              " 'with',\n",
              " 'about',\n",
              " 'against',\n",
              " 'between',\n",
              " 'into',\n",
              " 'through',\n",
              " 'during',\n",
              " 'before',\n",
              " 'after',\n",
              " 'above',\n",
              " 'below',\n",
              " 'to',\n",
              " 'from',\n",
              " 'up',\n",
              " 'down',\n",
              " 'in',\n",
              " 'out',\n",
              " 'on',\n",
              " 'off',\n",
              " 'over',\n",
              " 'under',\n",
              " 'again',\n",
              " 'further',\n",
              " 'then',\n",
              " 'once',\n",
              " 'here',\n",
              " 'there',\n",
              " 'when',\n",
              " 'where',\n",
              " 'why',\n",
              " 'how',\n",
              " 'all',\n",
              " 'any',\n",
              " 'both',\n",
              " 'each',\n",
              " 'few',\n",
              " 'more',\n",
              " 'most',\n",
              " 'other',\n",
              " 'some',\n",
              " 'such',\n",
              " 'no',\n",
              " 'nor',\n",
              " 'not',\n",
              " 'only',\n",
              " 'own',\n",
              " 'same',\n",
              " 'so',\n",
              " 'than',\n",
              " 'too',\n",
              " 'very',\n",
              " 's',\n",
              " 't',\n",
              " 'can',\n",
              " 'will',\n",
              " 'just',\n",
              " 'don',\n",
              " \"don't\",\n",
              " 'should',\n",
              " \"should've\",\n",
              " 'now',\n",
              " 'd',\n",
              " 'll',\n",
              " 'm',\n",
              " 'o',\n",
              " 're',\n",
              " 've',\n",
              " 'y',\n",
              " 'ain',\n",
              " 'aren',\n",
              " \"aren't\",\n",
              " 'couldn',\n",
              " \"couldn't\",\n",
              " 'didn',\n",
              " \"didn't\",\n",
              " 'doesn',\n",
              " \"doesn't\",\n",
              " 'hadn',\n",
              " \"hadn't\",\n",
              " 'hasn',\n",
              " \"hasn't\",\n",
              " 'haven',\n",
              " \"haven't\",\n",
              " 'isn',\n",
              " \"isn't\",\n",
              " 'ma',\n",
              " 'mightn',\n",
              " \"mightn't\",\n",
              " 'mustn',\n",
              " \"mustn't\",\n",
              " 'needn',\n",
              " \"needn't\",\n",
              " 'shan',\n",
              " \"shan't\",\n",
              " 'shouldn',\n",
              " \"shouldn't\",\n",
              " 'wasn',\n",
              " \"wasn't\",\n",
              " 'weren',\n",
              " \"weren't\",\n",
              " 'won',\n",
              " \"won't\",\n",
              " 'wouldn',\n",
              " \"wouldn't\"]"
            ]
          },
          "metadata": {},
          "execution_count": 119
        }
      ]
    },
    {
      "cell_type": "code",
      "metadata": {
        "id": "fa91d0f6"
      },
      "source": [
        "def remove_stopwords(text):\n",
        "    text = [word for word in text if word not in stopword]\n",
        "    return text"
      ],
      "id": "fa91d0f6",
      "execution_count": 120,
      "outputs": []
    },
    {
      "cell_type": "code",
      "metadata": {
        "colab": {
          "base_uri": "https://localhost:8080/",
          "height": 285
        },
        "id": "ee18fa5b",
        "outputId": "9ba6bbdc-edb6-4b6a-e97a-4ee0c9c55705"
      },
      "source": [
        "dataframe['Text_stopword'] = dataframe['Text_token'].apply(lambda i: remove_stopwords(i))\n",
        "dataframe.head()"
      ],
      "id": "ee18fa5b",
      "execution_count": 121,
      "outputs": [
        {
          "output_type": "execute_result",
          "data": {
            "text/html": [
              "<div>\n",
              "<style scoped>\n",
              "    .dataframe tbody tr th:only-of-type {\n",
              "        vertical-align: middle;\n",
              "    }\n",
              "\n",
              "    .dataframe tbody tr th {\n",
              "        vertical-align: top;\n",
              "    }\n",
              "\n",
              "    .dataframe thead th {\n",
              "        text-align: right;\n",
              "    }\n",
              "</style>\n",
              "<table border=\"1\" class=\"dataframe\">\n",
              "  <thead>\n",
              "    <tr style=\"text-align: right;\">\n",
              "      <th></th>\n",
              "      <th>text</th>\n",
              "      <th>text_clean</th>\n",
              "      <th>Text_punct</th>\n",
              "      <th>Text_token</th>\n",
              "      <th>Text_stopword</th>\n",
              "    </tr>\n",
              "  </thead>\n",
              "  <tbody>\n",
              "    <tr>\n",
              "      <th>0</th>\n",
              "      <td>How it started vs. how it’s going\\n\\nHappy ann...</td>\n",
              "      <td>How it started vs. how it’s going Happy annive...</td>\n",
              "      <td>How it started vs how it’s going Happy anniver...</td>\n",
              "      <td>[how, it, started, vs, how, it, s, going, happ...</td>\n",
              "      <td>[started, vs, going, happy, anniversary, barac...</td>\n",
              "    </tr>\n",
              "    <tr>\n",
              "      <th>1</th>\n",
              "      <td>Who else would LOVE to see the media relentles...</td>\n",
              "      <td>Who else would LOVE to see the media relentles...</td>\n",
              "      <td>Who else would LOVE to see the media relentles...</td>\n",
              "      <td>[who, else, would, love, to, see, the, media, ...</td>\n",
              "      <td>[else, would, love, see, media, relentlessly, ...</td>\n",
              "    </tr>\n",
              "    <tr>\n",
              "      <th>2</th>\n",
              "      <td>TAEIL of NCT &amp; rapper Lil Boi to feature in Ra...</td>\n",
              "      <td>TAEIL of NCT &amp; rapper Lil Boi to feature in Ra...</td>\n",
              "      <td>TAEIL of NCT  rapper Lil Boi to feature in Rai...</td>\n",
              "      <td>[taeil, of, nct, rapper, lil, boi, to, feature...</td>\n",
              "      <td>[taeil, nct, rapper, lil, boi, feature, raiden...</td>\n",
              "    </tr>\n",
              "    <tr>\n",
              "      <th>3</th>\n",
              "      <td>RT @chartdata: All of @BTS_twt's Hot 100 #1’s:...</td>\n",
              "      <td>All of Hot 100 Dynamite Savage Love (Laxed - S...</td>\n",
              "      <td>All of Hot  Dynamite Savage Love Laxed  Siren ...</td>\n",
              "      <td>[all, of, hot, dynamite, savage, love, laxed, ...</td>\n",
              "      <td>[hot, dynamite, savage, love, laxed, siren, be...</td>\n",
              "    </tr>\n",
              "    <tr>\n",
              "      <th>4</th>\n",
              "      <td>RT @AdamsCumbie: I love this! ?????? https://t...</td>\n",
              "      <td>I love this! ??????</td>\n",
              "      <td>I love this</td>\n",
              "      <td>[i, love, this, ]</td>\n",
              "      <td>[love, ]</td>\n",
              "    </tr>\n",
              "  </tbody>\n",
              "</table>\n",
              "</div>"
            ],
            "text/plain": [
              "                                                text  ...                                      Text_stopword\n",
              "0  How it started vs. how it’s going\\n\\nHappy ann...  ...  [started, vs, going, happy, anniversary, barac...\n",
              "1  Who else would LOVE to see the media relentles...  ...  [else, would, love, see, media, relentlessly, ...\n",
              "2  TAEIL of NCT & rapper Lil Boi to feature in Ra...  ...  [taeil, nct, rapper, lil, boi, feature, raiden...\n",
              "3  RT @chartdata: All of @BTS_twt's Hot 100 #1’s:...  ...  [hot, dynamite, savage, love, laxed, siren, be...\n",
              "4  RT @AdamsCumbie: I love this! ?????? https://t...  ...                                           [love, ]\n",
              "\n",
              "[5 rows x 5 columns]"
            ]
          },
          "metadata": {},
          "execution_count": 121
        }
      ]
    },
    {
      "cell_type": "markdown",
      "metadata": {
        "id": "878cdd1f"
      },
      "source": [
        "#### Lammatization/ Stemming - Tranforming any form of a word to its root word"
      ],
      "id": "878cdd1f"
    },
    {
      "cell_type": "code",
      "metadata": {
        "id": "f4759f1b"
      },
      "source": [
        "poster = nltk.PorterStemmer()"
      ],
      "id": "f4759f1b",
      "execution_count": 122,
      "outputs": []
    },
    {
      "cell_type": "code",
      "metadata": {
        "id": "2a40bd93"
      },
      "source": [
        "def stemming(text):\n",
        "    text = [poster.stem(word) for word in text]\n",
        "    return text"
      ],
      "id": "2a40bd93",
      "execution_count": 123,
      "outputs": []
    },
    {
      "cell_type": "code",
      "metadata": {
        "colab": {
          "base_uri": "https://localhost:8080/",
          "height": 285
        },
        "id": "22383b21",
        "outputId": "0161f44d-b781-4cb3-d491-aa80b6c75982"
      },
      "source": [
        "dataframe['Text_stemming'] = dataframe['Text_stopword'].apply(lambda i: stemming(i))\n",
        "dataframe.head()"
      ],
      "id": "22383b21",
      "execution_count": 124,
      "outputs": [
        {
          "output_type": "execute_result",
          "data": {
            "text/html": [
              "<div>\n",
              "<style scoped>\n",
              "    .dataframe tbody tr th:only-of-type {\n",
              "        vertical-align: middle;\n",
              "    }\n",
              "\n",
              "    .dataframe tbody tr th {\n",
              "        vertical-align: top;\n",
              "    }\n",
              "\n",
              "    .dataframe thead th {\n",
              "        text-align: right;\n",
              "    }\n",
              "</style>\n",
              "<table border=\"1\" class=\"dataframe\">\n",
              "  <thead>\n",
              "    <tr style=\"text-align: right;\">\n",
              "      <th></th>\n",
              "      <th>text</th>\n",
              "      <th>text_clean</th>\n",
              "      <th>Text_punct</th>\n",
              "      <th>Text_token</th>\n",
              "      <th>Text_stopword</th>\n",
              "      <th>Text_stemming</th>\n",
              "    </tr>\n",
              "  </thead>\n",
              "  <tbody>\n",
              "    <tr>\n",
              "      <th>0</th>\n",
              "      <td>How it started vs. how it’s going\\n\\nHappy ann...</td>\n",
              "      <td>How it started vs. how it’s going Happy annive...</td>\n",
              "      <td>How it started vs how it’s going Happy anniver...</td>\n",
              "      <td>[how, it, started, vs, how, it, s, going, happ...</td>\n",
              "      <td>[started, vs, going, happy, anniversary, barac...</td>\n",
              "      <td>[start, vs, go, happi, anniversari, barack, lo...</td>\n",
              "    </tr>\n",
              "    <tr>\n",
              "      <th>1</th>\n",
              "      <td>Who else would LOVE to see the media relentles...</td>\n",
              "      <td>Who else would LOVE to see the media relentles...</td>\n",
              "      <td>Who else would LOVE to see the media relentles...</td>\n",
              "      <td>[who, else, would, love, to, see, the, media, ...</td>\n",
              "      <td>[else, would, love, see, media, relentlessly, ...</td>\n",
              "      <td>[els, would, love, see, media, relentlessli, q...</td>\n",
              "    </tr>\n",
              "    <tr>\n",
              "      <th>2</th>\n",
              "      <td>TAEIL of NCT &amp; rapper Lil Boi to feature in Ra...</td>\n",
              "      <td>TAEIL of NCT &amp; rapper Lil Boi to feature in Ra...</td>\n",
              "      <td>TAEIL of NCT  rapper Lil Boi to feature in Rai...</td>\n",
              "      <td>[taeil, of, nct, rapper, lil, boi, to, feature...</td>\n",
              "      <td>[taeil, nct, rapper, lil, boi, feature, raiden...</td>\n",
              "      <td>[taeil, nct, rapper, lil, boi, featur, raiden,...</td>\n",
              "    </tr>\n",
              "    <tr>\n",
              "      <th>3</th>\n",
              "      <td>RT @chartdata: All of @BTS_twt's Hot 100 #1’s:...</td>\n",
              "      <td>All of Hot 100 Dynamite Savage Love (Laxed - S...</td>\n",
              "      <td>All of Hot  Dynamite Savage Love Laxed  Siren ...</td>\n",
              "      <td>[all, of, hot, dynamite, savage, love, laxed, ...</td>\n",
              "      <td>[hot, dynamite, savage, love, laxed, siren, be...</td>\n",
              "      <td>[hot, dynamit, savag, love, lax, siren, beat, ...</td>\n",
              "    </tr>\n",
              "    <tr>\n",
              "      <th>4</th>\n",
              "      <td>RT @AdamsCumbie: I love this! ?????? https://t...</td>\n",
              "      <td>I love this! ??????</td>\n",
              "      <td>I love this</td>\n",
              "      <td>[i, love, this, ]</td>\n",
              "      <td>[love, ]</td>\n",
              "      <td>[love, ]</td>\n",
              "    </tr>\n",
              "  </tbody>\n",
              "</table>\n",
              "</div>"
            ],
            "text/plain": [
              "                                                text  ...                                      Text_stemming\n",
              "0  How it started vs. how it’s going\\n\\nHappy ann...  ...  [start, vs, go, happi, anniversari, barack, lo...\n",
              "1  Who else would LOVE to see the media relentles...  ...  [els, would, love, see, media, relentlessli, q...\n",
              "2  TAEIL of NCT & rapper Lil Boi to feature in Ra...  ...  [taeil, nct, rapper, lil, boi, featur, raiden,...\n",
              "3  RT @chartdata: All of @BTS_twt's Hot 100 #1’s:...  ...  [hot, dynamit, savag, love, lax, siren, beat, ...\n",
              "4  RT @AdamsCumbie: I love this! ?????? https://t...  ...                                           [love, ]\n",
              "\n",
              "[5 rows x 6 columns]"
            ]
          },
          "metadata": {},
          "execution_count": 124
        }
      ]
    },
    {
      "cell_type": "code",
      "metadata": {
        "id": "cc525bd4"
      },
      "source": [
        "wordnet = nltk.WordNetLemmatizer()"
      ],
      "id": "cc525bd4",
      "execution_count": 125,
      "outputs": []
    },
    {
      "cell_type": "code",
      "metadata": {
        "id": "7a38c936"
      },
      "source": [
        "def lemmatizer(text):\n",
        "    text = [wordnet.lemmatize(word) for word in text]\n",
        "    return text"
      ],
      "id": "7a38c936",
      "execution_count": 126,
      "outputs": []
    },
    {
      "cell_type": "code",
      "metadata": {
        "colab": {
          "base_uri": "https://localhost:8080/",
          "height": 368
        },
        "id": "d365f07c",
        "outputId": "c8190a2b-0a05-4be6-cc7f-bd91f1876519"
      },
      "source": [
        "dataframe['Text_lammetization'] = dataframe['Text_stopword'].apply(lambda i: lemmatizer(i))\n",
        "dataframe.head()"
      ],
      "id": "d365f07c",
      "execution_count": 127,
      "outputs": [
        {
          "output_type": "execute_result",
          "data": {
            "text/html": [
              "<div>\n",
              "<style scoped>\n",
              "    .dataframe tbody tr th:only-of-type {\n",
              "        vertical-align: middle;\n",
              "    }\n",
              "\n",
              "    .dataframe tbody tr th {\n",
              "        vertical-align: top;\n",
              "    }\n",
              "\n",
              "    .dataframe thead th {\n",
              "        text-align: right;\n",
              "    }\n",
              "</style>\n",
              "<table border=\"1\" class=\"dataframe\">\n",
              "  <thead>\n",
              "    <tr style=\"text-align: right;\">\n",
              "      <th></th>\n",
              "      <th>text</th>\n",
              "      <th>text_clean</th>\n",
              "      <th>Text_punct</th>\n",
              "      <th>Text_token</th>\n",
              "      <th>Text_stopword</th>\n",
              "      <th>Text_stemming</th>\n",
              "      <th>Text_lammetization</th>\n",
              "    </tr>\n",
              "  </thead>\n",
              "  <tbody>\n",
              "    <tr>\n",
              "      <th>0</th>\n",
              "      <td>How it started vs. how it’s going\\n\\nHappy ann...</td>\n",
              "      <td>How it started vs. how it’s going Happy annive...</td>\n",
              "      <td>How it started vs how it’s going Happy anniver...</td>\n",
              "      <td>[how, it, started, vs, how, it, s, going, happ...</td>\n",
              "      <td>[started, vs, going, happy, anniversary, barac...</td>\n",
              "      <td>[start, vs, go, happi, anniversari, barack, lo...</td>\n",
              "      <td>[started, v, going, happy, anniversary, barack...</td>\n",
              "    </tr>\n",
              "    <tr>\n",
              "      <th>1</th>\n",
              "      <td>Who else would LOVE to see the media relentles...</td>\n",
              "      <td>Who else would LOVE to see the media relentles...</td>\n",
              "      <td>Who else would LOVE to see the media relentles...</td>\n",
              "      <td>[who, else, would, love, to, see, the, media, ...</td>\n",
              "      <td>[else, would, love, see, media, relentlessly, ...</td>\n",
              "      <td>[els, would, love, see, media, relentlessli, q...</td>\n",
              "      <td>[else, would, love, see, medium, relentlessly,...</td>\n",
              "    </tr>\n",
              "    <tr>\n",
              "      <th>2</th>\n",
              "      <td>TAEIL of NCT &amp; rapper Lil Boi to feature in Ra...</td>\n",
              "      <td>TAEIL of NCT &amp; rapper Lil Boi to feature in Ra...</td>\n",
              "      <td>TAEIL of NCT  rapper Lil Boi to feature in Rai...</td>\n",
              "      <td>[taeil, of, nct, rapper, lil, boi, to, feature...</td>\n",
              "      <td>[taeil, nct, rapper, lil, boi, feature, raiden...</td>\n",
              "      <td>[taeil, nct, rapper, lil, boi, featur, raiden,...</td>\n",
              "      <td>[taeil, nct, rapper, lil, boi, feature, raiden...</td>\n",
              "    </tr>\n",
              "    <tr>\n",
              "      <th>3</th>\n",
              "      <td>RT @chartdata: All of @BTS_twt's Hot 100 #1’s:...</td>\n",
              "      <td>All of Hot 100 Dynamite Savage Love (Laxed - S...</td>\n",
              "      <td>All of Hot  Dynamite Savage Love Laxed  Siren ...</td>\n",
              "      <td>[all, of, hot, dynamite, savage, love, laxed, ...</td>\n",
              "      <td>[hot, dynamite, savage, love, laxed, siren, be...</td>\n",
              "      <td>[hot, dynamit, savag, love, lax, siren, beat, ...</td>\n",
              "      <td>[hot, dynamite, savage, love, laxed, siren, be...</td>\n",
              "    </tr>\n",
              "    <tr>\n",
              "      <th>4</th>\n",
              "      <td>RT @AdamsCumbie: I love this! ?????? https://t...</td>\n",
              "      <td>I love this! ??????</td>\n",
              "      <td>I love this</td>\n",
              "      <td>[i, love, this, ]</td>\n",
              "      <td>[love, ]</td>\n",
              "      <td>[love, ]</td>\n",
              "      <td>[love, ]</td>\n",
              "    </tr>\n",
              "  </tbody>\n",
              "</table>\n",
              "</div>"
            ],
            "text/plain": [
              "                                                text  ...                                 Text_lammetization\n",
              "0  How it started vs. how it’s going\\n\\nHappy ann...  ...  [started, v, going, happy, anniversary, barack...\n",
              "1  Who else would LOVE to see the media relentles...  ...  [else, would, love, see, medium, relentlessly,...\n",
              "2  TAEIL of NCT & rapper Lil Boi to feature in Ra...  ...  [taeil, nct, rapper, lil, boi, feature, raiden...\n",
              "3  RT @chartdata: All of @BTS_twt's Hot 100 #1’s:...  ...  [hot, dynamite, savage, love, laxed, siren, be...\n",
              "4  RT @AdamsCumbie: I love this! ?????? https://t...  ...                                           [love, ]\n",
              "\n",
              "[5 rows x 7 columns]"
            ]
          },
          "metadata": {},
          "execution_count": 127
        }
      ]
    },
    {
      "cell_type": "code",
      "metadata": {
        "id": "nl26q5oC1WQc"
      },
      "source": [
        "def removewhitespace(text):\n",
        "    text = [word for word in text]\n",
        "    \n",
        "    return text"
      ],
      "id": "nl26q5oC1WQc",
      "execution_count": 128,
      "outputs": []
    },
    {
      "cell_type": "code",
      "metadata": {
        "id": "e7f04899"
      },
      "source": [
        "def clean_text(text):\n",
        "    text = \"\".join([word.lower() for word in text if word not in string.punctuation]) # remove puntuation\n",
        "    text = re.sub('[0-9]+', '', text)\n",
        "    text = re.split('\\W+', text)    # tokenization\n",
        "    text = [poster.stem(word) for word in text if word not in stopword]  # remove stopwords and stemming\n",
        "    text = [wordnet.lemmatize(word) for word in text] #lemmatizer\n",
        "    return text"
      ],
      "id": "e7f04899",
      "execution_count": 129,
      "outputs": []
    },
    {
      "cell_type": "code",
      "metadata": {
        "colab": {
          "base_uri": "https://localhost:8080/"
        },
        "id": "14e1395e",
        "outputId": "34e4c450-e136-4053-b513-2e52b550b92b"
      },
      "source": [
        "countVectorizer = CountVectorizer(analyzer=clean_text) \n",
        "countVector = countVectorizer.fit_transform(dataframe['Text_lammetization'])\n",
        "print('{} Number of Text has {} words'.format(countVector.shape[0], countVector.shape[1]))\n",
        "#print(countVectorizer.get_feature_names())"
      ],
      "id": "14e1395e",
      "execution_count": 130,
      "outputs": [
        {
          "output_type": "stream",
          "name": "stdout",
          "text": [
            "1566 Number of Text has 1425 words\n"
          ]
        }
      ]
    },
    {
      "cell_type": "code",
      "metadata": {
        "colab": {
          "base_uri": "https://localhost:8080/",
          "height": 352
        },
        "id": "6zCUEnFm6ltj",
        "outputId": "e4c2d263-06eb-46c9-ad83-b0965bdf02a5"
      },
      "source": [
        "dataframe.tail()"
      ],
      "id": "6zCUEnFm6ltj",
      "execution_count": 131,
      "outputs": [
        {
          "output_type": "execute_result",
          "data": {
            "text/html": [
              "<div>\n",
              "<style scoped>\n",
              "    .dataframe tbody tr th:only-of-type {\n",
              "        vertical-align: middle;\n",
              "    }\n",
              "\n",
              "    .dataframe tbody tr th {\n",
              "        vertical-align: top;\n",
              "    }\n",
              "\n",
              "    .dataframe thead th {\n",
              "        text-align: right;\n",
              "    }\n",
              "</style>\n",
              "<table border=\"1\" class=\"dataframe\">\n",
              "  <thead>\n",
              "    <tr style=\"text-align: right;\">\n",
              "      <th></th>\n",
              "      <th>text</th>\n",
              "      <th>text_clean</th>\n",
              "      <th>Text_punct</th>\n",
              "      <th>Text_token</th>\n",
              "      <th>Text_stopword</th>\n",
              "      <th>Text_stemming</th>\n",
              "      <th>Text_lammetization</th>\n",
              "    </tr>\n",
              "  </thead>\n",
              "  <tbody>\n",
              "    <tr>\n",
              "      <th>1561</th>\n",
              "      <td>Will Tiffany and Charles be able to save their...</td>\n",
              "      <td>Will Tiffany and Charles be able to save their...</td>\n",
              "      <td>Will Tiffany and Charles be able to save their...</td>\n",
              "      <td>[will, tiffany, and, charles, be, able, to, sa...</td>\n",
              "      <td>[tiffany, charles, able, save, love, lose, ete...</td>\n",
              "      <td>[tiffani, charl, abl, save, love, lose, etern,...</td>\n",
              "      <td>[tiffany, charles, able, save, love, lose, ete...</td>\n",
              "    </tr>\n",
              "    <tr>\n",
              "      <th>1562</th>\n",
              "      <td>RT @JoelOsteen: I love the fact that Jesus bro...</td>\n",
              "      <td>I love the fact that Jesus broke the rules to ...</td>\n",
              "      <td>I love the fact that Jesus broke the rules to ...</td>\n",
              "      <td>[i, love, the, fact, that, jesus, broke, the, ...</td>\n",
              "      <td>[love, fact, jesus, broke, rules, reach, peopl...</td>\n",
              "      <td>[love, fact, jesu, broke, rule, reach, peopl, ...</td>\n",
              "      <td>[love, fact, jesus, broke, rule, reach, people...</td>\n",
              "    </tr>\n",
              "    <tr>\n",
              "      <th>1563</th>\n",
              "      <td>RT @joe_txtmoa: Bighit is no longer holding ba...</td>\n",
              "      <td>Bighit is no longer holding back!!! Theyre fla...</td>\n",
              "      <td>Bighit is no longer holding back Theyre flaunt...</td>\n",
              "      <td>[bighit, is, no, longer, holding, back, theyre...</td>\n",
              "      <td>[bighit, longer, holding, back, theyre, flaunt...</td>\n",
              "      <td>[bighit, longer, hold, back, theyr, flaunt, fl...</td>\n",
              "      <td>[bighit, longer, holding, back, theyre, flaunt...</td>\n",
              "    </tr>\n",
              "    <tr>\n",
              "      <th>1564</th>\n",
              "      <td>love love love ?? https://t.co/bdULnKntMC</td>\n",
              "      <td>love love love ??</td>\n",
              "      <td>love love love</td>\n",
              "      <td>[love, love, love, ]</td>\n",
              "      <td>[love, love, love, ]</td>\n",
              "      <td>[love, love, love, ]</td>\n",
              "      <td>[love, love, love, ]</td>\n",
              "    </tr>\n",
              "    <tr>\n",
              "      <th>1565</th>\n",
              "      <td>Happy birthday to the most beautiful man I hav...</td>\n",
              "      <td>Happy birthday to the most beautiful man I hav...</td>\n",
              "      <td>Happy birthday to the most beautiful man I hav...</td>\n",
              "      <td>[happy, birthday, to, the, most, beautiful, ma...</td>\n",
              "      <td>[happy, birthday, beautiful, man, ever, seen, ...</td>\n",
              "      <td>[happi, birthday, beauti, man, ever, seen, ins...</td>\n",
              "      <td>[happy, birthday, beautiful, man, ever, seen, ...</td>\n",
              "    </tr>\n",
              "  </tbody>\n",
              "</table>\n",
              "</div>"
            ],
            "text/plain": [
              "                                                   text  ...                                 Text_lammetization\n",
              "1561  Will Tiffany and Charles be able to save their...  ...  [tiffany, charles, able, save, love, lose, ete...\n",
              "1562  RT @JoelOsteen: I love the fact that Jesus bro...  ...  [love, fact, jesus, broke, rule, reach, people...\n",
              "1563  RT @joe_txtmoa: Bighit is no longer holding ba...  ...  [bighit, longer, holding, back, theyre, flaunt...\n",
              "1564          love love love ?? https://t.co/bdULnKntMC  ...                               [love, love, love, ]\n",
              "1565  Happy birthday to the most beautiful man I hav...  ...  [happy, birthday, beautiful, man, ever, seen, ...\n",
              "\n",
              "[5 rows x 7 columns]"
            ]
          },
          "metadata": {},
          "execution_count": 131
        }
      ]
    },
    {
      "cell_type": "code",
      "metadata": {
        "colab": {
          "base_uri": "https://localhost:8080/"
        },
        "id": "RUhdAVzL6bId",
        "outputId": "786e561b-3294-4b7b-87e9-f4a7bac6d5fb"
      },
      "source": [
        "dataframe.shape"
      ],
      "id": "RUhdAVzL6bId",
      "execution_count": 132,
      "outputs": [
        {
          "output_type": "execute_result",
          "data": {
            "text/plain": [
              "(1566, 7)"
            ]
          },
          "metadata": {},
          "execution_count": 132
        }
      ]
    },
    {
      "cell_type": "code",
      "metadata": {
        "id": "0ab7984a"
      },
      "source": [
        "# datafram.to_csv('df_final3.csv', encoding=\"utf-8-sig\")"
      ],
      "id": "0ab7984a",
      "execution_count": 178,
      "outputs": []
    },
    {
      "cell_type": "markdown",
      "metadata": {
        "id": "UB1VKq20tWfM"
      },
      "source": [
        "### Labelled dataset"
      ],
      "id": "UB1VKq20tWfM"
    },
    {
      "cell_type": "code",
      "metadata": {
        "colab": {
          "base_uri": "https://localhost:8080/",
          "height": 385
        },
        "id": "lUQJjW64GrGU",
        "outputId": "7ac8cb1d-a186-4878-f99e-9fe3ec200072"
      },
      "source": [
        "df = pd.read_csv(\"depression_dataset2.csv\", encoding='cp1252')\n",
        "df.head()"
      ],
      "id": "lUQJjW64GrGU",
      "execution_count": 140,
      "outputs": [
        {
          "output_type": "execute_result",
          "data": {
            "text/html": [
              "<div>\n",
              "<style scoped>\n",
              "    .dataframe tbody tr th:only-of-type {\n",
              "        vertical-align: middle;\n",
              "    }\n",
              "\n",
              "    .dataframe tbody tr th {\n",
              "        vertical-align: top;\n",
              "    }\n",
              "\n",
              "    .dataframe thead th {\n",
              "        text-align: right;\n",
              "    }\n",
              "</style>\n",
              "<table border=\"1\" class=\"dataframe\">\n",
              "  <thead>\n",
              "    <tr style=\"text-align: right;\">\n",
              "      <th></th>\n",
              "      <th>text</th>\n",
              "      <th>text_clean</th>\n",
              "      <th>Text_punct</th>\n",
              "      <th>Text_token</th>\n",
              "      <th>Text_stopword</th>\n",
              "      <th>Text_stemming</th>\n",
              "      <th>Text_lammetization</th>\n",
              "      <th>target</th>\n",
              "      <th>class</th>\n",
              "    </tr>\n",
              "  </thead>\n",
              "  <tbody>\n",
              "    <tr>\n",
              "      <th>0</th>\n",
              "      <td>Ten years ago today I defended my dissertation...</td>\n",
              "      <td>Ten years ago today I defended my dissertation...</td>\n",
              "      <td>Ten years ago today I defended my dissertation...</td>\n",
              "      <td>['ten', 'years', 'ago', 'today', 'i', 'defende...</td>\n",
              "      <td>['ten', 'years', 'ago', 'today', 'defended', '...</td>\n",
              "      <td>['ten', 'year', 'ago', 'today', 'defend', 'dis...</td>\n",
              "      <td>['ten', 'year', 'ago', 'today', 'defended', 'd...</td>\n",
              "      <td>-1</td>\n",
              "      <td>non-depressed</td>\n",
              "    </tr>\n",
              "    <tr>\n",
              "      <th>1</th>\n",
              "      <td>@BlushAndBurbon Yay! I'm glad you enjoyed it. ...</td>\n",
              "      <td>Yay! I'm glad you enjoyed it. ?? It's been dif...</td>\n",
              "      <td>Yay Im glad you enjoyed it Its been difficult ...</td>\n",
              "      <td>['yay', 'im', 'glad', 'you', 'enjoyed', 'it', ...</td>\n",
              "      <td>['yay', 'im', 'glad', 'enjoyed', 'difficult', ...</td>\n",
              "      <td>['yay', 'im', 'glad', 'enjoy', 'difficult', 'f...</td>\n",
              "      <td>['yay', 'im', 'glad', 'enjoyed', 'difficult', ...</td>\n",
              "      <td>-1</td>\n",
              "      <td>non-depressed</td>\n",
              "    </tr>\n",
              "    <tr>\n",
              "      <th>2</th>\n",
              "      <td>There’s a new American Hysteria and it’s about...</td>\n",
              "      <td>There’s a new American Hysteria and it’s about...</td>\n",
              "      <td>There’s a new American Hysteria and it’s about...</td>\n",
              "      <td>['there', 's', 'a', 'new', 'american', 'hyster...</td>\n",
              "      <td>['new', 'american', 'hysteria', 'elsagate', 'a...</td>\n",
              "      <td>['new', 'american', 'hysteria', 'elsag', 'amou...</td>\n",
              "      <td>['new', 'american', 'hysteria', 'elsagate', 'a...</td>\n",
              "      <td>-1</td>\n",
              "      <td>non-depressed</td>\n",
              "    </tr>\n",
              "    <tr>\n",
              "      <th>3</th>\n",
              "      <td>RT @TZulfahmi3: @xmemwallet Great projects sir...</td>\n",
              "      <td>Great projects sir glad to join. It will be su...</td>\n",
              "      <td>Great projects sir glad to join It will be suc...</td>\n",
              "      <td>['great', 'projects', 'sir', 'glad', 'to', 'jo...</td>\n",
              "      <td>['great', 'projects', 'sir', 'glad', 'join', '...</td>\n",
              "      <td>['great', 'project', 'sir', 'glad', 'join', 's...</td>\n",
              "      <td>['great', 'project', 'sir', 'glad', 'join', 's...</td>\n",
              "      <td>-1</td>\n",
              "      <td>non-depressed</td>\n",
              "    </tr>\n",
              "    <tr>\n",
              "      <th>4</th>\n",
              "      <td>RT @epiphanyyxv: You can miss a person everyda...</td>\n",
              "      <td>You can miss a person everyday and still be gl...</td>\n",
              "      <td>You can miss a person everyday and still be gl...</td>\n",
              "      <td>['you', 'can', 'miss', 'a', 'person', 'everyda...</td>\n",
              "      <td>['miss', 'person', 'everyday', 'still', 'glad'...</td>\n",
              "      <td>['miss', 'person', 'everyday', 'still', 'glad'...</td>\n",
              "      <td>['miss', 'person', 'everyday', 'still', 'glad'...</td>\n",
              "      <td>-1</td>\n",
              "      <td>non-depressed</td>\n",
              "    </tr>\n",
              "  </tbody>\n",
              "</table>\n",
              "</div>"
            ],
            "text/plain": [
              "                                                text  ...          class\n",
              "0  Ten years ago today I defended my dissertation...  ...  non-depressed\n",
              "1  @BlushAndBurbon Yay! I'm glad you enjoyed it. ...  ...  non-depressed\n",
              "2  There’s a new American Hysteria and it’s about...  ...  non-depressed\n",
              "3  RT @TZulfahmi3: @xmemwallet Great projects sir...  ...  non-depressed\n",
              "4  RT @epiphanyyxv: You can miss a person everyda...  ...  non-depressed\n",
              "\n",
              "[5 rows x 9 columns]"
            ]
          },
          "metadata": {},
          "execution_count": 140
        }
      ]
    },
    {
      "cell_type": "code",
      "metadata": {
        "colab": {
          "base_uri": "https://localhost:8080/",
          "height": 312
        },
        "id": "mOI0mD_4HQt0",
        "outputId": "0759faee-c76d-481d-c701-c7d9266d8fe5"
      },
      "source": [
        "g = sns.countplot(x='class', data=df)\n",
        "g.set_title('Target variable distribution in the Dataset')"
      ],
      "id": "mOI0mD_4HQt0",
      "execution_count": 141,
      "outputs": [
        {
          "output_type": "execute_result",
          "data": {
            "text/plain": [
              "Text(0.5, 1.0, 'Target variable distribution in the Dataset')"
            ]
          },
          "metadata": {},
          "execution_count": 141
        },
        {
          "output_type": "display_data",
          "data": {
            "image/png": "[encoded data removed]",
            "text/plain": [
              "<Figure size 432x288 with 1 Axes>"
            ]
          },
          "metadata": {
            "needs_background": "light"
          }
        }
      ]
    },
    {
      "cell_type": "code",
      "metadata": {
        "id": "dbaf6136"
      },
      "source": [
        "#conda install -c conda-forge wordcloud=1.6.0 "
      ],
      "id": "dbaf6136",
      "execution_count": 142,
      "outputs": []
    },
    {
      "cell_type": "code",
      "metadata": {
        "id": "Tyf_obIoHyxD"
      },
      "source": [
        "data_depress = df[df['class'] == 'depressed']\n",
        "data_non_depress = df[df['class'] == 'non-depressed']\n",
        "data_undefine = df[df['class'] == 'undefined']"
      ],
      "id": "Tyf_obIoHyxD",
      "execution_count": 143,
      "outputs": []
    },
    {
      "cell_type": "code",
      "metadata": {
        "colab": {
          "base_uri": "https://localhost:8080/",
          "height": 435
        },
        "id": "36f0WCIpHyqm",
        "outputId": "60db6d3c-48ed-4d62-e72d-dcf37ed02325"
      },
      "source": [
        "data_depress.head()"
      ],
      "id": "36f0WCIpHyqm",
      "execution_count": 144,
      "outputs": [
        {
          "output_type": "execute_result",
          "data": {
            "text/html": [
              "<div>\n",
              "<style scoped>\n",
              "    .dataframe tbody tr th:only-of-type {\n",
              "        vertical-align: middle;\n",
              "    }\n",
              "\n",
              "    .dataframe tbody tr th {\n",
              "        vertical-align: top;\n",
              "    }\n",
              "\n",
              "    .dataframe thead th {\n",
              "        text-align: right;\n",
              "    }\n",
              "</style>\n",
              "<table border=\"1\" class=\"dataframe\">\n",
              "  <thead>\n",
              "    <tr style=\"text-align: right;\">\n",
              "      <th></th>\n",
              "      <th>text</th>\n",
              "      <th>text_clean</th>\n",
              "      <th>Text_punct</th>\n",
              "      <th>Text_token</th>\n",
              "      <th>Text_stopword</th>\n",
              "      <th>Text_stemming</th>\n",
              "      <th>Text_lammetization</th>\n",
              "      <th>target</th>\n",
              "      <th>class</th>\n",
              "    </tr>\n",
              "  </thead>\n",
              "  <tbody>\n",
              "    <tr>\n",
              "      <th>659</th>\n",
              "      <td>RT @spoogyoogie: got depressed so i drew demon...</td>\n",
              "      <td>got depressed so i drew demons</td>\n",
              "      <td>got depressed so i drew demons</td>\n",
              "      <td>['got', 'depressed', 'so', 'i', 'drew', 'demons']</td>\n",
              "      <td>['got', 'depressed', 'drew', 'demons']</td>\n",
              "      <td>['got', 'depress', 'drew', 'demon']</td>\n",
              "      <td>['got', 'depressed', 'drew', 'demon']</td>\n",
              "      <td>1</td>\n",
              "      <td>depressed</td>\n",
              "    </tr>\n",
              "    <tr>\n",
              "      <th>660</th>\n",
              "      <td>@mikearm71 No, just depressed. Each score and ...</td>\n",
              "      <td>No, just depressed. Each score and defensive s...</td>\n",
              "      <td>No just depressed Each score and defensive sta...</td>\n",
              "      <td>['no', 'just', 'depressed', 'each', 'score', '...</td>\n",
              "      <td>['depressed', 'score', 'defensive', 'stand', '...</td>\n",
              "      <td>['depress', 'score', 'defens', 'stand', 'like'...</td>\n",
              "      <td>['depressed', 'score', 'defensive', 'stand', '...</td>\n",
              "      <td>1</td>\n",
              "      <td>depressed</td>\n",
              "    </tr>\n",
              "    <tr>\n",
              "      <th>661</th>\n",
              "      <td>I don’t know maybe just need do ??meth like fa...</td>\n",
              "      <td>I don’t know maybe just need do ??meth like fa...</td>\n",
              "      <td>I don’t know maybe just need do meth like fat ...</td>\n",
              "      <td>['i', 'don', 't', 'know', 'maybe', 'just', 'ne...</td>\n",
              "      <td>['know', 'maybe', 'need', 'meth', 'like', 'fat...</td>\n",
              "      <td>['know', 'mayb', 'need', 'meth', 'like', 'fat'...</td>\n",
              "      <td>['know', 'maybe', 'need', 'meth', 'like', 'fat...</td>\n",
              "      <td>1</td>\n",
              "      <td>depressed</td>\n",
              "    </tr>\n",
              "    <tr>\n",
              "      <th>662</th>\n",
              "      <td>In a weird place. Not really depressed, just u...</td>\n",
              "      <td>In a weird place. Not really depressed, just u...</td>\n",
              "      <td>In a weird place Not really depressed just uns...</td>\n",
              "      <td>['in', 'a', 'weird', 'place', 'not', 'really',...</td>\n",
              "      <td>['weird', 'place', 'really', 'depressed', 'uns...</td>\n",
              "      <td>['weird', 'place', 'realli', 'depress', 'unset...</td>\n",
              "      <td>['weird', 'place', 'really', 'depressed', 'uns...</td>\n",
              "      <td>1</td>\n",
              "      <td>depressed</td>\n",
              "    </tr>\n",
              "    <tr>\n",
              "      <th>663</th>\n",
              "      <td>I'm incredibly depressed right now, I just wan...</td>\n",
              "      <td>I'm incredibly depressed right now, I just wan...</td>\n",
              "      <td>Im incredibly depressed right now I just want ...</td>\n",
              "      <td>['im', 'incredibly', 'depressed', 'right', 'no...</td>\n",
              "      <td>['im', 'incredibly', 'depressed', 'right', 'wa...</td>\n",
              "      <td>['im', 'incred', 'depress', 'right', 'want', '...</td>\n",
              "      <td>['im', 'incredibly', 'depressed', 'right', 'wa...</td>\n",
              "      <td>1</td>\n",
              "      <td>depressed</td>\n",
              "    </tr>\n",
              "  </tbody>\n",
              "</table>\n",
              "</div>"
            ],
            "text/plain": [
              "                                                  text  ...      class\n",
              "659  RT @spoogyoogie: got depressed so i drew demon...  ...  depressed\n",
              "660  @mikearm71 No, just depressed. Each score and ...  ...  depressed\n",
              "661  I don’t know maybe just need do ??meth like fa...  ...  depressed\n",
              "662  In a weird place. Not really depressed, just u...  ...  depressed\n",
              "663  I'm incredibly depressed right now, I just wan...  ...  depressed\n",
              "\n",
              "[5 rows x 9 columns]"
            ]
          },
          "metadata": {},
          "execution_count": 144
        }
      ]
    },
    {
      "cell_type": "markdown",
      "metadata": {
        "id": "7b2e3f1a"
      },
      "source": [
        "#### Wordcloud Visualization "
      ],
      "id": "7b2e3f1a"
    },
    {
      "cell_type": "code",
      "metadata": {
        "colab": {
          "base_uri": "https://localhost:8080/",
          "height": 198
        },
        "id": "6CpJYBIAGanX",
        "outputId": "a46ec50d-05f5-425a-cd07-53c31ccfd4e9"
      },
      "source": [
        "text1 = data_depress['Text_punct'].values\n",
        "\n",
        "wordcloud = WordCloud().generate(str(text1))\n",
        "\n",
        "plt.imshow(wordcloud)\n",
        "\n",
        "plt.axis(\"off\")\n",
        "\n",
        "plt.show()"
      ],
      "id": "6CpJYBIAGanX",
      "execution_count": 145,
      "outputs": [
        {
          "output_type": "display_data",
          "data": {
            "image/png": "[encoded data removed]",
            "text/plain": [
              "<Figure size 432x288 with 1 Axes>"
            ]
          },
          "metadata": {
            "needs_background": "light"
          }
        }
      ]
    },
    {
      "cell_type": "code",
      "metadata": {
        "colab": {
          "base_uri": "https://localhost:8080/",
          "height": 198
        },
        "id": "q9rmvTmvIDs6",
        "outputId": "4dad99dc-c921-4a90-b9d2-b99fe401ab61"
      },
      "source": [
        "text3 = data_non_depress['Text_punct'].values\n",
        "\n",
        "wordcloud = WordCloud().generate(str(text3))\n",
        "\n",
        "plt.imshow(wordcloud)\n",
        "\n",
        "plt.axis(\"off\")\n",
        "\n",
        "plt.show()"
      ],
      "id": "q9rmvTmvIDs6",
      "execution_count": 146,
      "outputs": [
        {
          "output_type": "display_data",
          "data": {
            "image/png": "[encoded data removed]",
            "text/plain": [
              "<Figure size 432x288 with 1 Axes>"
            ]
          },
          "metadata": {
            "needs_background": "light"
          }
        }
      ]
    },
    {
      "cell_type": "code",
      "metadata": {
        "colab": {
          "base_uri": "https://localhost:8080/",
          "height": 198
        },
        "id": "1yiNR7gDIH8P",
        "outputId": "f095b3ff-d55f-4e3f-e566-005110e8ce3a"
      },
      "source": [
        "text2 = data_undefine['Text_punct'].values\n",
        "\n",
        "wordcloud = WordCloud().generate(str(text2))\n",
        "\n",
        "plt.imshow(wordcloud)\n",
        "\n",
        "plt.axis(\"off\")\n",
        "\n",
        "plt.show()"
      ],
      "id": "1yiNR7gDIH8P",
      "execution_count": 147,
      "outputs": [
        {
          "output_type": "display_data",
          "data": {
            "image/png": "[encoded data removed]",
            "text/plain": [
              "<Figure size 432x288 with 1 Axes>"
            ]
          },
          "metadata": {
            "needs_background": "light"
          }
        }
      ]
    },
    {
      "cell_type": "code",
      "metadata": {
        "colab": {
          "base_uri": "https://localhost:8080/",
          "height": 352
        },
        "id": "YC45YqnTIgnT",
        "outputId": "17b19505-2318-4b66-a0c5-affd18e41c3b"
      },
      "source": [
        "df = df.sample(frac=1).reset_index(drop=True)\n",
        "df.head()"
      ],
      "id": "YC45YqnTIgnT",
      "execution_count": 148,
      "outputs": [
        {
          "output_type": "execute_result",
          "data": {
            "text/html": [
              "<div>\n",
              "<style scoped>\n",
              "    .dataframe tbody tr th:only-of-type {\n",
              "        vertical-align: middle;\n",
              "    }\n",
              "\n",
              "    .dataframe tbody tr th {\n",
              "        vertical-align: top;\n",
              "    }\n",
              "\n",
              "    .dataframe thead th {\n",
              "        text-align: right;\n",
              "    }\n",
              "</style>\n",
              "<table border=\"1\" class=\"dataframe\">\n",
              "  <thead>\n",
              "    <tr style=\"text-align: right;\">\n",
              "      <th></th>\n",
              "      <th>text</th>\n",
              "      <th>text_clean</th>\n",
              "      <th>Text_punct</th>\n",
              "      <th>Text_token</th>\n",
              "      <th>Text_stopword</th>\n",
              "      <th>Text_stemming</th>\n",
              "      <th>Text_lammetization</th>\n",
              "      <th>target</th>\n",
              "      <th>class</th>\n",
              "    </tr>\n",
              "  </thead>\n",
              "  <tbody>\n",
              "    <tr>\n",
              "      <th>0</th>\n",
              "      <td>I have a feeling soon news will come Aryan kha...</td>\n",
              "      <td>I have a feeling soon news will come Aryan kha...</td>\n",
              "      <td>I have a feeling soon news will come Aryan kha...</td>\n",
              "      <td>['i', 'have', 'a', 'feeling', 'soon', 'news', ...</td>\n",
              "      <td>['feeling', 'soon', 'news', 'come', 'aryan', '...</td>\n",
              "      <td>['feel', 'soon', 'news', 'come', 'aryan', 'kha...</td>\n",
              "      <td>['feeling', 'soon', 'news', 'come', 'aryan', '...</td>\n",
              "      <td>-1</td>\n",
              "      <td>non-depressed</td>\n",
              "    </tr>\n",
              "    <tr>\n",
              "      <th>1</th>\n",
              "      <td>I wish i could just die die die die die die di...</td>\n",
              "      <td>I wish i could just die die die die die die di...</td>\n",
              "      <td>I wish i could just die die die die die die di...</td>\n",
              "      <td>['i', 'wish', 'i', 'could', 'just', 'die', 'di...</td>\n",
              "      <td>['wish', 'could', 'die', 'die', 'die', 'die', ...</td>\n",
              "      <td>['wish', 'could', 'die', 'die', 'die', 'die', ...</td>\n",
              "      <td>['wish', 'could', 'die', 'die', 'die', 'die', ...</td>\n",
              "      <td>1</td>\n",
              "      <td>depressed</td>\n",
              "    </tr>\n",
              "    <tr>\n",
              "      <th>2</th>\n",
              "      <td>she's so crazzzzzyyyyyy i love her /s https://...</td>\n",
              "      <td>she's so crazzzzzyyyyyy i love her /s</td>\n",
              "      <td>shes so crazzzzzyyyyyy i love her s</td>\n",
              "      <td>['shes', 'so', 'crazzzzzyyyyyy', 'i', 'love', ...</td>\n",
              "      <td>['shes', 'crazzzzzyyyyyy', 'love']</td>\n",
              "      <td>['she', 'crazzzzzyyyyyy', 'love']</td>\n",
              "      <td>['shes', 'crazzzzzyyyyyy', 'love']</td>\n",
              "      <td>-1</td>\n",
              "      <td>non-depressed</td>\n",
              "    </tr>\n",
              "    <tr>\n",
              "      <th>3</th>\n",
              "      <td>@englishfess_ Today I really cut my hair short...</td>\n",
              "      <td>Today I really cut my hair short like a boy. I...</td>\n",
              "      <td>Today I really cut my hair short like a boy I ...</td>\n",
              "      <td>['today', 'i', 'really', 'cut', 'my', 'hair', ...</td>\n",
              "      <td>['today', 'really', 'cut', 'hair', 'short', 'l...</td>\n",
              "      <td>['today', 'realli', 'cut', 'hair', 'short', 'l...</td>\n",
              "      <td>['today', 'really', 'cut', 'hair', 'short', 'l...</td>\n",
              "      <td>1</td>\n",
              "      <td>depressed</td>\n",
              "    </tr>\n",
              "    <tr>\n",
              "      <th>4</th>\n",
              "      <td>Depressed but well dressed</td>\n",
              "      <td>Depressed but well dressed</td>\n",
              "      <td>Depressed but well dressed</td>\n",
              "      <td>['depressed', 'but', 'well', 'dressed']</td>\n",
              "      <td>['depressed', 'well', 'dressed']</td>\n",
              "      <td>['depress', 'well', 'dress']</td>\n",
              "      <td>['depressed', 'well', 'dressed']</td>\n",
              "      <td>1</td>\n",
              "      <td>depressed</td>\n",
              "    </tr>\n",
              "  </tbody>\n",
              "</table>\n",
              "</div>"
            ],
            "text/plain": [
              "                                                text  ...          class\n",
              "0  I have a feeling soon news will come Aryan kha...  ...  non-depressed\n",
              "1  I wish i could just die die die die die die di...  ...      depressed\n",
              "2  she's so crazzzzzyyyyyy i love her /s https://...  ...  non-depressed\n",
              "3  @englishfess_ Today I really cut my hair short...  ...      depressed\n",
              "4                         Depressed but well dressed  ...      depressed\n",
              "\n",
              "[5 rows x 9 columns]"
            ]
          },
          "metadata": {},
          "execution_count": 148
        }
      ]
    },
    {
      "cell_type": "code",
      "metadata": {
        "id": "g5j0JLkdak8Q"
      },
      "source": [
        "X = df['Text_lammetization']\n",
        "Y = df['target']"
      ],
      "id": "g5j0JLkdak8Q",
      "execution_count": 149,
      "outputs": []
    },
    {
      "cell_type": "code",
      "metadata": {
        "id": "pRb1iERNMH8p"
      },
      "source": [
        "# Train Test split\n",
        "x_train, x_test, y_train, y_test = train_test_split(X, Y, test_size = 0.05, random_state=1)"
      ],
      "id": "pRb1iERNMH8p",
      "execution_count": 150,
      "outputs": []
    },
    {
      "cell_type": "markdown",
      "metadata": {
        "id": "6bkJirrBa6rL"
      },
      "source": [
        "### Transforming Dataset using TF-IDF Vectorizer"
      ],
      "id": "6bkJirrBa6rL"
    },
    {
      "cell_type": "code",
      "metadata": {
        "id": "pVkQrlTWa5hG"
      },
      "source": [
        "vectorizer = TfidfVectorizer(ngram_range=(1,2), max_features=50000)"
      ],
      "id": "pVkQrlTWa5hG",
      "execution_count": 151,
      "outputs": []
    },
    {
      "cell_type": "code",
      "metadata": {
        "colab": {
          "base_uri": "https://localhost:8080/"
        },
        "id": "7mLl9qlvbchU",
        "outputId": "00a2f80a-f836-4c77-b848-d62da8b83b8a"
      },
      "source": [
        "vectorizer.fit(x_train)\n",
        "print('No. of feature_words: ', len(vectorizer.get_feature_names()))"
      ],
      "id": "7mLl9qlvbchU",
      "execution_count": 152,
      "outputs": [
        {
          "output_type": "stream",
          "name": "stdout",
          "text": [
            "No. of feature_words:  12936\n"
          ]
        }
      ]
    },
    {
      "cell_type": "code",
      "metadata": {
        "id": "DeI5HHC8bUTQ"
      },
      "source": [
        "x_train = vectorizer.transform(x_train)\n",
        "x_test  = vectorizer.transform(x_test)"
      ],
      "id": "DeI5HHC8bUTQ",
      "execution_count": 153,
      "outputs": []
    },
    {
      "cell_type": "markdown",
      "metadata": {
        "id": "3TJ5_KlUjxNy"
      },
      "source": [
        "### Model"
      ],
      "id": "3TJ5_KlUjxNy"
    },
    {
      "cell_type": "code",
      "metadata": {
        "id": "VRiOgxxChVak"
      },
      "source": [
        "mnb = MultinomialNB()\n",
        "mnb.fit(x_train, y_train)\n",
        "y_pred2 = mnb.predict(x_test)"
      ],
      "id": "VRiOgxxChVak",
      "execution_count": 154,
      "outputs": []
    },
    {
      "cell_type": "code",
      "metadata": {
        "colab": {
          "base_uri": "https://localhost:8080/"
        },
        "id": "ZeTPMPGVirdI",
        "outputId": "57faeea3-4480-40e3-de9a-e0657b43eb59"
      },
      "source": [
        "print(f\"Accuracy = {metrics.accuracy_score(y_test, y_pred2)}\")\n",
        "print(f\"Confusion matrix:\\n {metrics.confusion_matrix(y_test, y_pred2)}\")\n",
        "print(metrics.classification_report(y_test, y_pred2))"
      ],
      "id": "ZeTPMPGVirdI",
      "execution_count": 169,
      "outputs": [
        {
          "output_type": "stream",
          "name": "stdout",
          "text": [
            "Accuracy = 0.7843137254901961\n",
            "Confusion matrix:\n",
            " [[23  0  1]\n",
            " [ 3  0  5]\n",
            " [ 2  0 17]]\n",
            "              precision    recall  f1-score   support\n",
            "\n",
            "          -1       0.82      0.96      0.88        24\n",
            "           0       0.00      0.00      0.00         8\n",
            "           1       0.74      0.89      0.81        19\n",
            "\n",
            "    accuracy                           0.78        51\n",
            "   macro avg       0.52      0.62      0.56        51\n",
            "weighted avg       0.66      0.78      0.72        51\n",
            "\n"
          ]
        },
        {
          "output_type": "stream",
          "name": "stderr",
          "text": [
            "/usr/local/lib/python3.7/dist-packages/sklearn/metrics/_classification.py:1272: UndefinedMetricWarning: Precision and F-score are ill-defined and being set to 0.0 in labels with no predicted samples. Use `zero_division` parameter to control this behavior.\n",
            "  _warn_prf(average, modifier, msg_start, len(result))\n"
          ]
        }
      ]
    },
    {
      "cell_type": "code",
      "metadata": {
        "colab": {
          "base_uri": "https://localhost:8080/",
          "height": 296
        },
        "id": "M3eXkHA7ARxC",
        "outputId": "2b4c3b8f-0469-416a-e0a1-9b539d781d98"
      },
      "source": [
        " from sklearn.metrics import plot_confusion_matrix\n",
        " plot_confusion_matrix(mnb, x_test, y_test)"
      ],
      "id": "M3eXkHA7ARxC",
      "execution_count": 179,
      "outputs": [
        {
          "output_type": "execute_result",
          "data": {
            "text/plain": [
              "<sklearn.metrics._plot.confusion_matrix.ConfusionMatrixDisplay at 0x7f2b20ee95d0>"
            ]
          },
          "metadata": {},
          "execution_count": 179
        },
        {
          "output_type": "display_data",
          "data": {
            "image/png": "[encoded data removed]",
            "text/plain": [
              "<Figure size 432x288 with 2 Axes>"
            ]
          },
          "metadata": {
            "needs_background": "light"
          }
        }
      ]
    },
    {
      "cell_type": "code",
      "metadata": {
        "colab": {
          "base_uri": "https://localhost:8080/"
        },
        "id": "lDgqv8HYk__E",
        "outputId": "a61d8a0a-09a4-41b8-fb49-24993c32aefd"
      },
      "source": [
        "# cross validation\n",
        "mnb_score = cross_val_score(mnb, x_train, y_train, cv=10)\n",
        "mnb_score\n"
      ],
      "id": "lDgqv8HYk__E",
      "execution_count": 156,
      "outputs": [
        {
          "output_type": "execute_result",
          "data": {
            "text/plain": [
              "array([0.77083333, 0.73958333, 0.73958333, 0.78125   , 0.77894737,\n",
              "       0.74736842, 0.76842105, 0.78947368, 0.71578947, 0.71578947])"
            ]
          },
          "metadata": {},
          "execution_count": 156
        }
      ]
    },
    {
      "cell_type": "markdown",
      "metadata": {
        "id": "xP55olmyoWcy"
      },
      "source": [
        "### Tunning Hyperparameter"
      ],
      "id": "xP55olmyoWcy"
    },
    {
      "cell_type": "code",
      "metadata": {
        "id": "7cw1VQp3n1qF"
      },
      "source": [
        "# transform predictor to vector\n",
        "x_vec = vectorizer.transform(X)"
      ],
      "id": "7cw1VQp3n1qF",
      "execution_count": 157,
      "outputs": []
    },
    {
      "cell_type": "code",
      "metadata": {
        "colab": {
          "base_uri": "https://localhost:8080/"
        },
        "id": "iryLHLAjgrof",
        "outputId": "0219310e-bfa3-4522-8cec-25f14cb4ad42"
      },
      "source": [
        "params = {'alpha': [0.01, 0.1, 0.5, 1.0, 10.0, ],\n",
        "         }\n",
        "\n",
        "multinomial_nb_grid = GridSearchCV(mnb, param_grid=params, n_jobs=-1, cv=5, verbose=5)\n",
        "multinomial_nb_grid.fit(x_vec,Y)\n",
        "\n",
        "print('Train Accuracy : ', multinomial_nb_grid.best_estimator_.score(x_train, y_train))\n",
        "print('Test Accuracy : ', multinomial_nb_grid.best_estimator_.score(x_test, y_test))\n",
        "print('Best Accuracy Through Grid Search : ', multinomial_nb_grid.best_score_)\n",
        "print('Best Parameters : ',multinomial_nb_grid.best_params_)"
      ],
      "id": "iryLHLAjgrof",
      "execution_count": 158,
      "outputs": [
        {
          "output_type": "stream",
          "name": "stdout",
          "text": [
            "Fitting 5 folds for each of 5 candidates, totalling 25 fits\n"
          ]
        },
        {
          "output_type": "stream",
          "name": "stderr",
          "text": [
            "[Parallel(n_jobs=-1)]: Using backend LokyBackend with 2 concurrent workers.\n"
          ]
        },
        {
          "output_type": "stream",
          "name": "stdout",
          "text": [
            "Train Accuracy :  0.9790356394129979\n",
            "Test Accuracy :  0.8823529411764706\n",
            "Best Accuracy Through Grid Search :  0.7681592039800995\n",
            "Best Parameters :  {'alpha': 0.5}\n"
          ]
        },
        {
          "output_type": "stream",
          "name": "stderr",
          "text": [
            "[Parallel(n_jobs=-1)]: Done  14 tasks      | elapsed:    1.2s\n",
            "[Parallel(n_jobs=-1)]: Done  22 out of  25 | elapsed:    1.2s remaining:    0.2s\n",
            "[Parallel(n_jobs=-1)]: Done  25 out of  25 | elapsed:    1.2s finished\n"
          ]
        }
      ]
    }
  ]
}